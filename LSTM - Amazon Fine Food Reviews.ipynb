{
 "cells": [
  {
   "cell_type": "code",
   "execution_count": 0,
   "metadata": {
    "colab": {},
    "colab_type": "code",
    "id": "37VohX03_vTE"
   },
   "outputs": [],
   "source": [
    "import sqlite3\n",
    "connection = sqlite3.connect('final.sqlite')\n"
   ]
  },
  {
   "cell_type": "code",
   "execution_count": 0,
   "metadata": {
    "colab": {},
    "colab_type": "code",
    "id": "AwStY-xy_v6A"
   },
   "outputs": [],
   "source": [
    "import pandas as pd\n",
    "import numpy as np\n",
    "import nltk\n",
    "final = pd.read_sql_query(\"\"\" SELECT * FROM Reviews \"\"\",connection)"
   ]
  },
  {
   "cell_type": "code",
   "execution_count": 3,
   "metadata": {
    "colab": {
     "base_uri": "https://localhost:8080/",
     "height": 643
    },
    "colab_type": "code",
    "id": "oGh-q7Qx_wIX",
    "outputId": "f3978a93-b703-4e7b-81a4-71fb8d3cb79b"
   },
   "outputs": [
    {
     "data": {
      "text/html": [
       "<div>\n",
       "<style scoped>\n",
       "    .dataframe tbody tr th:only-of-type {\n",
       "        vertical-align: middle;\n",
       "    }\n",
       "\n",
       "    .dataframe tbody tr th {\n",
       "        vertical-align: top;\n",
       "    }\n",
       "\n",
       "    .dataframe thead th {\n",
       "        text-align: right;\n",
       "    }\n",
       "</style>\n",
       "<table border=\"1\" class=\"dataframe\">\n",
       "  <thead>\n",
       "    <tr style=\"text-align: right;\">\n",
       "      <th></th>\n",
       "      <th>index</th>\n",
       "      <th>Id</th>\n",
       "      <th>ProductId</th>\n",
       "      <th>UserId</th>\n",
       "      <th>ProfileName</th>\n",
       "      <th>HelpfulnessNumerator</th>\n",
       "      <th>HelpfulnessDenominator</th>\n",
       "      <th>Score</th>\n",
       "      <th>Time</th>\n",
       "      <th>Summary</th>\n",
       "      <th>Text</th>\n",
       "      <th>UPDATEDTEXT</th>\n",
       "    </tr>\n",
       "  </thead>\n",
       "  <tbody>\n",
       "    <tr>\n",
       "      <th>0</th>\n",
       "      <td>22620</td>\n",
       "      <td>24750</td>\n",
       "      <td>2734888454</td>\n",
       "      <td>A13ISQV0U9GZIC</td>\n",
       "      <td>Sandikaye</td>\n",
       "      <td>1</td>\n",
       "      <td>1</td>\n",
       "      <td>0</td>\n",
       "      <td>1192060800</td>\n",
       "      <td>made in china</td>\n",
       "      <td>My dogs loves this chicken but its a product f...</td>\n",
       "      <td>dogs loves chicken product china wont buying a...</td>\n",
       "    </tr>\n",
       "    <tr>\n",
       "      <th>1</th>\n",
       "      <td>22621</td>\n",
       "      <td>24751</td>\n",
       "      <td>2734888454</td>\n",
       "      <td>A1C298ITT645B6</td>\n",
       "      <td>Hugh G. Pritchard</td>\n",
       "      <td>0</td>\n",
       "      <td>0</td>\n",
       "      <td>1</td>\n",
       "      <td>1195948800</td>\n",
       "      <td>Dog Lover Delites</td>\n",
       "      <td>Our dogs just love them.  I saw them in a pet ...</td>\n",
       "      <td>dogs love saw pet store tag attached regarding...</td>\n",
       "    </tr>\n",
       "    <tr>\n",
       "      <th>2</th>\n",
       "      <td>70677</td>\n",
       "      <td>76870</td>\n",
       "      <td>B00002N8SM</td>\n",
       "      <td>A19Q006CSFT011</td>\n",
       "      <td>Arlielle</td>\n",
       "      <td>0</td>\n",
       "      <td>0</td>\n",
       "      <td>0</td>\n",
       "      <td>1288396800</td>\n",
       "      <td>only one fruitfly stuck</td>\n",
       "      <td>I had an infestation of fruitflies, they were ...</td>\n",
       "      <td>infestation fruitflies literally everywhere fl...</td>\n",
       "    </tr>\n",
       "    <tr>\n",
       "      <th>3</th>\n",
       "      <td>70676</td>\n",
       "      <td>76869</td>\n",
       "      <td>B00002N8SM</td>\n",
       "      <td>A1FYH4S02BW7FN</td>\n",
       "      <td>wonderer</td>\n",
       "      <td>0</td>\n",
       "      <td>0</td>\n",
       "      <td>0</td>\n",
       "      <td>1290038400</td>\n",
       "      <td>Doesn't work!! Don't waste your money!!</td>\n",
       "      <td>Worst product I have gotten in long time. Woul...</td>\n",
       "      <td>worst product gotten long time would rate no s...</td>\n",
       "    </tr>\n",
       "    <tr>\n",
       "      <th>4</th>\n",
       "      <td>70675</td>\n",
       "      <td>76868</td>\n",
       "      <td>B00002N8SM</td>\n",
       "      <td>AUE8TB5VHS6ZV</td>\n",
       "      <td>eyeofthestorm</td>\n",
       "      <td>0</td>\n",
       "      <td>0</td>\n",
       "      <td>0</td>\n",
       "      <td>1306972800</td>\n",
       "      <td>A big rip off</td>\n",
       "      <td>I wish I'd read the reviews before making this...</td>\n",
       "      <td>wish would read reviews making purchase basica...</td>\n",
       "    </tr>\n",
       "  </tbody>\n",
       "</table>\n",
       "</div>"
      ],
      "text/plain": [
       "   index  ...                                        UPDATEDTEXT\n",
       "0  22620  ...  dogs loves chicken product china wont buying a...\n",
       "1  22621  ...  dogs love saw pet store tag attached regarding...\n",
       "2  70677  ...  infestation fruitflies literally everywhere fl...\n",
       "3  70676  ...  worst product gotten long time would rate no s...\n",
       "4  70675  ...  wish would read reviews making purchase basica...\n",
       "\n",
       "[5 rows x 12 columns]"
      ]
     },
     "execution_count": 3,
     "metadata": {
      "tags": []
     },
     "output_type": "execute_result"
    }
   ],
   "source": [
    "final.head()"
   ]
  },
  {
   "cell_type": "code",
   "execution_count": 4,
   "metadata": {
    "colab": {
     "base_uri": "https://localhost:8080/",
     "height": 35
    },
    "colab_type": "code",
    "id": "bK0AEw0F-w34",
    "outputId": "cedd70b4-6bc1-4d31-fac9-bdda83ea5fac"
   },
   "outputs": [
    {
     "data": {
      "text/plain": [
       "(87773, 12)"
      ]
     },
     "execution_count": 4,
     "metadata": {
      "tags": []
     },
     "output_type": "execute_result"
    }
   ],
   "source": [
    "final.shape"
   ]
  },
  {
   "cell_type": "code",
   "execution_count": 5,
   "metadata": {
    "colab": {
     "base_uri": "https://localhost:8080/",
     "height": 1000
    },
    "colab_type": "code",
    "id": "GBKBU60y6tII",
    "outputId": "f417730d-5263-49b5-9c15-b70a60f890ff"
   },
   "outputs": [
    {
     "data": {
      "text/plain": [
       "0        dogs loves chicken product china wont buying a...\n",
       "1        dogs love saw pet store tag attached regarding...\n",
       "2        infestation fruitflies literally everywhere fl...\n",
       "3        worst product gotten long time would rate no s...\n",
       "4        wish would read reviews making purchase basica...\n",
       "5        happy item many flies disturbing kitchen put p...\n",
       "6        thing item trapped fruit flies not work fly tr...\n",
       "7        nurturing plant work well decided repot larger...\n",
       "8        placed around house several days setup fly att...\n",
       "9        please not waste money fly trap absolutely use...\n",
       "10       let put way flies stay traps left looks like s...\n",
       "11       not know product performs big flies sucks frui...\n",
       "12       flies buzz around thing like not even many fli...\n",
       "13       horrible product first item not work week lots...\n",
       "14       never caught even one fly got inside left week...\n",
       "15       ineffective worthless bought product indoors t...\n",
       "16       problem lot fruit flies kitchen picked one tak...\n",
       "17       put fly trap kitchen not catch single fly flie...\n",
       "18       could rate fly trap lower one star would think...\n",
       "19       bought awhile ago decided review thing sucks f...\n",
       "20       many flies house product weeks stuck fly thus far\n",
       "21       summer grill party door kept open day food cou...\n",
       "22       used traditional fly rolls past dubious hubby ...\n",
       "23       used fly sticky tape trap garage knat fly prob...\n",
       "24       product not work hang kitchen days no fly attr...\n",
       "25       fairly certain caught flies supposed stay stuc...\n",
       "26       sly trap attractive look works well no odor re...\n",
       "27       bought apartment infested fruit flies hours tr...\n",
       "28       bought local hardware store terrible fly probl...\n",
       "29       well received item placed area put fly paper f...\n",
       "                               ...                        \n",
       "87743    close eyes try really hard might able pick fei...\n",
       "87744    rarely buy spice blends mean would buy ounces ...\n",
       "87745    far favorite flavor ramune flavor tried fun lo...\n",
       "87746    bought enjoyed drinks quite bit bottle made in...\n",
       "87747    got excited great except one thing make cold d...\n",
       "87748    buying unsure would tasted sweet little much l...\n",
       "87749    not sweet syrupy like us sodas refreshing calo...\n",
       "87750    item good way overpriced vendor buy mix direct...\n",
       "87751    package mailed received perfect condition tap ...\n",
       "87752    kcup pretty tasty get past weird smell brewing...\n",
       "87753    normally prefer starbucks pumpkin lattes dunki...\n",
       "87754    sooooooo delicious coffee good almost orgasmic...\n",
       "87755    lot money purchase thing dunkin donuts storefo...\n",
       "87756    ultimate flavored coffee excellent body enjoy ...\n",
       "87757    always starbucks coffee drinker bolder better ...\n",
       "87758    coffee available tassimo kona richest flavor f...\n",
       "87759    tried available discs kona blend one best regu...\n",
       "87760    one best choices opinion also adore amazon nee...\n",
       "87761    tried many tassimo flavors far favorite normal...\n",
       "87762    bold blend great taste flavor comes bursting u...\n",
       "87763    unimpressed almonds clovey musty taste expecti...\n",
       "87764    agree reviewer bit much cloves however ever pu...\n",
       "87765    product work needs done discs wasted several m...\n",
       "87766    cappuccino good tastes almost good starbucks l...\n",
       "87767    love coffee usually would not recommend maxwel...\n",
       "87768    seller shipped quickly secure packaging produc...\n",
       "87769    recently discovered mix trip florida delighted...\n",
       "87770    trader joe product good quality buy straight t...\n",
       "87771    coffee supposedly premium tastes watery thin n...\n",
       "87772    purchased product local store ny kids love qui...\n",
       "Name: UPDATEDTEXT, Length: 87773, dtype: object"
      ]
     },
     "execution_count": 5,
     "metadata": {
      "tags": []
     },
     "output_type": "execute_result"
    }
   ],
   "source": [
    "final['UPDATEDTEXT']"
   ]
  },
  {
   "cell_type": "code",
   "execution_count": 7,
   "metadata": {
    "colab": {
     "base_uri": "https://localhost:8080/",
     "height": 72
    },
    "colab_type": "code",
    "id": "bFsV0joFCQew",
    "outputId": "ed9da8fb-2a34-4dbc-9dde-06baa43de380"
   },
   "outputs": [
    {
     "data": {
      "text/plain": [
       "1    73592\n",
       "0    14181\n",
       "Name: Score, dtype: int64"
      ]
     },
     "execution_count": 7,
     "metadata": {
      "tags": []
     },
     "output_type": "execute_result"
    }
   ],
   "source": [
    "final[\"Score\"].value_counts()"
   ]
  },
  {
   "cell_type": "code",
   "execution_count": 0,
   "metadata": {
    "colab": {},
    "colab_type": "code",
    "id": "427QDRzXCvrp"
   },
   "outputs": [],
   "source": [
    "df=pd.DataFrame(final)"
   ]
  },
  {
   "cell_type": "code",
   "execution_count": 0,
   "metadata": {
    "colab": {},
    "colab_type": "code",
    "id": "R52BUspjCvyu"
   },
   "outputs": [],
   "source": [
    "df.drop(\"Text\",axis = 1, inplace = True)"
   ]
  },
  {
   "cell_type": "code",
   "execution_count": 0,
   "metadata": {
    "colab": {},
    "colab_type": "code",
    "id": "TsMhCz1aCv5O"
   },
   "outputs": [],
   "source": [
    "Y1=df[\"Score\"].values"
   ]
  },
  {
   "cell_type": "code",
   "execution_count": 0,
   "metadata": {
    "colab": {},
    "colab_type": "code",
    "id": "-OJSpwGKC5pH"
   },
   "outputs": [],
   "source": [
    "df.drop(\"Score\",axis = 1, inplace = True)"
   ]
  },
  {
   "cell_type": "code",
   "execution_count": 14,
   "metadata": {
    "colab": {
     "base_uri": "https://localhost:8080/",
     "height": 573
    },
    "colab_type": "code",
    "id": "B1EqQu2uC-yA",
    "outputId": "c47cd8f8-cd3a-4b1e-dabc-3128ea518188"
   },
   "outputs": [
    {
     "data": {
      "text/html": [
       "<div>\n",
       "<style scoped>\n",
       "    .dataframe tbody tr th:only-of-type {\n",
       "        vertical-align: middle;\n",
       "    }\n",
       "\n",
       "    .dataframe tbody tr th {\n",
       "        vertical-align: top;\n",
       "    }\n",
       "\n",
       "    .dataframe thead th {\n",
       "        text-align: right;\n",
       "    }\n",
       "</style>\n",
       "<table border=\"1\" class=\"dataframe\">\n",
       "  <thead>\n",
       "    <tr style=\"text-align: right;\">\n",
       "      <th></th>\n",
       "      <th>index</th>\n",
       "      <th>Id</th>\n",
       "      <th>ProductId</th>\n",
       "      <th>UserId</th>\n",
       "      <th>ProfileName</th>\n",
       "      <th>HelpfulnessNumerator</th>\n",
       "      <th>HelpfulnessDenominator</th>\n",
       "      <th>Time</th>\n",
       "      <th>Summary</th>\n",
       "      <th>UPDATEDTEXT</th>\n",
       "    </tr>\n",
       "  </thead>\n",
       "  <tbody>\n",
       "    <tr>\n",
       "      <th>0</th>\n",
       "      <td>22620</td>\n",
       "      <td>24750</td>\n",
       "      <td>2734888454</td>\n",
       "      <td>A13ISQV0U9GZIC</td>\n",
       "      <td>Sandikaye</td>\n",
       "      <td>1</td>\n",
       "      <td>1</td>\n",
       "      <td>1192060800</td>\n",
       "      <td>made in china</td>\n",
       "      <td>dogs loves chicken product china wont buying a...</td>\n",
       "    </tr>\n",
       "    <tr>\n",
       "      <th>1</th>\n",
       "      <td>22621</td>\n",
       "      <td>24751</td>\n",
       "      <td>2734888454</td>\n",
       "      <td>A1C298ITT645B6</td>\n",
       "      <td>Hugh G. Pritchard</td>\n",
       "      <td>0</td>\n",
       "      <td>0</td>\n",
       "      <td>1195948800</td>\n",
       "      <td>Dog Lover Delites</td>\n",
       "      <td>dogs love saw pet store tag attached regarding...</td>\n",
       "    </tr>\n",
       "    <tr>\n",
       "      <th>2</th>\n",
       "      <td>70677</td>\n",
       "      <td>76870</td>\n",
       "      <td>B00002N8SM</td>\n",
       "      <td>A19Q006CSFT011</td>\n",
       "      <td>Arlielle</td>\n",
       "      <td>0</td>\n",
       "      <td>0</td>\n",
       "      <td>1288396800</td>\n",
       "      <td>only one fruitfly stuck</td>\n",
       "      <td>infestation fruitflies literally everywhere fl...</td>\n",
       "    </tr>\n",
       "    <tr>\n",
       "      <th>3</th>\n",
       "      <td>70676</td>\n",
       "      <td>76869</td>\n",
       "      <td>B00002N8SM</td>\n",
       "      <td>A1FYH4S02BW7FN</td>\n",
       "      <td>wonderer</td>\n",
       "      <td>0</td>\n",
       "      <td>0</td>\n",
       "      <td>1290038400</td>\n",
       "      <td>Doesn't work!! Don't waste your money!!</td>\n",
       "      <td>worst product gotten long time would rate no s...</td>\n",
       "    </tr>\n",
       "    <tr>\n",
       "      <th>4</th>\n",
       "      <td>70675</td>\n",
       "      <td>76868</td>\n",
       "      <td>B00002N8SM</td>\n",
       "      <td>AUE8TB5VHS6ZV</td>\n",
       "      <td>eyeofthestorm</td>\n",
       "      <td>0</td>\n",
       "      <td>0</td>\n",
       "      <td>1306972800</td>\n",
       "      <td>A big rip off</td>\n",
       "      <td>wish would read reviews making purchase basica...</td>\n",
       "    </tr>\n",
       "  </tbody>\n",
       "</table>\n",
       "</div>"
      ],
      "text/plain": [
       "   index  ...                                        UPDATEDTEXT\n",
       "0  22620  ...  dogs loves chicken product china wont buying a...\n",
       "1  22621  ...  dogs love saw pet store tag attached regarding...\n",
       "2  70677  ...  infestation fruitflies literally everywhere fl...\n",
       "3  70676  ...  worst product gotten long time would rate no s...\n",
       "4  70675  ...  wish would read reviews making purchase basica...\n",
       "\n",
       "[5 rows x 10 columns]"
      ]
     },
     "execution_count": 14,
     "metadata": {
      "tags": []
     },
     "output_type": "execute_result"
    }
   ],
   "source": [
    "df.head()"
   ]
  },
  {
   "cell_type": "code",
   "execution_count": 0,
   "metadata": {
    "colab": {},
    "colab_type": "code",
    "id": "2GcNwQTj_b0Y"
   },
   "outputs": [],
   "source": [
    "from sklearn.model_selection import train_test_split\n",
    "X1_train, X1_test, Y1_train, Y1_test = train_test_split(df['UPDATEDTEXT'],Y1, test_size=0.3, shuffle=False)"
   ]
  },
  {
   "cell_type": "code",
   "execution_count": 17,
   "metadata": {
    "colab": {
     "base_uri": "https://localhost:8080/",
     "height": 53
    },
    "colab_type": "code",
    "id": "Gy9Pqnyx_b8s",
    "outputId": "200d9851-7251-4517-d94b-4edf6a49aeab"
   },
   "outputs": [
    {
     "name": "stdout",
     "output_type": "stream",
     "text": [
      "(61441,) (61441,)\n",
      "(26332,) (26332,)\n"
     ]
    }
   ],
   "source": [
    "print(X1_train.shape, Y1_train.shape)\n",
    "#print(X1_cv.shape, Y1_cv.shape)\n",
    "print(X1_test.shape, Y1_test.shape)"
   ]
  },
  {
   "cell_type": "code",
   "execution_count": 18,
   "metadata": {
    "colab": {
     "base_uri": "https://localhost:8080/",
     "height": 35
    },
    "colab_type": "code",
    "id": "WilgiPsaEVjW",
    "outputId": "b2f2ee7a-d45c-413a-dd81-f72110c31d44"
   },
   "outputs": [
    {
     "name": "stderr",
     "output_type": "stream",
     "text": [
      "Using TensorFlow backend.\n"
     ]
    }
   ],
   "source": [
    "from keras.preprocessing.text import Tokenizer\n",
    "tokenizer = Tokenizer(num_words=5000)\n",
    "tokenizer.fit_on_texts(X1_train)\n",
    "\n",
    "X_train = tokenizer.texts_to_sequences(X1_train)\n"
   ]
  },
  {
   "cell_type": "code",
   "execution_count": 0,
   "metadata": {
    "colab": {},
    "colab_type": "code",
    "id": "sua9Y-KHEVmO"
   },
   "outputs": [],
   "source": [
    "X_test = tokenizer.texts_to_sequences(X1_test)"
   ]
  },
  {
   "cell_type": "code",
   "execution_count": 20,
   "metadata": {
    "colab": {
     "base_uri": "https://localhost:8080/",
     "height": 35
    },
    "colab_type": "code",
    "id": "TdFg7whNEVpT",
    "outputId": "f5e5a627-a35b-4481-b6af-966a0a69e38b"
   },
   "outputs": [
    {
     "name": "stdout",
     "output_type": "stream",
     "text": [
      "[55, 63, 132, 9, 690, 2012, 117, 683, 116, 26, 132, 106, 44, 1027, 5, 4110, 135, 3, 9, 2012, 152, 4490, 1853, 61, 161, 690]\n"
     ]
    }
   ],
   "source": [
    "print(X_train[0])"
   ]
  },
  {
   "cell_type": "code",
   "execution_count": 22,
   "metadata": {
    "colab": {
     "base_uri": "https://localhost:8080/",
     "height": 35
    },
    "colab_type": "code",
    "id": "uPV5t-erFbCv",
    "outputId": "1ccb14cb-6d75-4cea-b1ef-0f7015fd1fb0"
   },
   "outputs": [
    {
     "data": {
      "text/plain": [
       "26"
      ]
     },
     "execution_count": 22,
     "metadata": {
      "tags": []
     },
     "output_type": "execute_result"
    }
   ],
   "source": [
    "len(X_train[0])"
   ]
  },
  {
   "cell_type": "code",
   "execution_count": 21,
   "metadata": {
    "colab": {
     "base_uri": "https://localhost:8080/",
     "height": 35
    },
    "colab_type": "code",
    "id": "amxGcc0xEVr9",
    "outputId": "8960ece3-ce56-4173-ba2c-614e2bf3152e"
   },
   "outputs": [
    {
     "name": "stdout",
     "output_type": "stream",
     "text": [
      "[41, 118, 655, 2243, 22, 63, 99, 669, 387, 285, 27]\n"
     ]
    }
   ],
   "source": [
    "print(X_test[0])"
   ]
  },
  {
   "cell_type": "code",
   "execution_count": 24,
   "metadata": {
    "colab": {
     "base_uri": "https://localhost:8080/",
     "height": 816
    },
    "colab_type": "code",
    "id": "513kCHFqEVu1",
    "outputId": "7800dd47-18c5-4cec-8d87-e32011687381"
   },
   "outputs": [
    {
     "name": "stdout",
     "output_type": "stream",
     "text": [
      "(61441, 600)\n",
      "[   0    0    0    0    0    0    0    0    0    0    0    0    0    0\n",
      "    0    0    0    0    0    0    0    0    0    0    0    0    0    0\n",
      "    0    0    0    0    0    0    0    0    0    0    0    0    0    0\n",
      "    0    0    0    0    0    0    0    0    0    0    0    0    0    0\n",
      "    0    0    0    0    0    0    0    0    0    0    0    0    0    0\n",
      "    0    0    0    0    0    0    0    0    0    0    0    0    0    0\n",
      "    0    0    0    0    0    0    0    0    0    0    0    0    0    0\n",
      "    0    0    0    0    0    0    0    0    0    0    0    0    0    0\n",
      "    0    0    0    0    0    0    0    0    0    0    0    0    0    0\n",
      "    0    0    0    0    0    0    0    0    0    0    0    0    0    0\n",
      "    0    0    0    0    0    0    0    0    0    0    0    0    0    0\n",
      "    0    0    0    0    0    0    0    0    0    0    0    0    0    0\n",
      "    0    0    0    0    0    0    0    0    0    0    0    0    0    0\n",
      "    0    0    0    0    0    0    0    0    0    0    0    0    0    0\n",
      "    0    0    0    0    0    0    0    0    0    0    0    0    0    0\n",
      "    0    0    0    0    0    0    0    0    0    0    0    0    0    0\n",
      "    0    0    0    0    0    0    0    0    0    0    0    0    0    0\n",
      "    0    0    0    0    0    0    0    0    0    0    0    0    0    0\n",
      "    0    0    0    0    0    0    0    0    0    0    0    0    0    0\n",
      "    0    0    0    0    0    0    0    0    0    0    0    0    0    0\n",
      "    0    0    0    0    0    0    0    0    0    0    0    0    0    0\n",
      "    0    0    0    0    0    0    0    0    0    0    0    0    0    0\n",
      "    0    0    0    0    0    0    0    0    0    0    0    0    0    0\n",
      "    0    0    0    0    0    0    0    0    0    0    0    0    0    0\n",
      "    0    0    0    0    0    0    0    0    0    0    0    0    0    0\n",
      "    0    0    0    0    0    0    0    0    0    0    0    0    0    0\n",
      "    0    0    0    0    0    0    0    0    0    0    0    0    0    0\n",
      "    0    0    0    0    0    0    0    0    0    0    0    0    0    0\n",
      "    0    0    0    0    0    0    0    0    0    0    0    0    0    0\n",
      "    0    0    0    0    0    0    0    0    0    0    0    0    0    0\n",
      "    0    0    0    0    0    0    0    0    0    0    0    0    0    0\n",
      "    0    0    0    0    0    0    0    0    0    0    0    0    0    0\n",
      "    0    0    0    0    0    0    0    0    0    0    0    0    0    0\n",
      "    0    0    0    0    0    0    0    0    0    0    0    0    0    0\n",
      "    0    0    0    0    0    0    0    0    0    0    0    0    0    0\n",
      "    0    0    0    0    0    0    0    0    0    0    0    0    0    0\n",
      "    0    0    0    0    0    0    0    0    0    0    0    0    0    0\n",
      "    0    0    0    0    0    0    0    0    0    0    0    0    0    0\n",
      "    0    0    0    0    0    0    0    0    0    0    0    0    0    0\n",
      "    0    0    0    0    0    0    0    0    0    0    0    0    0    0\n",
      "    0    0    0    0    0    0    0    0    0    0    0    0    0    0\n",
      "   55   63  132    9  690 2012  117  683  116   26  132  106   44 1027\n",
      "    5 4110  135    3    9 2012  152 4490 1853   61  161  690]\n"
     ]
    }
   ],
   "source": [
    "from keras.preprocessing import sequence\n",
    "max_review_length = 600\n",
    "X_train = sequence.pad_sequences(X_train, maxlen=max_review_length)\n",
    "X_test = sequence.pad_sequences(X_test, maxlen=max_review_length)\n",
    "\n",
    "print(X_train.shape)\n",
    "print(X_train[0])"
   ]
  },
  {
   "cell_type": "code",
   "execution_count": 0,
   "metadata": {
    "colab": {},
    "colab_type": "code",
    "id": "-hx6y9P3FiSo"
   },
   "outputs": [],
   "source": [
    "%matplotlib notebook\n",
    "import matplotlib.pyplot as plt\n",
    "import numpy as np\n",
    "import time\n",
    "\n",
    "def plt_dynamic(x, vy, ty, ax, colors=['b']):\n",
    "    ax.plot(x, vy, 'b', label=\"Validation Loss\")\n",
    "    ax.plot(x, ty, 'r', label=\"Train Loss\")\n",
    "    plt.legend()\n",
    "    plt.grid()\n",
    "    fig.canvas.draw()"
   ]
  },
  {
   "cell_type": "code",
   "execution_count": 0,
   "metadata": {
    "colab": {},
    "colab_type": "code",
    "id": "AWCkImxKGg5q"
   },
   "outputs": [],
   "source": [
    "import numpy as np\n",
    "from keras.models import Sequential\n",
    "from keras.layers import Dense\n",
    "from keras.layers import LSTM\n",
    "from keras.layers.embeddings import Embedding\n",
    "from keras.preprocessing import sequence\n",
    "from keras.layers import Dropout\n",
    "from keras.layers.normalization import BatchNormalization\n",
    "# fix random seed for reproducibility\n",
    "np.random.seed(7)"
   ]
  },
  {
   "cell_type": "code",
   "execution_count": 0,
   "metadata": {
    "colab": {},
    "colab_type": "code",
    "id": "OayA8eMmKhsL"
   },
   "outputs": [],
   "source": [
    "import tensorflow as tf\n",
    "from sklearn.metrics import roc_auc_score\n",
    "\n",
    "def auc_roc(y_true, y_pred):\n",
    "    return tf.py_func(roc_auc_score, (y_true, y_pred), tf.double)"
   ]
  },
  {
   "cell_type": "markdown",
   "metadata": {},
   "source": [
    "# 1 LSTM Layer :"
   ]
  },
  {
   "cell_type": "code",
   "execution_count": 38,
   "metadata": {
    "colab": {
     "base_uri": "https://localhost:8080/",
     "height": 764
    },
    "colab_type": "code",
    "id": "dmHngCpaFiVR",
    "outputId": "d3fda07b-6767-468d-b300-05bcf65f2570"
   },
   "outputs": [
    {
     "name": "stdout",
     "output_type": "stream",
     "text": [
      "_________________________________________________________________\n",
      "Layer (type)                 Output Shape              Param #   \n",
      "=================================================================\n",
      "embedding_7 (Embedding)      (None, 600, 32)           160000    \n",
      "_________________________________________________________________\n",
      "batch_normalization_6 (Batch (None, 600, 32)           128       \n",
      "_________________________________________________________________\n",
      "dropout_11 (Dropout)         (None, 600, 32)           0         \n",
      "_________________________________________________________________\n",
      "lstm_6 (LSTM)                (None, 128)               82432     \n",
      "_________________________________________________________________\n",
      "dropout_12 (Dropout)         (None, 128)               0         \n",
      "_________________________________________________________________\n",
      "dense_6 (Dense)              (None, 1)                 129       \n",
      "=================================================================\n",
      "Total params: 242,689\n",
      "Trainable params: 242,625\n",
      "Non-trainable params: 64\n",
      "_________________________________________________________________\n",
      "Train on 61441 samples, validate on 26332 samples\n",
      "Epoch 1/10\n",
      "61441/61441 [==============================] - 298s 5ms/step - loss: 0.2926 - auc_roc: 0.8453 - val_loss: 0.2355 - val_auc_roc: 0.9387\n",
      "Epoch 2/10\n",
      "61441/61441 [==============================] - 295s 5ms/step - loss: 0.1824 - auc_roc: 0.9564 - val_loss: 0.1998 - val_auc_roc: 0.9493\n",
      "Epoch 3/10\n",
      "61441/61441 [==============================] - 298s 5ms/step - loss: 0.1497 - auc_roc: 0.9713 - val_loss: 0.2087 - val_auc_roc: 0.9481\n",
      "Epoch 4/10\n",
      "61441/61441 [==============================] - 300s 5ms/step - loss: 0.1253 - auc_roc: 0.9802 - val_loss: 0.2210 - val_auc_roc: 0.9478\n",
      "Epoch 5/10\n",
      "61441/61441 [==============================] - 297s 5ms/step - loss: 0.1066 - auc_roc: 0.9861 - val_loss: 0.2275 - val_auc_roc: 0.9457\n",
      "Epoch 6/10\n",
      "61441/61441 [==============================] - 297s 5ms/step - loss: 0.0884 - auc_roc: 0.9902 - val_loss: 0.2706 - val_auc_roc: 0.9451\n",
      "Epoch 7/10\n",
      "61441/61441 [==============================] - 294s 5ms/step - loss: 0.0770 - auc_roc: 0.9925 - val_loss: 0.2695 - val_auc_roc: 0.9436\n",
      "Epoch 8/10\n",
      "61441/61441 [==============================] - 296s 5ms/step - loss: 0.0632 - auc_roc: 0.9948 - val_loss: 0.2964 - val_auc_roc: 0.9404\n",
      "Epoch 9/10\n",
      "61441/61441 [==============================] - 295s 5ms/step - loss: 0.0587 - auc_roc: 0.9955 - val_loss: 0.2905 - val_auc_roc: 0.9400\n",
      "Epoch 10/10\n",
      "61441/61441 [==============================] - 294s 5ms/step - loss: 0.0509 - auc_roc: 0.9967 - val_loss: 0.3356 - val_auc_roc: 0.9402\n"
     ]
    }
   ],
   "source": [
    "def warn(*args, **kwargs):\n",
    "    pass\n",
    "import warnings\n",
    "warnings.warn = warn\n",
    "\n",
    "batch_size=200\n",
    "epochs=10\n",
    "\n",
    "\n",
    "\n",
    "model = Sequential()\n",
    "model.add(Embedding(5000, 32, input_length=max_review_length))\n",
    "model.add(BatchNormalization())\n",
    "model.add(Dropout(0.2))\n",
    "model.add(LSTM(128))\n",
    "model.add(Dropout(0.5))\n",
    "model.add(Dense(1, activation='sigmoid'))\n",
    "model.summary()\n",
    "\n",
    "\n",
    "\n",
    "model.compile(loss='binary_crossentropy', optimizer='adam', metrics=[auc_roc])\n",
    "\n",
    "history = model.fit(X_train, np.array(Y1_train), batch_size = batch_size, epochs = epochs, verbose=1, validation_data=(X_test, Y1_test))"
   ]
  },
  {
   "cell_type": "code",
   "execution_count": 39,
   "metadata": {
    "colab": {
     "base_uri": "https://localhost:8080/",
     "height": 53
    },
    "colab_type": "code",
    "id": "PbnR_5nhFiXt",
    "outputId": "42143240-7f54-4fbb-f26c-57b2c7e03de0"
   },
   "outputs": [
    {
     "name": "stdout",
     "output_type": "stream",
     "text": [
      "/bin/bash: -c: line 0: syntax error near unexpected token `newline'\n",
      "/bin/bash: -c: line 0: `python -m rasa_nlu.evaluate -d  nlu.md -m <path to model>'\n"
     ]
    }
   ],
   "source": [
    "%matplotlib inline\n",
    "!python -m rasa_nlu.evaluate -d  nlu.md -m <path to model>"
   ]
  },
  {
   "cell_type": "code",
   "execution_count": 40,
   "metadata": {
    "colab": {
     "base_uri": "https://localhost:8080/",
     "height": 283
    },
    "colab_type": "code",
    "id": "Vpr_OcNKFiaA",
    "outputId": "08bfb728-d3ab-4976-95db-4b04407086c0"
   },
   "outputs": [
    {
     "data": {
      "image/png": "[encoded data removed]",
      "text/plain": [
       "<Figure size 432x288 with 1 Axes>"
      ]
     },
     "metadata": {
      "tags": []
     },
     "output_type": "display_data"
    }
   ],
   "source": [
    "fig,ax = plt.subplots(1,1)\n",
    "ax.set_xlabel('epoch') ; ax.set_ylabel('Categorical Crossentropy Loss')\n",
    "x = list(range(1,epochs+1))\n",
    "vy = history.history['val_loss']\n",
    "ty = history.history['loss']\n",
    "plt_dynamic(x, vy, ty, ax)"
   ]
  },
  {
   "cell_type": "markdown",
   "metadata": {},
   "source": [
    "# 2 LSTM Layers :"
   ]
  },
  {
   "cell_type": "code",
   "execution_count": 41,
   "metadata": {
    "colab": {
     "base_uri": "https://localhost:8080/",
     "height": 909
    },
    "colab_type": "code",
    "id": "3rkKNCtEFieu",
    "outputId": "359364f0-473d-427e-888d-7239c5843148"
   },
   "outputs": [
    {
     "name": "stdout",
     "output_type": "stream",
     "text": [
      "_________________________________________________________________\n",
      "Layer (type)                 Output Shape              Param #   \n",
      "=================================================================\n",
      "embedding_8 (Embedding)      (None, 600, 32)           160000    \n",
      "_________________________________________________________________\n",
      "batch_normalization_7 (Batch (None, 600, 32)           128       \n",
      "_________________________________________________________________\n",
      "dropout_13 (Dropout)         (None, 600, 32)           0         \n",
      "_________________________________________________________________\n",
      "lstm_7 (LSTM)                (None, 600, 128)          82432     \n",
      "_________________________________________________________________\n",
      "batch_normalization_8 (Batch (None, 600, 128)          512       \n",
      "_________________________________________________________________\n",
      "dropout_14 (Dropout)         (None, 600, 128)          0         \n",
      "_________________________________________________________________\n",
      "lstm_8 (LSTM)                (None, 64)                49408     \n",
      "_________________________________________________________________\n",
      "batch_normalization_9 (Batch (None, 64)                256       \n",
      "_________________________________________________________________\n",
      "dropout_15 (Dropout)         (None, 64)                0         \n",
      "_________________________________________________________________\n",
      "dense_7 (Dense)              (None, 1)                 65        \n",
      "=================================================================\n",
      "Total params: 292,801\n",
      "Trainable params: 292,353\n",
      "Non-trainable params: 448\n",
      "_________________________________________________________________\n",
      "Train on 61441 samples, validate on 26332 samples\n",
      "Epoch 1/10\n",
      "61441/61441 [==============================] - 583s 9ms/step - loss: 0.4710 - auc_roc: 0.7539 - val_loss: 0.2610 - val_auc_roc: 0.9256\n",
      "Epoch 2/10\n",
      "61441/61441 [==============================] - 581s 9ms/step - loss: 0.2396 - auc_roc: 0.9246 - val_loss: 0.3674 - val_auc_roc: 0.9197\n",
      "Epoch 3/10\n",
      "61441/61441 [==============================] - 584s 10ms/step - loss: 0.2008 - auc_roc: 0.9479 - val_loss: 0.2360 - val_auc_roc: 0.9407\n",
      "Epoch 4/10\n",
      "61441/61441 [==============================] - 585s 10ms/step - loss: 0.1819 - auc_roc: 0.9560 - val_loss: 0.2092 - val_auc_roc: 0.9460\n",
      "Epoch 5/10\n",
      "61441/61441 [==============================] - 582s 9ms/step - loss: 0.1657 - auc_roc: 0.9634 - val_loss: 0.2567 - val_auc_roc: 0.9426\n",
      "Epoch 6/10\n",
      "61441/61441 [==============================] - 583s 9ms/step - loss: 0.1499 - auc_roc: 0.9697 - val_loss: 0.2170 - val_auc_roc: 0.9450\n",
      "Epoch 7/10\n",
      "61441/61441 [==============================] - 578s 9ms/step - loss: 0.1325 - auc_roc: 0.9751 - val_loss: 0.2282 - val_auc_roc: 0.9424\n",
      "Epoch 8/10\n",
      "61441/61441 [==============================] - 584s 10ms/step - loss: 0.1172 - auc_roc: 0.9797 - val_loss: 0.2310 - val_auc_roc: 0.9471\n",
      "Epoch 9/10\n",
      "61441/61441 [==============================] - 583s 9ms/step - loss: 0.1005 - auc_roc: 0.9848 - val_loss: 0.2268 - val_auc_roc: 0.9461\n",
      "Epoch 10/10\n",
      "61441/61441 [==============================] - 582s 9ms/step - loss: 0.0888 - auc_roc: 0.9874 - val_loss: 0.2459 - val_auc_roc: 0.9431\n"
     ]
    }
   ],
   "source": [
    "def warn(*args, **kwargs):\n",
    "    pass\n",
    "import warnings\n",
    "warnings.warn = warn\n",
    "\n",
    "batch_size=200\n",
    "epochs=10\n",
    "\n",
    "\n",
    "\n",
    "model = Sequential()\n",
    "model.add(Embedding(5000, 32, input_length=max_review_length))\n",
    "model.add(BatchNormalization())\n",
    "model.add(Dropout(0.2))\n",
    "\n",
    "model.add(LSTM(128,return_sequences=True))\n",
    "model.add(BatchNormalization())\n",
    "model.add(Dropout(0.2))\n",
    "\n",
    "model.add(LSTM(64))\n",
    "model.add(BatchNormalization())\n",
    "model.add(Dropout(0.5))\n",
    "\n",
    "\n",
    "model.add(Dense(1, activation='sigmoid'))\n",
    "model.summary()\n",
    "\n",
    "\n",
    "\n",
    "model.compile(loss='binary_crossentropy', optimizer='adam', metrics=[auc_roc])\n",
    "\n",
    "history = model.fit(X_train, np.array(Y1_train), batch_size = batch_size, epochs = epochs, verbose=1, validation_data=(X_test, Y1_test))"
   ]
  },
  {
   "cell_type": "code",
   "execution_count": 42,
   "metadata": {
    "colab": {
     "base_uri": "https://localhost:8080/",
     "height": 283
    },
    "colab_type": "code",
    "id": "UlPOenyXIfTa",
    "outputId": "7029f692-4790-4b80-c5b2-c1fcc161114c"
   },
   "outputs": [
    {
     "data": {
      "image/png": "[encoded data removed]",
      "text/plain": [
       "<Figure size 432x288 with 1 Axes>"
      ]
     },
     "metadata": {
      "tags": []
     },
     "output_type": "display_data"
    }
   ],
   "source": [
    "fig,ax = plt.subplots(1,1)\n",
    "ax.set_xlabel('epoch') ; ax.set_ylabel('Categorical Crossentropy Loss')\n",
    "x = list(range(1,epochs+1))\n",
    "vy = history.history['val_loss']\n",
    "ty = history.history['loss']\n",
    "plt_dynamic(x, vy, ty, ax)"
   ]
  },
  {
   "cell_type": "markdown",
   "metadata": {},
   "source": [
    "# 4 LSTM Layers :"
   ]
  },
  {
   "cell_type": "code",
   "execution_count": 43,
   "metadata": {
    "colab": {
     "base_uri": "https://localhost:8080/",
     "height": 1000
    },
    "colab_type": "code",
    "id": "OQpnsmzHIfVt",
    "outputId": "46970cb8-d2c1-48e0-ee89-d049ba4d239c"
   },
   "outputs": [
    {
     "name": "stdout",
     "output_type": "stream",
     "text": [
      "_________________________________________________________________\n",
      "Layer (type)                 Output Shape              Param #   \n",
      "=================================================================\n",
      "embedding_9 (Embedding)      (None, 600, 32)           160000    \n",
      "_________________________________________________________________\n",
      "batch_normalization_10 (Batc (None, 600, 32)           128       \n",
      "_________________________________________________________________\n",
      "dropout_16 (Dropout)         (None, 600, 32)           0         \n",
      "_________________________________________________________________\n",
      "lstm_9 (LSTM)                (None, 600, 128)          82432     \n",
      "_________________________________________________________________\n",
      "batch_normalization_11 (Batc (None, 600, 128)          512       \n",
      "_________________________________________________________________\n",
      "dropout_17 (Dropout)         (None, 600, 128)          0         \n",
      "_________________________________________________________________\n",
      "lstm_10 (LSTM)               (None, 600, 98)           88984     \n",
      "_________________________________________________________________\n",
      "batch_normalization_12 (Batc (None, 600, 98)           392       \n",
      "_________________________________________________________________\n",
      "dropout_18 (Dropout)         (None, 600, 98)           0         \n",
      "_________________________________________________________________\n",
      "lstm_11 (LSTM)               (None, 600, 70)           47320     \n",
      "_________________________________________________________________\n",
      "batch_normalization_13 (Batc (None, 600, 70)           280       \n",
      "_________________________________________________________________\n",
      "dropout_19 (Dropout)         (None, 600, 70)           0         \n",
      "_________________________________________________________________\n",
      "lstm_12 (LSTM)               (None, 40)                17760     \n",
      "_________________________________________________________________\n",
      "batch_normalization_14 (Batc (None, 40)                160       \n",
      "_________________________________________________________________\n",
      "dropout_20 (Dropout)         (None, 40)                0         \n",
      "_________________________________________________________________\n",
      "dense_8 (Dense)              (None, 1)                 41        \n",
      "=================================================================\n",
      "Total params: 398,009\n",
      "Trainable params: 397,273\n",
      "Non-trainable params: 736\n",
      "_________________________________________________________________\n",
      "Train on 61441 samples, validate on 26332 samples\n",
      "Epoch 1/10\n",
      "61441/61441 [==============================] - 1201s 20ms/step - loss: 0.6226 - auc_roc: 0.5163 - val_loss: 0.4656 - val_auc_roc: 0.5867\n",
      "Epoch 2/10\n",
      "61441/61441 [==============================] - 1194s 19ms/step - loss: 0.3208 - auc_roc: 0.8370 - val_loss: 0.2343 - val_auc_roc: 0.9314\n",
      "Epoch 3/10\n",
      "61441/61441 [==============================] - 1190s 19ms/step - loss: 0.2220 - auc_roc: 0.9336 - val_loss: 0.2328 - val_auc_roc: 0.9431\n",
      "Epoch 4/10\n",
      "61441/61441 [==============================] - 1171s 19ms/step - loss: 0.1964 - auc_roc: 0.9491 - val_loss: 0.2889 - val_auc_roc: 0.9427\n",
      "Epoch 5/10\n",
      "61441/61441 [==============================] - 1207s 20ms/step - loss: 0.1737 - auc_roc: 0.9595 - val_loss: 0.2189 - val_auc_roc: 0.9456\n",
      "Epoch 6/10\n",
      "61441/61441 [==============================] - 1169s 19ms/step - loss: 0.1559 - auc_roc: 0.9669 - val_loss: 0.2433 - val_auc_roc: 0.9423\n",
      "Epoch 7/10\n",
      "61441/61441 [==============================] - 1170s 19ms/step - loss: 0.1363 - auc_roc: 0.9738 - val_loss: 0.2159 - val_auc_roc: 0.9430\n",
      "Epoch 8/10\n",
      "61441/61441 [==============================] - 1172s 19ms/step - loss: 0.1208 - auc_roc: 0.9795 - val_loss: 0.2179 - val_auc_roc: 0.9472\n",
      "Epoch 9/10\n",
      "61441/61441 [==============================] - 1180s 19ms/step - loss: 0.1033 - auc_roc: 0.9832 - val_loss: 0.2218 - val_auc_roc: 0.9470\n",
      "Epoch 10/10\n",
      "61441/61441 [==============================] - 1169s 19ms/step - loss: 0.0939 - auc_roc: 0.9867 - val_loss: 0.2577 - val_auc_roc: 0.9476\n"
     ]
    }
   ],
   "source": [
    "def warn(*args, **kwargs):\n",
    "    pass\n",
    "import warnings\n",
    "warnings.warn = warn\n",
    "from keras.layers.normalization import BatchNormalization\n",
    "\n",
    "\n",
    "batch_size=200\n",
    "epochs=10\n",
    "\n",
    "\n",
    "\n",
    "model = Sequential()\n",
    "model.add(Embedding(5000, 32, input_length=max_review_length))\n",
    "model.add(BatchNormalization())\n",
    "model.add(Dropout(0.2))\n",
    "\n",
    "model.add(LSTM(128,return_sequences=True))\n",
    "model.add(BatchNormalization())\n",
    "model.add(Dropout(0.2))\n",
    "\n",
    "model.add(LSTM(98,return_sequences=True))\n",
    "model.add(BatchNormalization())\n",
    "model.add(Dropout(0.2))\n",
    "\n",
    "model.add(LSTM(70,return_sequences=True))\n",
    "model.add(BatchNormalization())\n",
    "model.add(Dropout(0.2))\n",
    "\n",
    "model.add(LSTM(40))\n",
    "model.add(BatchNormalization())\n",
    "model.add(Dropout(0.5))\n",
    "\n",
    "\n",
    "\n",
    "model.add(Dense(1, activation='sigmoid'))\n",
    "model.summary()\n",
    "\n",
    "\n",
    "\n",
    "model.compile(loss='binary_crossentropy', optimizer='adam', metrics=[auc_roc])\n",
    "\n",
    "history = model.fit(X_train, np.array(Y1_train), batch_size = batch_size, epochs = epochs, verbose=1, validation_data=(X_test, Y1_test))"
   ]
  },
  {
   "cell_type": "code",
   "execution_count": 46,
   "metadata": {
    "colab": {
     "base_uri": "https://localhost:8080/",
     "height": 283
    },
    "colab_type": "code",
    "id": "72pKZmSFfsF-",
    "outputId": "3984e7de-e16e-4f86-82e2-c632188ccef2"
   },
   "outputs": [
    {
     "data": {
      "image/png": "[encoded data removed]",
      "text/plain": [
       "<Figure size 432x288 with 1 Axes>"
      ]
     },
     "metadata": {
      "tags": []
     },
     "output_type": "display_data"
    }
   ],
   "source": [
    "fig,ax = plt.subplots(1,1)\n",
    "ax.set_xlabel('epoch') ; ax.set_ylabel('Categorical Crossentropy Loss')\n",
    "x = list(range(1,epochs+1))\n",
    "vy = history.history['val_loss']\n",
    "ty = history.history['loss']\n",
    "plt_dynamic(x, vy, ty, ax)"
   ]
  },
  {
   "cell_type": "markdown",
   "metadata": {},
   "source": [
    "# 5 LSTM Layers :"
   ]
  },
  {
   "cell_type": "code",
   "execution_count": 47,
   "metadata": {
    "colab": {
     "base_uri": "https://localhost:8080/",
     "height": 1000
    },
    "colab_type": "code",
    "id": "S6YP64AKfyhl",
    "outputId": "a49bfa8b-65e9-46ca-d2e1-9b2365db76ca"
   },
   "outputs": [
    {
     "name": "stdout",
     "output_type": "stream",
     "text": [
      "_________________________________________________________________\n",
      "Layer (type)                 Output Shape              Param #   \n",
      "=================================================================\n",
      "embedding_11 (Embedding)     (None, 600, 32)           1757536   \n",
      "_________________________________________________________________\n",
      "batch_normalization_21 (Batc (None, 600, 32)           128       \n",
      "_________________________________________________________________\n",
      "dropout_27 (Dropout)         (None, 600, 32)           0         \n",
      "_________________________________________________________________\n",
      "lstm_18 (LSTM)               (None, 600, 128)          82432     \n",
      "_________________________________________________________________\n",
      "batch_normalization_22 (Batc (None, 600, 128)          512       \n",
      "_________________________________________________________________\n",
      "dropout_28 (Dropout)         (None, 600, 128)          0         \n",
      "_________________________________________________________________\n",
      "lstm_19 (LSTM)               (None, 600, 98)           88984     \n",
      "_________________________________________________________________\n",
      "batch_normalization_23 (Batc (None, 600, 98)           392       \n",
      "_________________________________________________________________\n",
      "dropout_29 (Dropout)         (None, 600, 98)           0         \n",
      "_________________________________________________________________\n",
      "lstm_20 (LSTM)               (None, 600, 70)           47320     \n",
      "_________________________________________________________________\n",
      "batch_normalization_24 (Batc (None, 600, 70)           280       \n",
      "_________________________________________________________________\n",
      "dropout_30 (Dropout)         (None, 600, 70)           0         \n",
      "_________________________________________________________________\n",
      "lstm_21 (LSTM)               (None, 600, 40)           17760     \n",
      "_________________________________________________________________\n",
      "batch_normalization_25 (Batc (None, 600, 40)           160       \n",
      "_________________________________________________________________\n",
      "dropout_31 (Dropout)         (None, 600, 40)           0         \n",
      "_________________________________________________________________\n",
      "lstm_22 (LSTM)               (None, 60)                24240     \n",
      "_________________________________________________________________\n",
      "batch_normalization_26 (Batc (None, 60)                240       \n",
      "_________________________________________________________________\n",
      "dropout_32 (Dropout)         (None, 60)                0         \n",
      "_________________________________________________________________\n",
      "dense_10 (Dense)             (None, 1)                 61        \n",
      "=================================================================\n",
      "Total params: 2,020,045\n",
      "Trainable params: 2,019,189\n",
      "Non-trainable params: 856\n",
      "_________________________________________________________________\n",
      "Train on 61441 samples, validate on 26332 samples\n",
      "Epoch 1/10\n",
      "61441/61441 [==============================] - 1456s 24ms/step - loss: 0.5929 - auc_roc: 0.5100 - val_loss: 0.4652 - val_auc_roc: 0.6437\n",
      "Epoch 2/10\n",
      "61441/61441 [==============================] - 1448s 24ms/step - loss: 0.3187 - auc_roc: 0.8351 - val_loss: 0.5512 - val_auc_roc: 0.9313\n",
      "Epoch 3/10\n",
      "61441/61441 [==============================] - 1452s 24ms/step - loss: 0.2231 - auc_roc: 0.9329 - val_loss: 0.2206 - val_auc_roc: 0.9393\n",
      "Epoch 4/10\n",
      "61441/61441 [==============================] - 1453s 24ms/step - loss: 0.1905 - auc_roc: 0.9510 - val_loss: 0.2212 - val_auc_roc: 0.9469\n",
      "Epoch 5/10\n",
      "61441/61441 [==============================] - 1449s 24ms/step - loss: 0.1701 - auc_roc: 0.9613 - val_loss: 0.2159 - val_auc_roc: 0.9468\n",
      "Epoch 6/10\n",
      "61441/61441 [==============================] - 1450s 24ms/step - loss: 0.1492 - auc_roc: 0.9699 - val_loss: 0.2023 - val_auc_roc: 0.9507\n",
      "Epoch 7/10\n",
      "61441/61441 [==============================] - 1448s 24ms/step - loss: 0.1304 - auc_roc: 0.9768 - val_loss: 0.2206 - val_auc_roc: 0.9493\n",
      "Epoch 8/10\n",
      "61441/61441 [==============================] - 1450s 24ms/step - loss: 0.1143 - auc_roc: 0.9813 - val_loss: 0.2521 - val_auc_roc: 0.9484\n",
      "Epoch 9/10\n",
      "61441/61441 [==============================] - 1467s 24ms/step - loss: 0.0999 - auc_roc: 0.9865 - val_loss: 3.2012 - val_auc_roc: 0.8655\n",
      "Epoch 10/10\n",
      "61441/61441 [==============================] - 1469s 24ms/step - loss: 0.0885 - auc_roc: 0.9886 - val_loss: 0.2578 - val_auc_roc: 0.9472\n"
     ]
    }
   ],
   "source": [
    "def warn(*args, **kwargs):\n",
    "    pass\n",
    "import warnings\n",
    "warnings.warn = warn\n",
    "from keras.layers.normalization import BatchNormalization\n",
    "\n",
    "\n",
    "batch_size=200\n",
    "epochs=10\n",
    "\n",
    "\n",
    "\n",
    "model = Sequential()\n",
    "model.add(Embedding(54923, 32, input_length=max_review_length))\n",
    "model.add(BatchNormalization())\n",
    "model.add(Dropout(0.2))\n",
    "\n",
    "model.add(LSTM(128,return_sequences=True))\n",
    "model.add(BatchNormalization())\n",
    "model.add(Dropout(0.2))\n",
    "\n",
    "model.add(LSTM(98,return_sequences=True))\n",
    "model.add(BatchNormalization())\n",
    "model.add(Dropout(0.2))\n",
    "\n",
    "model.add(LSTM(70,return_sequences=True))\n",
    "model.add(BatchNormalization())\n",
    "model.add(Dropout(0.2))\n",
    "\n",
    "model.add(LSTM(40,return_sequences=True))\n",
    "model.add(BatchNormalization())\n",
    "model.add(Dropout(0.2))\n",
    "\n",
    "model.add(LSTM(60))\n",
    "model.add(BatchNormalization())\n",
    "model.add(Dropout(0.5))\n",
    "\n",
    "\n",
    "\n",
    "model.add(Dense(1, activation='sigmoid'))\n",
    "model.summary()\n",
    "\n",
    "\n",
    "\n",
    "model.compile(loss='binary_crossentropy', optimizer='adam', metrics=[auc_roc])\n",
    "\n",
    "history = model.fit(X_train, np.array(Y1_train), batch_size = batch_size, epochs = epochs, verbose=1, validation_data=(X_test, Y1_test))"
   ]
  },
  {
   "cell_type": "code",
   "execution_count": 48,
   "metadata": {
    "colab": {
     "base_uri": "https://localhost:8080/",
     "height": 283
    },
    "colab_type": "code",
    "id": "jOrFtUQZIfdg",
    "outputId": "1ecac015-00d5-4904-d4f9-0fd0520b7745"
   },
   "outputs": [
    {
     "data": {
      "image/png": "[encoded data removed]",
      "text/plain": [
       "<Figure size 432x288 with 1 Axes>"
      ]
     },
     "metadata": {
      "tags": []
     },
     "output_type": "display_data"
    }
   ],
   "source": [
    "fig,ax = plt.subplots(1,1)\n",
    "ax.set_xlabel('epoch') ; ax.set_ylabel('Categorical Crossentropy Loss')\n",
    "x = list(range(1,epochs+1))\n",
    "vy = history.history['val_loss']\n",
    "ty = history.history['loss']\n",
    "plt_dynamic(x, vy, ty, ax)"
   ]
  },
  {
   "cell_type": "markdown",
   "metadata": {},
   "source": [
    "# CONCLUSIONS :"
   ]
  },
  {
   "cell_type": "code",
   "execution_count": 3,
   "metadata": {
    "colab": {},
    "colab_type": "code",
    "id": "KF8CIS85EV2R"
   },
   "outputs": [
    {
     "name": "stdout",
     "output_type": "stream",
     "text": [
      "+------+--------------------+-------------------------------+---------------------------+\n",
      "| SrNo | No. of LSTM Layers | No. of neurons in LSTM Layers |  Test AUC After 10 epoch  |\n",
      "+------+--------------------+-------------------------------+---------------------------+\n",
      "|  1   |    1 LSTM Layer    |              128              |           94.02           |\n",
      "|  2   |    2 LSTM Layer    |             128-64            |           94.31           |\n",
      "|  3   |    4 LSTM Layer    |          128-98-70-40         |           94.76           |\n",
      "|  4   |    5 LSTM Layer    |        128-98-70-40-60        |           94.72           |\n",
      "+------+--------------------+-------------------------------+---------------------------+\n"
     ]
    }
   ],
   "source": [
    "from prettytable import PrettyTable\n",
    "ptable = PrettyTable()\n",
    "Test=[94.02,94.31,94.76,94.72]\n",
    "No=[\" 1 LSTM Layer \", \"2 LSTM Layer\",\"4 LSTM Layer\",\"5 LSTM Layer\" ]\n",
    "Neurons=[\"128\",\"128-64\",\"128-98-70-40\",\"128-98-70-40-60\"]\n",
    "ptable.add_column(\"SrNo\",[1,2,3,4])\n",
    "ptable.add_column(\"No. of LSTM Layers\",No)\n",
    "ptable.add_column(\"No. of neurons in LSTM Layers\",Neurons)\n",
    "ptable.add_column(\" Test AUC After 10 epoch \",Test)\n",
    "print(ptable)"
   ]
  },
  {
   "cell_type": "markdown",
   "metadata": {
    "colab": {},
    "colab_type": "code",
    "id": "05zH8BBdEV4r"
   },
   "source": [
    "<H3>For Batch size = 200 and epoch = 10 <br></H3>\n",
    "1] If we add only 1 LSTM layer with batchnormalization and dropout the model overfits more as seen in the plot, the difference between train and test error is more.<br>\n",
    "2] For 2 LSTM Layers with batchnormalization and dropout the model overfits but less compared to only 1 layer of LSTM.<br>\n",
    "3] For 4 LSTM Layers, the model overfits less than with 1 and 2 layers.<br>\n",
    "4] For 5 LSTM Layers, the model performs better and gives test AUC of 94.72.<br>"
   ]
  },
  {
   "cell_type": "code",
   "execution_count": null,
   "metadata": {},
   "outputs": [],
   "source": []
  }
 ],
 "metadata": {
  "accelerator": "GPU",
  "colab": {
   "collapsed_sections": [],
   "name": "LSTM -- Amazon Fine Food Reviews.ipynb",
   "provenance": [],
   "version": "0.3.2"
  },
  "kernelspec": {
   "display_name": "Python 3",
   "language": "python",
   "name": "python3"
  },
  "language_info": {
   "codemirror_mode": {
    "name": "ipython",
    "version": 3
   },
   "file_extension": ".py",
   "mimetype": "text/x-python",
   "name": "python",
   "nbconvert_exporter": "python",
   "pygments_lexer": "ipython3",
   "version": "3.6.5"
  }
 },
 "nbformat": 4,
 "nbformat_minor": 1
}
