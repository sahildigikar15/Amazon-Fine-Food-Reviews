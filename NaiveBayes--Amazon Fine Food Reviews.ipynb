{
 "cells": [
  {
   "cell_type": "code",
   "execution_count": 2,
   "metadata": {
    "colab": {},
    "colab_type": "code",
    "id": "dLYq3BkfJkjL"
   },
   "outputs": [],
   "source": [
    "%matplotlib inline\n",
    "import warnings\n",
    "warnings.filterwarnings(\"ignore\")\n",
    "\n",
    "\n",
    "import sqlite3\n",
    "import pandas as pd\n",
    "import numpy as np\n",
    "import nltk\n",
    "import string\n",
    "import matplotlib.pyplot as plt\n",
    "import seaborn as sns\n",
    "from sklearn.feature_extraction.text import TfidfTransformer\n",
    "from sklearn.feature_extraction.text import TfidfVectorizer\n",
    "\n",
    "from sklearn.feature_extraction.text import CountVectorizer\n",
    "from sklearn.metrics import confusion_matrix\n",
    "from sklearn import metrics\n",
    "from sklearn.metrics import roc_curve, auc\n",
    "from nltk.stem.porter import PorterStemmer\n",
    "\n",
    "import re\n",
    "# Tutorial about Python regular expressions: https://pymotw.com/2/re/\n",
    "import string\n",
    "from nltk.corpus import stopwords\n",
    "from nltk.stem import PorterStemmer\n",
    "from nltk.stem.wordnet import WordNetLemmatizer\n",
    "\n",
    "from gensim.models import Word2Vec\n",
    "from gensim.models import KeyedVectors\n",
    "import pickle\n",
    "\n",
    "from tqdm import tqdm\n",
    "import os"
   ]
  },
  {
   "cell_type": "code",
   "execution_count": 3,
   "metadata": {
    "colab": {},
    "colab_type": "code",
    "id": "rXVxnx_NJkjO",
    "outputId": "98628980-4d6e-4c53-913f-2d207932d2d0"
   },
   "outputs": [
    {
     "name": "stdout",
     "output_type": "stream",
     "text": [
      "Number of data points in our data (100000, 10)\n"
     ]
    },
    {
     "data": {
      "text/html": [
       "<div>\n",
       "<style scoped>\n",
       "    .dataframe tbody tr th:only-of-type {\n",
       "        vertical-align: middle;\n",
       "    }\n",
       "\n",
       "    .dataframe tbody tr th {\n",
       "        vertical-align: top;\n",
       "    }\n",
       "\n",
       "    .dataframe thead th {\n",
       "        text-align: right;\n",
       "    }\n",
       "</style>\n",
       "<table border=\"1\" class=\"dataframe\">\n",
       "  <thead>\n",
       "    <tr style=\"text-align: right;\">\n",
       "      <th></th>\n",
       "      <th>Id</th>\n",
       "      <th>ProductId</th>\n",
       "      <th>UserId</th>\n",
       "      <th>ProfileName</th>\n",
       "      <th>HelpfulnessNumerator</th>\n",
       "      <th>HelpfulnessDenominator</th>\n",
       "      <th>Score</th>\n",
       "      <th>Time</th>\n",
       "      <th>Summary</th>\n",
       "      <th>Text</th>\n",
       "    </tr>\n",
       "  </thead>\n",
       "  <tbody>\n",
       "    <tr>\n",
       "      <th>0</th>\n",
       "      <td>1</td>\n",
       "      <td>B001E4KFG0</td>\n",
       "      <td>A3SGXH7AUHU8GW</td>\n",
       "      <td>delmartian</td>\n",
       "      <td>1</td>\n",
       "      <td>1</td>\n",
       "      <td>1</td>\n",
       "      <td>1303862400</td>\n",
       "      <td>Good Quality Dog Food</td>\n",
       "      <td>I have bought several of the Vitality canned d...</td>\n",
       "    </tr>\n",
       "    <tr>\n",
       "      <th>1</th>\n",
       "      <td>2</td>\n",
       "      <td>B00813GRG4</td>\n",
       "      <td>A1D87F6ZCVE5NK</td>\n",
       "      <td>dll pa</td>\n",
       "      <td>0</td>\n",
       "      <td>0</td>\n",
       "      <td>0</td>\n",
       "      <td>1346976000</td>\n",
       "      <td>Not as Advertised</td>\n",
       "      <td>Product arrived labeled as Jumbo Salted Peanut...</td>\n",
       "    </tr>\n",
       "    <tr>\n",
       "      <th>2</th>\n",
       "      <td>3</td>\n",
       "      <td>B000LQOCH0</td>\n",
       "      <td>ABXLMWJIXXAIN</td>\n",
       "      <td>Natalia Corres \"Natalia Corres\"</td>\n",
       "      <td>1</td>\n",
       "      <td>1</td>\n",
       "      <td>1</td>\n",
       "      <td>1219017600</td>\n",
       "      <td>\"Delight\" says it all</td>\n",
       "      <td>This is a confection that has been around a fe...</td>\n",
       "    </tr>\n",
       "  </tbody>\n",
       "</table>\n",
       "</div>"
      ],
      "text/plain": [
       "   Id   ProductId          UserId                      ProfileName  \\\n",
       "0   1  B001E4KFG0  A3SGXH7AUHU8GW                       delmartian   \n",
       "1   2  B00813GRG4  A1D87F6ZCVE5NK                           dll pa   \n",
       "2   3  B000LQOCH0   ABXLMWJIXXAIN  Natalia Corres \"Natalia Corres\"   \n",
       "\n",
       "   HelpfulnessNumerator  HelpfulnessDenominator  Score        Time  \\\n",
       "0                     1                       1      1  1303862400   \n",
       "1                     0                       0      0  1346976000   \n",
       "2                     1                       1      1  1219017600   \n",
       "\n",
       "                 Summary                                               Text  \n",
       "0  Good Quality Dog Food  I have bought several of the Vitality canned d...  \n",
       "1      Not as Advertised  Product arrived labeled as Jumbo Salted Peanut...  \n",
       "2  \"Delight\" says it all  This is a confection that has been around a fe...  "
      ]
     },
     "execution_count": 3,
     "metadata": {},
     "output_type": "execute_result"
    }
   ],
   "source": [
    "# using SQLite Table to read data.\n",
    "con = sqlite3.connect('database.sqlite') \n",
    "\n",
    "# filtering only positive and negative reviews i.e. \n",
    "# not taking into consideration those reviews with Score=3\n",
    "# SELECT * FROM Reviews WHERE Score != 3 LIMIT 500000, will give top 500000 data points\n",
    "# you can change the number to any other number based on your computing power\n",
    "\n",
    "# filtered_data = pd.read_sql_query(\"\"\" SELECT * FROM Reviews WHERE Score != 3 LIMIT 500000\"\"\", con) \n",
    "# for tsne assignment you can take 5k data points\n",
    "\n",
    "filtered_data = pd.read_sql_query(\"\"\" SELECT * FROM Reviews WHERE Score != 3 LIMIT 100000\"\"\", con) \n",
    "\n",
    "# Give reviews with Score>3 a positive rating(1), and reviews with a score<3 a negative rating(0).\n",
    "def partition(x):\n",
    "    if x < 3:\n",
    "        return 0\n",
    "    return 1\n",
    "\n",
    "#changing reviews with score less than 3 to be positive and vice-versa\n",
    "actualScore = filtered_data['Score']\n",
    "positiveNegative = actualScore.map(partition) \n",
    "filtered_data['Score'] = positiveNegative\n",
    "print(\"Number of data points in our data\", filtered_data.shape)\n",
    "filtered_data.head(3)"
   ]
  },
  {
   "cell_type": "code",
   "execution_count": 4,
   "metadata": {
    "colab": {},
    "colab_type": "code",
    "id": "ZLasp3QxJkjS"
   },
   "outputs": [],
   "source": [
    "display = pd.read_sql_query(\"\"\"\n",
    "SELECT UserId, ProductId, ProfileName, Time, Score, Text, COUNT(*)\n",
    "FROM Reviews\n",
    "GROUP BY UserId\n",
    "HAVING COUNT(*)>1\n",
    "\"\"\", con)"
   ]
  },
  {
   "cell_type": "code",
   "execution_count": 5,
   "metadata": {
    "colab": {},
    "colab_type": "code",
    "id": "pHzk_lUkJkjW",
    "outputId": "3461f626-dc72-4b0d-af37-c3625e7e81b2",
    "scrolled": true
   },
   "outputs": [
    {
     "name": "stdout",
     "output_type": "stream",
     "text": [
      "(80668, 7)\n"
     ]
    },
    {
     "data": {
      "text/html": [
       "<div>\n",
       "<style scoped>\n",
       "    .dataframe tbody tr th:only-of-type {\n",
       "        vertical-align: middle;\n",
       "    }\n",
       "\n",
       "    .dataframe tbody tr th {\n",
       "        vertical-align: top;\n",
       "    }\n",
       "\n",
       "    .dataframe thead th {\n",
       "        text-align: right;\n",
       "    }\n",
       "</style>\n",
       "<table border=\"1\" class=\"dataframe\">\n",
       "  <thead>\n",
       "    <tr style=\"text-align: right;\">\n",
       "      <th></th>\n",
       "      <th>UserId</th>\n",
       "      <th>ProductId</th>\n",
       "      <th>ProfileName</th>\n",
       "      <th>Time</th>\n",
       "      <th>Score</th>\n",
       "      <th>Text</th>\n",
       "      <th>COUNT(*)</th>\n",
       "    </tr>\n",
       "  </thead>\n",
       "  <tbody>\n",
       "    <tr>\n",
       "      <th>0</th>\n",
       "      <td>#oc-R115TNMSPFT9I7</td>\n",
       "      <td>B007Y59HVM</td>\n",
       "      <td>Breyton</td>\n",
       "      <td>1331510400</td>\n",
       "      <td>2</td>\n",
       "      <td>Overall its just OK when considering the price...</td>\n",
       "      <td>2</td>\n",
       "    </tr>\n",
       "    <tr>\n",
       "      <th>1</th>\n",
       "      <td>#oc-R11D9D7SHXIJB9</td>\n",
       "      <td>B005HG9ET0</td>\n",
       "      <td>Louis E. Emory \"hoppy\"</td>\n",
       "      <td>1342396800</td>\n",
       "      <td>5</td>\n",
       "      <td>My wife has recurring extreme muscle spasms, u...</td>\n",
       "      <td>3</td>\n",
       "    </tr>\n",
       "    <tr>\n",
       "      <th>2</th>\n",
       "      <td>#oc-R11DNU2NBKQ23Z</td>\n",
       "      <td>B007Y59HVM</td>\n",
       "      <td>Kim Cieszykowski</td>\n",
       "      <td>1348531200</td>\n",
       "      <td>1</td>\n",
       "      <td>This coffee is horrible and unfortunately not ...</td>\n",
       "      <td>2</td>\n",
       "    </tr>\n",
       "    <tr>\n",
       "      <th>3</th>\n",
       "      <td>#oc-R11O5J5ZVQE25C</td>\n",
       "      <td>B005HG9ET0</td>\n",
       "      <td>Penguin Chick</td>\n",
       "      <td>1346889600</td>\n",
       "      <td>5</td>\n",
       "      <td>This will be the bottle that you grab from the...</td>\n",
       "      <td>3</td>\n",
       "    </tr>\n",
       "    <tr>\n",
       "      <th>4</th>\n",
       "      <td>#oc-R12KPBODL2B5ZD</td>\n",
       "      <td>B007OSBE1U</td>\n",
       "      <td>Christopher P. Presta</td>\n",
       "      <td>1348617600</td>\n",
       "      <td>1</td>\n",
       "      <td>I didnt like this coffee. Instead of telling y...</td>\n",
       "      <td>2</td>\n",
       "    </tr>\n",
       "  </tbody>\n",
       "</table>\n",
       "</div>"
      ],
      "text/plain": [
       "               UserId   ProductId             ProfileName        Time  Score  \\\n",
       "0  #oc-R115TNMSPFT9I7  B007Y59HVM                 Breyton  1331510400      2   \n",
       "1  #oc-R11D9D7SHXIJB9  B005HG9ET0  Louis E. Emory \"hoppy\"  1342396800      5   \n",
       "2  #oc-R11DNU2NBKQ23Z  B007Y59HVM        Kim Cieszykowski  1348531200      1   \n",
       "3  #oc-R11O5J5ZVQE25C  B005HG9ET0           Penguin Chick  1346889600      5   \n",
       "4  #oc-R12KPBODL2B5ZD  B007OSBE1U   Christopher P. Presta  1348617600      1   \n",
       "\n",
       "                                                Text  COUNT(*)  \n",
       "0  Overall its just OK when considering the price...         2  \n",
       "1  My wife has recurring extreme muscle spasms, u...         3  \n",
       "2  This coffee is horrible and unfortunately not ...         2  \n",
       "3  This will be the bottle that you grab from the...         3  \n",
       "4  I didnt like this coffee. Instead of telling y...         2  "
      ]
     },
     "execution_count": 5,
     "metadata": {},
     "output_type": "execute_result"
    }
   ],
   "source": [
    "print(display.shape)\n",
    "display.head()"
   ]
  },
  {
   "cell_type": "code",
   "execution_count": 6,
   "metadata": {
    "colab": {},
    "colab_type": "code",
    "id": "HUsn2lg8Jkjb",
    "outputId": "76e2e98e-b728-46ba-d619-c2008134a3b7"
   },
   "outputs": [
    {
     "data": {
      "text/html": [
       "<div>\n",
       "<style scoped>\n",
       "    .dataframe tbody tr th:only-of-type {\n",
       "        vertical-align: middle;\n",
       "    }\n",
       "\n",
       "    .dataframe tbody tr th {\n",
       "        vertical-align: top;\n",
       "    }\n",
       "\n",
       "    .dataframe thead th {\n",
       "        text-align: right;\n",
       "    }\n",
       "</style>\n",
       "<table border=\"1\" class=\"dataframe\">\n",
       "  <thead>\n",
       "    <tr style=\"text-align: right;\">\n",
       "      <th></th>\n",
       "      <th>UserId</th>\n",
       "      <th>ProductId</th>\n",
       "      <th>ProfileName</th>\n",
       "      <th>Time</th>\n",
       "      <th>Score</th>\n",
       "      <th>Text</th>\n",
       "      <th>COUNT(*)</th>\n",
       "    </tr>\n",
       "  </thead>\n",
       "  <tbody>\n",
       "    <tr>\n",
       "      <th>80638</th>\n",
       "      <td>AZY10LLTJ71NX</td>\n",
       "      <td>B006P7E5ZI</td>\n",
       "      <td>undertheshrine \"undertheshrine\"</td>\n",
       "      <td>1334707200</td>\n",
       "      <td>5</td>\n",
       "      <td>I was recommended to try green tea extract to ...</td>\n",
       "      <td>5</td>\n",
       "    </tr>\n",
       "  </tbody>\n",
       "</table>\n",
       "</div>"
      ],
      "text/plain": [
       "              UserId   ProductId                      ProfileName        Time  \\\n",
       "80638  AZY10LLTJ71NX  B006P7E5ZI  undertheshrine \"undertheshrine\"  1334707200   \n",
       "\n",
       "       Score                                               Text  COUNT(*)  \n",
       "80638      5  I was recommended to try green tea extract to ...         5  "
      ]
     },
     "execution_count": 6,
     "metadata": {},
     "output_type": "execute_result"
    }
   ],
   "source": [
    "display[display['UserId']=='AZY10LLTJ71NX']"
   ]
  },
  {
   "cell_type": "code",
   "execution_count": 7,
   "metadata": {
    "colab": {},
    "colab_type": "code",
    "id": "CyPhzHZKJkjf",
    "outputId": "28b60f13-e2e6-4960-e5ba-3467e16dbd03"
   },
   "outputs": [
    {
     "data": {
      "text/plain": [
       "393063"
      ]
     },
     "execution_count": 7,
     "metadata": {},
     "output_type": "execute_result"
    }
   ],
   "source": [
    "display['COUNT(*)'].sum()"
   ]
  },
  {
   "cell_type": "markdown",
   "metadata": {
    "colab_type": "text",
    "id": "y22fy_WtJkji"
   },
   "source": [
    "#  [2] Exploratory Data Analysis"
   ]
  },
  {
   "cell_type": "markdown",
   "metadata": {
    "colab_type": "text",
    "id": "ZqpW3tWPJkjl"
   },
   "source": [
    "## [2.1] Data Cleaning: Deduplication\n",
    "\n",
    "It is observed (as shown in the table below) that the reviews data had many duplicate entries. Hence it was necessary to remove duplicates in order to get unbiased results for the analysis of the data.  Following is an example:"
   ]
  },
  {
   "cell_type": "code",
   "execution_count": 8,
   "metadata": {
    "colab": {},
    "colab_type": "code",
    "id": "fmlu_oooJkjl",
    "outputId": "9ae82f65-ed65-425a-ad4d-b96091e37940",
    "scrolled": false
   },
   "outputs": [
    {
     "data": {
      "text/html": [
       "<div>\n",
       "<style scoped>\n",
       "    .dataframe tbody tr th:only-of-type {\n",
       "        vertical-align: middle;\n",
       "    }\n",
       "\n",
       "    .dataframe tbody tr th {\n",
       "        vertical-align: top;\n",
       "    }\n",
       "\n",
       "    .dataframe thead th {\n",
       "        text-align: right;\n",
       "    }\n",
       "</style>\n",
       "<table border=\"1\" class=\"dataframe\">\n",
       "  <thead>\n",
       "    <tr style=\"text-align: right;\">\n",
       "      <th></th>\n",
       "      <th>Id</th>\n",
       "      <th>ProductId</th>\n",
       "      <th>UserId</th>\n",
       "      <th>ProfileName</th>\n",
       "      <th>HelpfulnessNumerator</th>\n",
       "      <th>HelpfulnessDenominator</th>\n",
       "      <th>Score</th>\n",
       "      <th>Time</th>\n",
       "      <th>Summary</th>\n",
       "      <th>Text</th>\n",
       "    </tr>\n",
       "  </thead>\n",
       "  <tbody>\n",
       "    <tr>\n",
       "      <th>0</th>\n",
       "      <td>78445</td>\n",
       "      <td>B000HDL1RQ</td>\n",
       "      <td>AR5J8UI46CURR</td>\n",
       "      <td>Geetha Krishnan</td>\n",
       "      <td>2</td>\n",
       "      <td>2</td>\n",
       "      <td>5</td>\n",
       "      <td>1199577600</td>\n",
       "      <td>LOACKER QUADRATINI VANILLA WAFERS</td>\n",
       "      <td>DELICIOUS WAFERS. I FIND THAT EUROPEAN WAFERS ...</td>\n",
       "    </tr>\n",
       "    <tr>\n",
       "      <th>1</th>\n",
       "      <td>138317</td>\n",
       "      <td>B000HDOPYC</td>\n",
       "      <td>AR5J8UI46CURR</td>\n",
       "      <td>Geetha Krishnan</td>\n",
       "      <td>2</td>\n",
       "      <td>2</td>\n",
       "      <td>5</td>\n",
       "      <td>1199577600</td>\n",
       "      <td>LOACKER QUADRATINI VANILLA WAFERS</td>\n",
       "      <td>DELICIOUS WAFERS. I FIND THAT EUROPEAN WAFERS ...</td>\n",
       "    </tr>\n",
       "    <tr>\n",
       "      <th>2</th>\n",
       "      <td>138277</td>\n",
       "      <td>B000HDOPYM</td>\n",
       "      <td>AR5J8UI46CURR</td>\n",
       "      <td>Geetha Krishnan</td>\n",
       "      <td>2</td>\n",
       "      <td>2</td>\n",
       "      <td>5</td>\n",
       "      <td>1199577600</td>\n",
       "      <td>LOACKER QUADRATINI VANILLA WAFERS</td>\n",
       "      <td>DELICIOUS WAFERS. I FIND THAT EUROPEAN WAFERS ...</td>\n",
       "    </tr>\n",
       "    <tr>\n",
       "      <th>3</th>\n",
       "      <td>73791</td>\n",
       "      <td>B000HDOPZG</td>\n",
       "      <td>AR5J8UI46CURR</td>\n",
       "      <td>Geetha Krishnan</td>\n",
       "      <td>2</td>\n",
       "      <td>2</td>\n",
       "      <td>5</td>\n",
       "      <td>1199577600</td>\n",
       "      <td>LOACKER QUADRATINI VANILLA WAFERS</td>\n",
       "      <td>DELICIOUS WAFERS. I FIND THAT EUROPEAN WAFERS ...</td>\n",
       "    </tr>\n",
       "    <tr>\n",
       "      <th>4</th>\n",
       "      <td>155049</td>\n",
       "      <td>B000PAQ75C</td>\n",
       "      <td>AR5J8UI46CURR</td>\n",
       "      <td>Geetha Krishnan</td>\n",
       "      <td>2</td>\n",
       "      <td>2</td>\n",
       "      <td>5</td>\n",
       "      <td>1199577600</td>\n",
       "      <td>LOACKER QUADRATINI VANILLA WAFERS</td>\n",
       "      <td>DELICIOUS WAFERS. I FIND THAT EUROPEAN WAFERS ...</td>\n",
       "    </tr>\n",
       "  </tbody>\n",
       "</table>\n",
       "</div>"
      ],
      "text/plain": [
       "       Id   ProductId         UserId      ProfileName  HelpfulnessNumerator  \\\n",
       "0   78445  B000HDL1RQ  AR5J8UI46CURR  Geetha Krishnan                     2   \n",
       "1  138317  B000HDOPYC  AR5J8UI46CURR  Geetha Krishnan                     2   \n",
       "2  138277  B000HDOPYM  AR5J8UI46CURR  Geetha Krishnan                     2   \n",
       "3   73791  B000HDOPZG  AR5J8UI46CURR  Geetha Krishnan                     2   \n",
       "4  155049  B000PAQ75C  AR5J8UI46CURR  Geetha Krishnan                     2   \n",
       "\n",
       "   HelpfulnessDenominator  Score        Time  \\\n",
       "0                       2      5  1199577600   \n",
       "1                       2      5  1199577600   \n",
       "2                       2      5  1199577600   \n",
       "3                       2      5  1199577600   \n",
       "4                       2      5  1199577600   \n",
       "\n",
       "                             Summary  \\\n",
       "0  LOACKER QUADRATINI VANILLA WAFERS   \n",
       "1  LOACKER QUADRATINI VANILLA WAFERS   \n",
       "2  LOACKER QUADRATINI VANILLA WAFERS   \n",
       "3  LOACKER QUADRATINI VANILLA WAFERS   \n",
       "4  LOACKER QUADRATINI VANILLA WAFERS   \n",
       "\n",
       "                                                Text  \n",
       "0  DELICIOUS WAFERS. I FIND THAT EUROPEAN WAFERS ...  \n",
       "1  DELICIOUS WAFERS. I FIND THAT EUROPEAN WAFERS ...  \n",
       "2  DELICIOUS WAFERS. I FIND THAT EUROPEAN WAFERS ...  \n",
       "3  DELICIOUS WAFERS. I FIND THAT EUROPEAN WAFERS ...  \n",
       "4  DELICIOUS WAFERS. I FIND THAT EUROPEAN WAFERS ...  "
      ]
     },
     "execution_count": 8,
     "metadata": {},
     "output_type": "execute_result"
    }
   ],
   "source": [
    "display= pd.read_sql_query(\"\"\"\n",
    "SELECT *\n",
    "FROM Reviews\n",
    "WHERE Score != 3 AND UserId=\"AR5J8UI46CURR\"\n",
    "ORDER BY ProductID\n",
    "\"\"\", con)\n",
    "display.head()"
   ]
  },
  {
   "cell_type": "markdown",
   "metadata": {
    "colab_type": "text",
    "id": "pvogJHEyJkjq"
   },
   "source": [
    "As it can be seen above that same user has multiple reviews with same values for HelpfulnessNumerator, HelpfulnessDenominator, Score, Time, Summary and Text and on doing analysis it was found that <br>\n",
    "<br> \n",
    "ProductId=B000HDOPZG was Loacker Quadratini Vanilla Wafer Cookies, 8.82-Ounce Packages (Pack of 8)<br>\n",
    "<br> \n",
    "ProductId=B000HDL1RQ was Loacker Quadratini Lemon Wafer Cookies, 8.82-Ounce Packages (Pack of 8) and so on<br>\n",
    "\n",
    "It was inferred after analysis that reviews with same parameters other than ProductId belonged to the same product just having different flavour or quantity. Hence in order to reduce redundancy it was decided to eliminate the rows having same parameters.<br>\n",
    "\n",
    "The method used for the same was that we first sort the data according to ProductId and then just keep the first similar product review and delelte the others. for eg. in the above just the review for ProductId=B000HDL1RQ remains. This method ensures that there is only one representative for each product and deduplication without sorting would lead to possibility of different representatives still existing for the same product."
   ]
  },
  {
   "cell_type": "code",
   "execution_count": 9,
   "metadata": {
    "colab": {},
    "colab_type": "code",
    "id": "LAWOrfBaJkjr"
   },
   "outputs": [],
   "source": [
    "#Sorting data according to ProductId in ascending order\n",
    "sorted_data=filtered_data.sort_values('ProductId', axis=0, ascending=True, inplace=False, kind='quicksort', na_position='last')"
   ]
  },
  {
   "cell_type": "code",
   "execution_count": 10,
   "metadata": {
    "colab": {},
    "colab_type": "code",
    "id": "dfaQob28Jkju",
    "outputId": "21104e4f-cd18-4353-a54a-5b4638fc552b"
   },
   "outputs": [
    {
     "data": {
      "text/plain": [
       "(87775, 10)"
      ]
     },
     "execution_count": 10,
     "metadata": {},
     "output_type": "execute_result"
    }
   ],
   "source": [
    "#Deduplication of entries\n",
    "final=sorted_data.drop_duplicates(subset={\"UserId\",\"ProfileName\",\"Time\",\"Text\"}, keep='first', inplace=False)\n",
    "final.shape"
   ]
  },
  {
   "cell_type": "code",
   "execution_count": 11,
   "metadata": {
    "colab": {},
    "colab_type": "code",
    "id": "9QVxT6oxJkjx",
    "outputId": "f292b9fe-6065-4979-830d-c79bc6785a3d"
   },
   "outputs": [
    {
     "data": {
      "text/plain": [
       "87.775"
      ]
     },
     "execution_count": 11,
     "metadata": {},
     "output_type": "execute_result"
    }
   ],
   "source": [
    "#Checking to see how much % of data still remains\n",
    "(final['Id'].size*1.0)/(filtered_data['Id'].size*1.0)*100"
   ]
  },
  {
   "cell_type": "markdown",
   "metadata": {
    "colab_type": "text",
    "id": "qVaxONHLJkj1"
   },
   "source": [
    "<b>Observation:-</b> It was also seen that in two rows given below the value of HelpfulnessNumerator is greater than HelpfulnessDenominator which is not practically possible hence these two rows too are removed from calcualtions"
   ]
  },
  {
   "cell_type": "code",
   "execution_count": 12,
   "metadata": {
    "colab": {},
    "colab_type": "code",
    "id": "vLoqfOjcJkj1",
    "outputId": "db3448f8-fbda-4205-a7cc-5048e0f1fd19"
   },
   "outputs": [
    {
     "data": {
      "text/html": [
       "<div>\n",
       "<style scoped>\n",
       "    .dataframe tbody tr th:only-of-type {\n",
       "        vertical-align: middle;\n",
       "    }\n",
       "\n",
       "    .dataframe tbody tr th {\n",
       "        vertical-align: top;\n",
       "    }\n",
       "\n",
       "    .dataframe thead th {\n",
       "        text-align: right;\n",
       "    }\n",
       "</style>\n",
       "<table border=\"1\" class=\"dataframe\">\n",
       "  <thead>\n",
       "    <tr style=\"text-align: right;\">\n",
       "      <th></th>\n",
       "      <th>Id</th>\n",
       "      <th>ProductId</th>\n",
       "      <th>UserId</th>\n",
       "      <th>ProfileName</th>\n",
       "      <th>HelpfulnessNumerator</th>\n",
       "      <th>HelpfulnessDenominator</th>\n",
       "      <th>Score</th>\n",
       "      <th>Time</th>\n",
       "      <th>Summary</th>\n",
       "      <th>Text</th>\n",
       "    </tr>\n",
       "  </thead>\n",
       "  <tbody>\n",
       "    <tr>\n",
       "      <th>0</th>\n",
       "      <td>64422</td>\n",
       "      <td>B000MIDROQ</td>\n",
       "      <td>A161DK06JJMCYF</td>\n",
       "      <td>J. E. Stephens \"Jeanne\"</td>\n",
       "      <td>3</td>\n",
       "      <td>1</td>\n",
       "      <td>5</td>\n",
       "      <td>1224892800</td>\n",
       "      <td>Bought This for My Son at College</td>\n",
       "      <td>My son loves spaghetti so I didn't hesitate or...</td>\n",
       "    </tr>\n",
       "    <tr>\n",
       "      <th>1</th>\n",
       "      <td>44737</td>\n",
       "      <td>B001EQ55RW</td>\n",
       "      <td>A2V0I904FH7ABY</td>\n",
       "      <td>Ram</td>\n",
       "      <td>3</td>\n",
       "      <td>2</td>\n",
       "      <td>4</td>\n",
       "      <td>1212883200</td>\n",
       "      <td>Pure cocoa taste with crunchy almonds inside</td>\n",
       "      <td>It was almost a 'love at first bite' - the per...</td>\n",
       "    </tr>\n",
       "  </tbody>\n",
       "</table>\n",
       "</div>"
      ],
      "text/plain": [
       "      Id   ProductId          UserId              ProfileName  \\\n",
       "0  64422  B000MIDROQ  A161DK06JJMCYF  J. E. Stephens \"Jeanne\"   \n",
       "1  44737  B001EQ55RW  A2V0I904FH7ABY                      Ram   \n",
       "\n",
       "   HelpfulnessNumerator  HelpfulnessDenominator  Score        Time  \\\n",
       "0                     3                       1      5  1224892800   \n",
       "1                     3                       2      4  1212883200   \n",
       "\n",
       "                                        Summary  \\\n",
       "0             Bought This for My Son at College   \n",
       "1  Pure cocoa taste with crunchy almonds inside   \n",
       "\n",
       "                                                Text  \n",
       "0  My son loves spaghetti so I didn't hesitate or...  \n",
       "1  It was almost a 'love at first bite' - the per...  "
      ]
     },
     "execution_count": 12,
     "metadata": {},
     "output_type": "execute_result"
    }
   ],
   "source": [
    "display= pd.read_sql_query(\"\"\"\n",
    "SELECT *\n",
    "FROM Reviews\n",
    "WHERE Score != 3 AND Id=44737 OR Id=64422\n",
    "ORDER BY ProductID\n",
    "\"\"\", con)\n",
    "\n",
    "display.head()"
   ]
  },
  {
   "cell_type": "code",
   "execution_count": 13,
   "metadata": {
    "colab": {},
    "colab_type": "code",
    "id": "f_185ozFJkj9"
   },
   "outputs": [],
   "source": [
    "final=final[final.HelpfulnessNumerator<=final.HelpfulnessDenominator]"
   ]
  },
  {
   "cell_type": "code",
   "execution_count": 14,
   "metadata": {
    "colab": {},
    "colab_type": "code",
    "id": "CofRySJyJkkC",
    "outputId": "a06c52f6-66a9-429b-8a5e-e20259f0bb21"
   },
   "outputs": [
    {
     "name": "stdout",
     "output_type": "stream",
     "text": [
      "(87773, 10)\n"
     ]
    },
    {
     "data": {
      "text/plain": [
       "1    73592\n",
       "0    14181\n",
       "Name: Score, dtype: int64"
      ]
     },
     "execution_count": 14,
     "metadata": {},
     "output_type": "execute_result"
    }
   ],
   "source": [
    "#Before starting the next phase of preprocessing lets see the number of entries left\n",
    "print(final.shape)\n",
    "\n",
    "#How many positive and negative reviews are present in our dataset?\n",
    "final['Score'].value_counts()"
   ]
  },
  {
   "cell_type": "markdown",
   "metadata": {
    "colab_type": "text",
    "id": "-fEWeywxJkkI"
   },
   "source": [
    "#  [3] Preprocessing"
   ]
  },
  {
   "cell_type": "markdown",
   "metadata": {
    "colab_type": "text",
    "id": "tzpbt9aOJkkJ"
   },
   "source": [
    "## [3.1].  Preprocessing Review Text\n",
    "\n",
    "Now that we have finished deduplication our data requires some preprocessing before we go on further with analysis and making the prediction model.\n",
    "\n",
    "Hence in the Preprocessing phase we do the following in the order below:-\n",
    "\n",
    "1. Begin by removing the html tags\n",
    "2. Remove any punctuations or limited set of special characters like , or . or # etc.\n",
    "3. Check if the word is made up of english letters and is not alpha-numeric\n",
    "4. Check to see if the length of the word is greater than 2 (as it was researched that there is no adjective in 2-letters)\n",
    "5. Convert the word to lowercase\n",
    "6. Remove Stopwords\n",
    "7. Finally Snowball Stemming the word (it was obsereved to be better than Porter Stemming)<br>\n",
    "\n",
    "After which we collect the words used to describe positive and negative reviews"
   ]
  },
  {
   "cell_type": "code",
   "execution_count": 15,
   "metadata": {
    "colab": {},
    "colab_type": "code",
    "id": "YqxBeLk8JkkL",
    "outputId": "1819632d-0129-4a13-d7ff-4e7bbf129dff"
   },
   "outputs": [
    {
     "name": "stdout",
     "output_type": "stream",
     "text": [
      "My dogs loves this chicken but its a product from China, so we wont be buying it anymore.  Its very hard to find any chicken products made in the USA but they are out there, but this one isnt.  Its too bad too because its a good product but I wont take any chances till they know what is going on with the china imports.\n",
      "==================================================\n",
      "The Candy Blocks were a nice visual for the Lego Birthday party but the candy has little taste to it.  Very little of the 2 lbs that I bought were eaten and I threw the rest away.  I would not buy the candy again.\n",
      "==================================================\n",
      "was way to hot for my blood, took a bite and did a jig  lol\n",
      "==================================================\n",
      "My dog LOVES these treats. They tend to have a very strong fish oil smell. So if you are afraid of the fishy smell, don't get it. But I think my dog likes it because of the smell. These treats are really small in size. They are great for training. You can give your dog several of these without worrying about him over eating. Amazon's price was much more reasonable than any other retailer. You can buy a 1 pound bag on Amazon for almost the same price as a 6 ounce bag at other retailers. It's definitely worth it to buy a big bag if your dog eats them a lot.\n",
      "==================================================\n"
     ]
    }
   ],
   "source": [
    "# printing some random reviews\n",
    "sent_0 = final['Text'].values[0]\n",
    "print(sent_0)\n",
    "print(\"=\"*50)\n",
    "\n",
    "sent_1000 = final['Text'].values[1000]\n",
    "print(sent_1000)\n",
    "print(\"=\"*50)\n",
    "\n",
    "sent_1500 = final['Text'].values[1500]\n",
    "print(sent_1500)\n",
    "print(\"=\"*50)\n",
    "\n",
    "sent_4900 = final['Text'].values[4900]\n",
    "print(sent_4900)\n",
    "print(\"=\"*50)"
   ]
  },
  {
   "cell_type": "code",
   "execution_count": 16,
   "metadata": {
    "colab": {},
    "colab_type": "code",
    "id": "lWiJ2_9gJkkP",
    "outputId": "08234806-3657-4d8f-c6d2-020dc9cda61c"
   },
   "outputs": [
    {
     "name": "stdout",
     "output_type": "stream",
     "text": [
      "My dogs loves this chicken but its a product from China, so we wont be buying it anymore.  Its very hard to find any chicken products made in the USA but they are out there, but this one isnt.  Its too bad too because its a good product but I wont take any chances till they know what is going on with the china imports.\n"
     ]
    }
   ],
   "source": [
    "# remove urls from text python: https://stackoverflow.com/a/40823105/4084039\n",
    "sent_0 = re.sub(r\"http\\S+\", \"\", sent_0)\n",
    "sent_1000 = re.sub(r\"http\\S+\", \"\", sent_1000)\n",
    "sent_150 = re.sub(r\"http\\S+\", \"\", sent_1500)\n",
    "sent_4900 = re.sub(r\"http\\S+\", \"\", sent_4900)\n",
    "\n",
    "print(sent_0)"
   ]
  },
  {
   "cell_type": "code",
   "execution_count": 17,
   "metadata": {
    "colab": {},
    "colab_type": "code",
    "id": "cpLtZ-lAJkkR",
    "outputId": "7e0bf159-4db4-4ffe-d72e-6d5952d453f1"
   },
   "outputs": [
    {
     "name": "stdout",
     "output_type": "stream",
     "text": [
      "My dogs loves this chicken but its a product from China, so we wont be buying it anymore.  Its very hard to find any chicken products made in the USA but they are out there, but this one isnt.  Its too bad too because its a good product but I wont take any chances till they know what is going on with the china imports.\n",
      "==================================================\n",
      "The Candy Blocks were a nice visual for the Lego Birthday party but the candy has little taste to it.  Very little of the 2 lbs that I bought were eaten and I threw the rest away.  I would not buy the candy again.\n",
      "==================================================\n",
      "was way to hot for my blood, took a bite and did a jig  lol\n",
      "==================================================\n",
      "My dog LOVES these treats. They tend to have a very strong fish oil smell. So if you are afraid of the fishy smell, don't get it. But I think my dog likes it because of the smell. These treats are really small in size. They are great for training. You can give your dog several of these without worrying about him over eating. Amazon's price was much more reasonable than any other retailer. You can buy a 1 pound bag on Amazon for almost the same price as a 6 ounce bag at other retailers. It's definitely worth it to buy a big bag if your dog eats them a lot.\n"
     ]
    }
   ],
   "source": [
    "# https://stackoverflow.com/questions/16206380/python-beautifulsoup-how-to-remove-all-tags-from-an-element\n",
    "from bs4 import BeautifulSoup\n",
    "\n",
    "soup = BeautifulSoup(sent_0, 'lxml')\n",
    "text = soup.get_text()\n",
    "print(text)\n",
    "print(\"=\"*50)\n",
    "\n",
    "soup = BeautifulSoup(sent_1000, 'lxml')\n",
    "text = soup.get_text()\n",
    "print(text)\n",
    "print(\"=\"*50)\n",
    "\n",
    "soup = BeautifulSoup(sent_1500, 'lxml')\n",
    "text = soup.get_text()\n",
    "print(text)\n",
    "print(\"=\"*50)\n",
    "\n",
    "soup = BeautifulSoup(sent_4900, 'lxml')\n",
    "text = soup.get_text()\n",
    "print(text)"
   ]
  },
  {
   "cell_type": "code",
   "execution_count": 18,
   "metadata": {
    "colab": {},
    "colab_type": "code",
    "id": "HYBbtiCMJkkW"
   },
   "outputs": [],
   "source": [
    "# https://stackoverflow.com/a/47091490/4084039\n",
    "import re\n",
    "\n",
    "def decontracted(phrase):\n",
    "    # specific\n",
    "    phrase = re.sub(r\"won't\", \"will not\", phrase)\n",
    "    phrase = re.sub(r\"can\\'t\", \"can not\", phrase)\n",
    "\n",
    "    # general\n",
    "    phrase = re.sub(r\"n\\'t\", \" not\", phrase)\n",
    "    phrase = re.sub(r\"\\'re\", \" are\", phrase)\n",
    "    phrase = re.sub(r\"\\'s\", \" is\", phrase)\n",
    "    phrase = re.sub(r\"\\'d\", \" would\", phrase)\n",
    "    phrase = re.sub(r\"\\'ll\", \" will\", phrase)\n",
    "    phrase = re.sub(r\"\\'t\", \" not\", phrase)\n",
    "    phrase = re.sub(r\"\\'ve\", \" have\", phrase)\n",
    "    phrase = re.sub(r\"\\'m\", \" am\", phrase)\n",
    "    return phrase"
   ]
  },
  {
   "cell_type": "code",
   "execution_count": 19,
   "metadata": {
    "colab": {},
    "colab_type": "code",
    "id": "WPQSZurTJkkY",
    "outputId": "6d91fc9f-8f77-497c-95bb-96bfc9781196"
   },
   "outputs": [
    {
     "name": "stdout",
     "output_type": "stream",
     "text": [
      "was way to hot for my blood, took a bite and did a jig  lol\n",
      "==================================================\n"
     ]
    }
   ],
   "source": [
    "sent_1500 = decontracted(sent_1500)\n",
    "print(sent_1500)\n",
    "print(\"=\"*50)"
   ]
  },
  {
   "cell_type": "code",
   "execution_count": 20,
   "metadata": {
    "colab": {},
    "colab_type": "code",
    "id": "6bakeyaQJkkb",
    "outputId": "f7cf0096-0b7b-4ec1-84df-01e838621d62"
   },
   "outputs": [
    {
     "name": "stdout",
     "output_type": "stream",
     "text": [
      "My dogs loves this chicken but its a product from China, so we wont be buying it anymore.  Its very hard to find any chicken products made in the USA but they are out there, but this one isnt.  Its too bad too because its a good product but I wont take any chances till they know what is going on with the china imports.\n"
     ]
    }
   ],
   "source": [
    "#remove words with numbers python: https://stackoverflow.com/a/18082370/4084039\n",
    "sent_0 = re.sub(\"\\S*\\d\\S*\", \"\", sent_0).strip()\n",
    "print(sent_0)"
   ]
  },
  {
   "cell_type": "code",
   "execution_count": 21,
   "metadata": {
    "colab": {},
    "colab_type": "code",
    "id": "dMqqVqadJkkg",
    "outputId": "e4a6bd28-9d39-4dd2-9483-0406dd3dff50"
   },
   "outputs": [
    {
     "name": "stdout",
     "output_type": "stream",
     "text": [
      "was way to hot for my blood took a bite and did a jig lol\n"
     ]
    }
   ],
   "source": [
    "#remove spacial character: https://stackoverflow.com/a/5843547/4084039\n",
    "sent_1500 = re.sub('[^A-Za-z0-9]+', ' ', sent_1500)\n",
    "print(sent_1500)"
   ]
  },
  {
   "cell_type": "code",
   "execution_count": 22,
   "metadata": {
    "colab": {},
    "colab_type": "code",
    "id": "bvEoXB5NJkkk"
   },
   "outputs": [],
   "source": [
    "# https://gist.github.com/sebleier/554280\n",
    "# we are removing the words from the stop words list: 'no', 'nor', 'not'\n",
    "# <br /><br /> ==> after the above steps, we are getting \"br br\"\n",
    "# we are including them into stop words list\n",
    "# instead of <br /> if we have <br/> these tags would have revmoved in the 1st step\n",
    "\n",
    "stopwords= set(['br', 'the', 'i', 'me', 'my', 'myself', 'we', 'our', 'ours', 'ourselves', 'you', \"you're\", \"you've\",\\\n",
    "            \"you'll\", \"you'd\", 'your', 'yours', 'yourself', 'yourselves', 'he', 'him', 'his', 'himself', \\\n",
    "            'she', \"she's\", 'her', 'hers', 'herself', 'it', \"it's\", 'its', 'itself', 'they', 'them', 'their',\\\n",
    "            'theirs', 'themselves', 'what', 'which', 'who', 'whom', 'this', 'that', \"that'll\", 'these', 'those', \\\n",
    "            'am', 'is', 'are', 'was', 'were', 'be', 'been', 'being', 'have', 'has', 'had', 'having', 'do', 'does', \\\n",
    "            'did', 'doing', 'a', 'an', 'the', 'and', 'but', 'if', 'or', 'because', 'as', 'until', 'while', 'of', \\\n",
    "            'at', 'by', 'for', 'with', 'about', 'against', 'between', 'into', 'through', 'during', 'before', 'after',\\\n",
    "            'above', 'below', 'to', 'from', 'up', 'down', 'in', 'out', 'on', 'off', 'over', 'under', 'again', 'further',\\\n",
    "            'then', 'once', 'here', 'there', 'when', 'where', 'why', 'how', 'all', 'any', 'both', 'each', 'few', 'more',\\\n",
    "            'most', 'other', 'some', 'such', 'only', 'own', 'same', 'so', 'than', 'too', 'very', \\\n",
    "            's', 't', 'can', 'will', 'just', 'don', \"don't\", 'should', \"should've\", 'now', 'd', 'll', 'm', 'o', 're', \\\n",
    "            've', 'y', 'ain', 'aren', \"aren't\", 'couldn', \"couldn't\", 'didn', \"didn't\", 'doesn', \"doesn't\", 'hadn',\\\n",
    "            \"hadn't\", 'hasn', \"hasn't\", 'haven', \"haven't\", 'isn', \"isn't\", 'ma', 'mightn', \"mightn't\", 'mustn',\\\n",
    "            \"mustn't\", 'needn', \"needn't\", 'shan', \"shan't\", 'shouldn', \"shouldn't\", 'wasn', \"wasn't\", 'weren', \"weren't\", \\\n",
    "            'won', \"won't\", 'wouldn', \"wouldn't\"])"
   ]
  },
  {
   "cell_type": "code",
   "execution_count": 23,
   "metadata": {
    "colab": {},
    "colab_type": "code",
    "id": "0j3jfqWCJkko",
    "outputId": "c83c59c5-fe17-4ad2-d43f-0b0947a6e6ba"
   },
   "outputs": [
    {
     "name": "stderr",
     "output_type": "stream",
     "text": [
      "100%|██████████████████████████████████████████████████████████████████████████| 87773/87773 [01:14<00:00, 1184.29it/s]\n"
     ]
    }
   ],
   "source": [
    "# Combining all the above stundents \n",
    "from tqdm import tqdm\n",
    "preprocessed_reviews = []\n",
    "# tqdm is for printing the status bar\n",
    "for sentance in tqdm(final['Text'].values):\n",
    "    sentance = re.sub(r\"http\\S+\", \"\", sentance)\n",
    "    sentance = BeautifulSoup(sentance, 'lxml').get_text()\n",
    "    sentance = decontracted(sentance)\n",
    "    sentance = re.sub(\"\\S*\\d\\S*\", \"\", sentance).strip()\n",
    "    sentance = re.sub('[^A-Za-z]+', ' ', sentance)\n",
    "    # https://gist.github.com/sebleier/554280\n",
    "    sentance = ' '.join(e.lower() for e in sentance.split() if e.lower() not in stopwords)\n",
    "    preprocessed_reviews.append(sentance.strip())"
   ]
  },
  {
   "cell_type": "code",
   "execution_count": 24,
   "metadata": {
    "colab": {},
    "colab_type": "code",
    "id": "nS_7EeV7Jkkr",
    "outputId": "4d4cd05e-0730-4e52-dc30-eb97014871dd"
   },
   "outputs": [
    {
     "data": {
      "text/plain": [
       "'way hot blood took bite jig lol'"
      ]
     },
     "execution_count": 24,
     "metadata": {},
     "output_type": "execute_result"
    }
   ],
   "source": [
    "preprocessed_reviews[1500]"
   ]
  },
  {
   "cell_type": "code",
   "execution_count": 25,
   "metadata": {},
   "outputs": [],
   "source": [
    "final[\"UPDATEDTEXT\"]=preprocessed_reviews"
   ]
  },
  {
   "cell_type": "code",
   "execution_count": 26,
   "metadata": {},
   "outputs": [],
   "source": [
    "conn = sqlite3.connect('final.sqlite')\n",
    "c=conn.cursor()\n",
    "conn.text_factory = str\n",
    "final.to_sql('Reviews', conn, schema=None, if_exists='replace', index=True, index_label=None, chunksize=None, dtype=None)"
   ]
  },
  {
   "cell_type": "code",
   "execution_count": 27,
   "metadata": {},
   "outputs": [
    {
     "data": {
      "text/html": [
       "<div>\n",
       "<style scoped>\n",
       "    .dataframe tbody tr th:only-of-type {\n",
       "        vertical-align: middle;\n",
       "    }\n",
       "\n",
       "    .dataframe tbody tr th {\n",
       "        vertical-align: top;\n",
       "    }\n",
       "\n",
       "    .dataframe thead th {\n",
       "        text-align: right;\n",
       "    }\n",
       "</style>\n",
       "<table border=\"1\" class=\"dataframe\">\n",
       "  <thead>\n",
       "    <tr style=\"text-align: right;\">\n",
       "      <th></th>\n",
       "      <th>Id</th>\n",
       "      <th>ProductId</th>\n",
       "      <th>UserId</th>\n",
       "      <th>ProfileName</th>\n",
       "      <th>HelpfulnessNumerator</th>\n",
       "      <th>HelpfulnessDenominator</th>\n",
       "      <th>Score</th>\n",
       "      <th>Time</th>\n",
       "      <th>Summary</th>\n",
       "      <th>Text</th>\n",
       "      <th>UPDATEDTEXT</th>\n",
       "    </tr>\n",
       "  </thead>\n",
       "  <tbody>\n",
       "    <tr>\n",
       "      <th>22620</th>\n",
       "      <td>24750</td>\n",
       "      <td>2734888454</td>\n",
       "      <td>A13ISQV0U9GZIC</td>\n",
       "      <td>Sandikaye</td>\n",
       "      <td>1</td>\n",
       "      <td>1</td>\n",
       "      <td>0</td>\n",
       "      <td>1192060800</td>\n",
       "      <td>made in china</td>\n",
       "      <td>My dogs loves this chicken but its a product f...</td>\n",
       "      <td>dogs loves chicken product china wont buying a...</td>\n",
       "    </tr>\n",
       "    <tr>\n",
       "      <th>22621</th>\n",
       "      <td>24751</td>\n",
       "      <td>2734888454</td>\n",
       "      <td>A1C298ITT645B6</td>\n",
       "      <td>Hugh G. Pritchard</td>\n",
       "      <td>0</td>\n",
       "      <td>0</td>\n",
       "      <td>1</td>\n",
       "      <td>1195948800</td>\n",
       "      <td>Dog Lover Delites</td>\n",
       "      <td>Our dogs just love them.  I saw them in a pet ...</td>\n",
       "      <td>dogs love saw pet store tag attached regarding...</td>\n",
       "    </tr>\n",
       "    <tr>\n",
       "      <th>70677</th>\n",
       "      <td>76870</td>\n",
       "      <td>B00002N8SM</td>\n",
       "      <td>A19Q006CSFT011</td>\n",
       "      <td>Arlielle</td>\n",
       "      <td>0</td>\n",
       "      <td>0</td>\n",
       "      <td>0</td>\n",
       "      <td>1288396800</td>\n",
       "      <td>only one fruitfly stuck</td>\n",
       "      <td>I had an infestation of fruitflies, they were ...</td>\n",
       "      <td>infestation fruitflies literally everywhere fl...</td>\n",
       "    </tr>\n",
       "    <tr>\n",
       "      <th>70676</th>\n",
       "      <td>76869</td>\n",
       "      <td>B00002N8SM</td>\n",
       "      <td>A1FYH4S02BW7FN</td>\n",
       "      <td>wonderer</td>\n",
       "      <td>0</td>\n",
       "      <td>0</td>\n",
       "      <td>0</td>\n",
       "      <td>1290038400</td>\n",
       "      <td>Doesn't work!! Don't waste your money!!</td>\n",
       "      <td>Worst product I have gotten in long time. Woul...</td>\n",
       "      <td>worst product gotten long time would rate no s...</td>\n",
       "    </tr>\n",
       "    <tr>\n",
       "      <th>70675</th>\n",
       "      <td>76868</td>\n",
       "      <td>B00002N8SM</td>\n",
       "      <td>AUE8TB5VHS6ZV</td>\n",
       "      <td>eyeofthestorm</td>\n",
       "      <td>0</td>\n",
       "      <td>0</td>\n",
       "      <td>0</td>\n",
       "      <td>1306972800</td>\n",
       "      <td>A big rip off</td>\n",
       "      <td>I wish I'd read the reviews before making this...</td>\n",
       "      <td>wish would read reviews making purchase basica...</td>\n",
       "    </tr>\n",
       "  </tbody>\n",
       "</table>\n",
       "</div>"
      ],
      "text/plain": [
       "          Id   ProductId          UserId        ProfileName  \\\n",
       "22620  24750  2734888454  A13ISQV0U9GZIC          Sandikaye   \n",
       "22621  24751  2734888454  A1C298ITT645B6  Hugh G. Pritchard   \n",
       "70677  76870  B00002N8SM  A19Q006CSFT011           Arlielle   \n",
       "70676  76869  B00002N8SM  A1FYH4S02BW7FN           wonderer   \n",
       "70675  76868  B00002N8SM   AUE8TB5VHS6ZV      eyeofthestorm   \n",
       "\n",
       "       HelpfulnessNumerator  HelpfulnessDenominator  Score        Time  \\\n",
       "22620                     1                       1      0  1192060800   \n",
       "22621                     0                       0      1  1195948800   \n",
       "70677                     0                       0      0  1288396800   \n",
       "70676                     0                       0      0  1290038400   \n",
       "70675                     0                       0      0  1306972800   \n",
       "\n",
       "                                       Summary  \\\n",
       "22620                            made in china   \n",
       "22621                        Dog Lover Delites   \n",
       "70677                  only one fruitfly stuck   \n",
       "70676  Doesn't work!! Don't waste your money!!   \n",
       "70675                            A big rip off   \n",
       "\n",
       "                                                    Text  \\\n",
       "22620  My dogs loves this chicken but its a product f...   \n",
       "22621  Our dogs just love them.  I saw them in a pet ...   \n",
       "70677  I had an infestation of fruitflies, they were ...   \n",
       "70676  Worst product I have gotten in long time. Woul...   \n",
       "70675  I wish I'd read the reviews before making this...   \n",
       "\n",
       "                                             UPDATEDTEXT  \n",
       "22620  dogs loves chicken product china wont buying a...  \n",
       "22621  dogs love saw pet store tag attached regarding...  \n",
       "70677  infestation fruitflies literally everywhere fl...  \n",
       "70676  worst product gotten long time would rate no s...  \n",
       "70675  wish would read reviews making purchase basica...  "
      ]
     },
     "execution_count": 27,
     "metadata": {},
     "output_type": "execute_result"
    }
   ],
   "source": [
    "final.head()"
   ]
  },
  {
   "cell_type": "code",
   "execution_count": 28,
   "metadata": {},
   "outputs": [],
   "source": [
    "final['text_len'] = final['UPDATEDTEXT'].str.len()"
   ]
  },
  {
   "cell_type": "code",
   "execution_count": 29,
   "metadata": {},
   "outputs": [
    {
     "data": {
      "text/html": [
       "<div>\n",
       "<style scoped>\n",
       "    .dataframe tbody tr th:only-of-type {\n",
       "        vertical-align: middle;\n",
       "    }\n",
       "\n",
       "    .dataframe tbody tr th {\n",
       "        vertical-align: top;\n",
       "    }\n",
       "\n",
       "    .dataframe thead th {\n",
       "        text-align: right;\n",
       "    }\n",
       "</style>\n",
       "<table border=\"1\" class=\"dataframe\">\n",
       "  <thead>\n",
       "    <tr style=\"text-align: right;\">\n",
       "      <th></th>\n",
       "      <th>Id</th>\n",
       "      <th>ProductId</th>\n",
       "      <th>UserId</th>\n",
       "      <th>ProfileName</th>\n",
       "      <th>HelpfulnessNumerator</th>\n",
       "      <th>HelpfulnessDenominator</th>\n",
       "      <th>Score</th>\n",
       "      <th>Time</th>\n",
       "      <th>Summary</th>\n",
       "      <th>Text</th>\n",
       "      <th>UPDATEDTEXT</th>\n",
       "      <th>text_len</th>\n",
       "    </tr>\n",
       "  </thead>\n",
       "  <tbody>\n",
       "    <tr>\n",
       "      <th>22620</th>\n",
       "      <td>24750</td>\n",
       "      <td>2734888454</td>\n",
       "      <td>A13ISQV0U9GZIC</td>\n",
       "      <td>Sandikaye</td>\n",
       "      <td>1</td>\n",
       "      <td>1</td>\n",
       "      <td>0</td>\n",
       "      <td>1192060800</td>\n",
       "      <td>made in china</td>\n",
       "      <td>My dogs loves this chicken but its a product f...</td>\n",
       "      <td>dogs loves chicken product china wont buying a...</td>\n",
       "      <td>162</td>\n",
       "    </tr>\n",
       "    <tr>\n",
       "      <th>22621</th>\n",
       "      <td>24751</td>\n",
       "      <td>2734888454</td>\n",
       "      <td>A1C298ITT645B6</td>\n",
       "      <td>Hugh G. Pritchard</td>\n",
       "      <td>0</td>\n",
       "      <td>0</td>\n",
       "      <td>1</td>\n",
       "      <td>1195948800</td>\n",
       "      <td>Dog Lover Delites</td>\n",
       "      <td>Our dogs just love them.  I saw them in a pet ...</td>\n",
       "      <td>dogs love saw pet store tag attached regarding...</td>\n",
       "      <td>72</td>\n",
       "    </tr>\n",
       "    <tr>\n",
       "      <th>70677</th>\n",
       "      <td>76870</td>\n",
       "      <td>B00002N8SM</td>\n",
       "      <td>A19Q006CSFT011</td>\n",
       "      <td>Arlielle</td>\n",
       "      <td>0</td>\n",
       "      <td>0</td>\n",
       "      <td>0</td>\n",
       "      <td>1288396800</td>\n",
       "      <td>only one fruitfly stuck</td>\n",
       "      <td>I had an infestation of fruitflies, they were ...</td>\n",
       "      <td>infestation fruitflies literally everywhere fl...</td>\n",
       "      <td>406</td>\n",
       "    </tr>\n",
       "    <tr>\n",
       "      <th>70676</th>\n",
       "      <td>76869</td>\n",
       "      <td>B00002N8SM</td>\n",
       "      <td>A1FYH4S02BW7FN</td>\n",
       "      <td>wonderer</td>\n",
       "      <td>0</td>\n",
       "      <td>0</td>\n",
       "      <td>0</td>\n",
       "      <td>1290038400</td>\n",
       "      <td>Doesn't work!! Don't waste your money!!</td>\n",
       "      <td>Worst product I have gotten in long time. Woul...</td>\n",
       "      <td>worst product gotten long time would rate no s...</td>\n",
       "      <td>209</td>\n",
       "    </tr>\n",
       "    <tr>\n",
       "      <th>70675</th>\n",
       "      <td>76868</td>\n",
       "      <td>B00002N8SM</td>\n",
       "      <td>AUE8TB5VHS6ZV</td>\n",
       "      <td>eyeofthestorm</td>\n",
       "      <td>0</td>\n",
       "      <td>0</td>\n",
       "      <td>0</td>\n",
       "      <td>1306972800</td>\n",
       "      <td>A big rip off</td>\n",
       "      <td>I wish I'd read the reviews before making this...</td>\n",
       "      <td>wish would read reviews making purchase basica...</td>\n",
       "      <td>277</td>\n",
       "    </tr>\n",
       "  </tbody>\n",
       "</table>\n",
       "</div>"
      ],
      "text/plain": [
       "          Id   ProductId          UserId        ProfileName  \\\n",
       "22620  24750  2734888454  A13ISQV0U9GZIC          Sandikaye   \n",
       "22621  24751  2734888454  A1C298ITT645B6  Hugh G. Pritchard   \n",
       "70677  76870  B00002N8SM  A19Q006CSFT011           Arlielle   \n",
       "70676  76869  B00002N8SM  A1FYH4S02BW7FN           wonderer   \n",
       "70675  76868  B00002N8SM   AUE8TB5VHS6ZV      eyeofthestorm   \n",
       "\n",
       "       HelpfulnessNumerator  HelpfulnessDenominator  Score        Time  \\\n",
       "22620                     1                       1      0  1192060800   \n",
       "22621                     0                       0      1  1195948800   \n",
       "70677                     0                       0      0  1288396800   \n",
       "70676                     0                       0      0  1290038400   \n",
       "70675                     0                       0      0  1306972800   \n",
       "\n",
       "                                       Summary  \\\n",
       "22620                            made in china   \n",
       "22621                        Dog Lover Delites   \n",
       "70677                  only one fruitfly stuck   \n",
       "70676  Doesn't work!! Don't waste your money!!   \n",
       "70675                            A big rip off   \n",
       "\n",
       "                                                    Text  \\\n",
       "22620  My dogs loves this chicken but its a product f...   \n",
       "22621  Our dogs just love them.  I saw them in a pet ...   \n",
       "70677  I had an infestation of fruitflies, they were ...   \n",
       "70676  Worst product I have gotten in long time. Woul...   \n",
       "70675  I wish I'd read the reviews before making this...   \n",
       "\n",
       "                                             UPDATEDTEXT  text_len  \n",
       "22620  dogs loves chicken product china wont buying a...       162  \n",
       "22621  dogs love saw pet store tag attached regarding...        72  \n",
       "70677  infestation fruitflies literally everywhere fl...       406  \n",
       "70676  worst product gotten long time would rate no s...       209  \n",
       "70675  wish would read reviews making purchase basica...       277  "
      ]
     },
     "execution_count": 29,
     "metadata": {},
     "output_type": "execute_result"
    }
   ],
   "source": [
    "final.head()"
   ]
  },
  {
   "cell_type": "code",
   "execution_count": 30,
   "metadata": {},
   "outputs": [],
   "source": [
    "df=pd.DataFrame(final)"
   ]
  },
  {
   "cell_type": "code",
   "execution_count": 31,
   "metadata": {},
   "outputs": [
    {
     "data": {
      "text/html": [
       "<div>\n",
       "<style scoped>\n",
       "    .dataframe tbody tr th:only-of-type {\n",
       "        vertical-align: middle;\n",
       "    }\n",
       "\n",
       "    .dataframe tbody tr th {\n",
       "        vertical-align: top;\n",
       "    }\n",
       "\n",
       "    .dataframe thead th {\n",
       "        text-align: right;\n",
       "    }\n",
       "</style>\n",
       "<table border=\"1\" class=\"dataframe\">\n",
       "  <thead>\n",
       "    <tr style=\"text-align: right;\">\n",
       "      <th></th>\n",
       "      <th>Id</th>\n",
       "      <th>ProductId</th>\n",
       "      <th>UserId</th>\n",
       "      <th>ProfileName</th>\n",
       "      <th>HelpfulnessNumerator</th>\n",
       "      <th>HelpfulnessDenominator</th>\n",
       "      <th>Score</th>\n",
       "      <th>Time</th>\n",
       "      <th>Summary</th>\n",
       "      <th>Text</th>\n",
       "      <th>UPDATEDTEXT</th>\n",
       "      <th>text_len</th>\n",
       "    </tr>\n",
       "  </thead>\n",
       "  <tbody>\n",
       "    <tr>\n",
       "      <th>22620</th>\n",
       "      <td>24750</td>\n",
       "      <td>2734888454</td>\n",
       "      <td>A13ISQV0U9GZIC</td>\n",
       "      <td>Sandikaye</td>\n",
       "      <td>1</td>\n",
       "      <td>1</td>\n",
       "      <td>0</td>\n",
       "      <td>1192060800</td>\n",
       "      <td>made in china</td>\n",
       "      <td>My dogs loves this chicken but its a product f...</td>\n",
       "      <td>dogs loves chicken product china wont buying a...</td>\n",
       "      <td>162</td>\n",
       "    </tr>\n",
       "    <tr>\n",
       "      <th>22621</th>\n",
       "      <td>24751</td>\n",
       "      <td>2734888454</td>\n",
       "      <td>A1C298ITT645B6</td>\n",
       "      <td>Hugh G. Pritchard</td>\n",
       "      <td>0</td>\n",
       "      <td>0</td>\n",
       "      <td>1</td>\n",
       "      <td>1195948800</td>\n",
       "      <td>Dog Lover Delites</td>\n",
       "      <td>Our dogs just love them.  I saw them in a pet ...</td>\n",
       "      <td>dogs love saw pet store tag attached regarding...</td>\n",
       "      <td>72</td>\n",
       "    </tr>\n",
       "    <tr>\n",
       "      <th>70677</th>\n",
       "      <td>76870</td>\n",
       "      <td>B00002N8SM</td>\n",
       "      <td>A19Q006CSFT011</td>\n",
       "      <td>Arlielle</td>\n",
       "      <td>0</td>\n",
       "      <td>0</td>\n",
       "      <td>0</td>\n",
       "      <td>1288396800</td>\n",
       "      <td>only one fruitfly stuck</td>\n",
       "      <td>I had an infestation of fruitflies, they were ...</td>\n",
       "      <td>infestation fruitflies literally everywhere fl...</td>\n",
       "      <td>406</td>\n",
       "    </tr>\n",
       "    <tr>\n",
       "      <th>70676</th>\n",
       "      <td>76869</td>\n",
       "      <td>B00002N8SM</td>\n",
       "      <td>A1FYH4S02BW7FN</td>\n",
       "      <td>wonderer</td>\n",
       "      <td>0</td>\n",
       "      <td>0</td>\n",
       "      <td>0</td>\n",
       "      <td>1290038400</td>\n",
       "      <td>Doesn't work!! Don't waste your money!!</td>\n",
       "      <td>Worst product I have gotten in long time. Woul...</td>\n",
       "      <td>worst product gotten long time would rate no s...</td>\n",
       "      <td>209</td>\n",
       "    </tr>\n",
       "    <tr>\n",
       "      <th>70675</th>\n",
       "      <td>76868</td>\n",
       "      <td>B00002N8SM</td>\n",
       "      <td>AUE8TB5VHS6ZV</td>\n",
       "      <td>eyeofthestorm</td>\n",
       "      <td>0</td>\n",
       "      <td>0</td>\n",
       "      <td>0</td>\n",
       "      <td>1306972800</td>\n",
       "      <td>A big rip off</td>\n",
       "      <td>I wish I'd read the reviews before making this...</td>\n",
       "      <td>wish would read reviews making purchase basica...</td>\n",
       "      <td>277</td>\n",
       "    </tr>\n",
       "  </tbody>\n",
       "</table>\n",
       "</div>"
      ],
      "text/plain": [
       "          Id   ProductId          UserId        ProfileName  \\\n",
       "22620  24750  2734888454  A13ISQV0U9GZIC          Sandikaye   \n",
       "22621  24751  2734888454  A1C298ITT645B6  Hugh G. Pritchard   \n",
       "70677  76870  B00002N8SM  A19Q006CSFT011           Arlielle   \n",
       "70676  76869  B00002N8SM  A1FYH4S02BW7FN           wonderer   \n",
       "70675  76868  B00002N8SM   AUE8TB5VHS6ZV      eyeofthestorm   \n",
       "\n",
       "       HelpfulnessNumerator  HelpfulnessDenominator  Score        Time  \\\n",
       "22620                     1                       1      0  1192060800   \n",
       "22621                     0                       0      1  1195948800   \n",
       "70677                     0                       0      0  1288396800   \n",
       "70676                     0                       0      0  1290038400   \n",
       "70675                     0                       0      0  1306972800   \n",
       "\n",
       "                                       Summary  \\\n",
       "22620                            made in china   \n",
       "22621                        Dog Lover Delites   \n",
       "70677                  only one fruitfly stuck   \n",
       "70676  Doesn't work!! Don't waste your money!!   \n",
       "70675                            A big rip off   \n",
       "\n",
       "                                                    Text  \\\n",
       "22620  My dogs loves this chicken but its a product f...   \n",
       "22621  Our dogs just love them.  I saw them in a pet ...   \n",
       "70677  I had an infestation of fruitflies, they were ...   \n",
       "70676  Worst product I have gotten in long time. Woul...   \n",
       "70675  I wish I'd read the reviews before making this...   \n",
       "\n",
       "                                             UPDATEDTEXT  text_len  \n",
       "22620  dogs loves chicken product china wont buying a...       162  \n",
       "22621  dogs love saw pet store tag attached regarding...        72  \n",
       "70677  infestation fruitflies literally everywhere fl...       406  \n",
       "70676  worst product gotten long time would rate no s...       209  \n",
       "70675  wish would read reviews making purchase basica...       277  "
      ]
     },
     "execution_count": 31,
     "metadata": {},
     "output_type": "execute_result"
    }
   ],
   "source": [
    "df.head()"
   ]
  },
  {
   "cell_type": "code",
   "execution_count": 32,
   "metadata": {},
   "outputs": [],
   "source": [
    "df.drop(\"Text\",axis = 1, inplace = True)"
   ]
  },
  {
   "cell_type": "code",
   "execution_count": 33,
   "metadata": {},
   "outputs": [
    {
     "data": {
      "text/html": [
       "<div>\n",
       "<style scoped>\n",
       "    .dataframe tbody tr th:only-of-type {\n",
       "        vertical-align: middle;\n",
       "    }\n",
       "\n",
       "    .dataframe tbody tr th {\n",
       "        vertical-align: top;\n",
       "    }\n",
       "\n",
       "    .dataframe thead th {\n",
       "        text-align: right;\n",
       "    }\n",
       "</style>\n",
       "<table border=\"1\" class=\"dataframe\">\n",
       "  <thead>\n",
       "    <tr style=\"text-align: right;\">\n",
       "      <th></th>\n",
       "      <th>Id</th>\n",
       "      <th>ProductId</th>\n",
       "      <th>UserId</th>\n",
       "      <th>ProfileName</th>\n",
       "      <th>HelpfulnessNumerator</th>\n",
       "      <th>HelpfulnessDenominator</th>\n",
       "      <th>Score</th>\n",
       "      <th>Time</th>\n",
       "      <th>Summary</th>\n",
       "      <th>UPDATEDTEXT</th>\n",
       "      <th>text_len</th>\n",
       "    </tr>\n",
       "  </thead>\n",
       "  <tbody>\n",
       "    <tr>\n",
       "      <th>22620</th>\n",
       "      <td>24750</td>\n",
       "      <td>2734888454</td>\n",
       "      <td>A13ISQV0U9GZIC</td>\n",
       "      <td>Sandikaye</td>\n",
       "      <td>1</td>\n",
       "      <td>1</td>\n",
       "      <td>0</td>\n",
       "      <td>1192060800</td>\n",
       "      <td>made in china</td>\n",
       "      <td>dogs loves chicken product china wont buying a...</td>\n",
       "      <td>162</td>\n",
       "    </tr>\n",
       "    <tr>\n",
       "      <th>22621</th>\n",
       "      <td>24751</td>\n",
       "      <td>2734888454</td>\n",
       "      <td>A1C298ITT645B6</td>\n",
       "      <td>Hugh G. Pritchard</td>\n",
       "      <td>0</td>\n",
       "      <td>0</td>\n",
       "      <td>1</td>\n",
       "      <td>1195948800</td>\n",
       "      <td>Dog Lover Delites</td>\n",
       "      <td>dogs love saw pet store tag attached regarding...</td>\n",
       "      <td>72</td>\n",
       "    </tr>\n",
       "    <tr>\n",
       "      <th>70677</th>\n",
       "      <td>76870</td>\n",
       "      <td>B00002N8SM</td>\n",
       "      <td>A19Q006CSFT011</td>\n",
       "      <td>Arlielle</td>\n",
       "      <td>0</td>\n",
       "      <td>0</td>\n",
       "      <td>0</td>\n",
       "      <td>1288396800</td>\n",
       "      <td>only one fruitfly stuck</td>\n",
       "      <td>infestation fruitflies literally everywhere fl...</td>\n",
       "      <td>406</td>\n",
       "    </tr>\n",
       "    <tr>\n",
       "      <th>70676</th>\n",
       "      <td>76869</td>\n",
       "      <td>B00002N8SM</td>\n",
       "      <td>A1FYH4S02BW7FN</td>\n",
       "      <td>wonderer</td>\n",
       "      <td>0</td>\n",
       "      <td>0</td>\n",
       "      <td>0</td>\n",
       "      <td>1290038400</td>\n",
       "      <td>Doesn't work!! Don't waste your money!!</td>\n",
       "      <td>worst product gotten long time would rate no s...</td>\n",
       "      <td>209</td>\n",
       "    </tr>\n",
       "    <tr>\n",
       "      <th>70675</th>\n",
       "      <td>76868</td>\n",
       "      <td>B00002N8SM</td>\n",
       "      <td>AUE8TB5VHS6ZV</td>\n",
       "      <td>eyeofthestorm</td>\n",
       "      <td>0</td>\n",
       "      <td>0</td>\n",
       "      <td>0</td>\n",
       "      <td>1306972800</td>\n",
       "      <td>A big rip off</td>\n",
       "      <td>wish would read reviews making purchase basica...</td>\n",
       "      <td>277</td>\n",
       "    </tr>\n",
       "    <tr>\n",
       "      <th>70673</th>\n",
       "      <td>76866</td>\n",
       "      <td>B00002N8SM</td>\n",
       "      <td>A3R3T5T1K8IN6P</td>\n",
       "      <td>LILIAN J. DE CIAFFI</td>\n",
       "      <td>0</td>\n",
       "      <td>0</td>\n",
       "      <td>1</td>\n",
       "      <td>1315785600</td>\n",
       "      <td>THIS ITEM IS EXCELLENT TO KILL INSECTS</td>\n",
       "      <td>happy item many flies disturbing kitchen put p...</td>\n",
       "      <td>84</td>\n",
       "    </tr>\n",
       "    <tr>\n",
       "      <th>70672</th>\n",
       "      <td>76865</td>\n",
       "      <td>B00002N8SM</td>\n",
       "      <td>A11DU8T1ZXPRT7</td>\n",
       "      <td>Zoggdogg</td>\n",
       "      <td>0</td>\n",
       "      <td>0</td>\n",
       "      <td>0</td>\n",
       "      <td>1319241600</td>\n",
       "      <td>Didn't work</td>\n",
       "      <td>thing item trapped fruit flies not work fly tr...</td>\n",
       "      <td>68</td>\n",
       "    </tr>\n",
       "    <tr>\n",
       "      <th>70671</th>\n",
       "      <td>76864</td>\n",
       "      <td>B00002N8SM</td>\n",
       "      <td>A71C9WY0242QU</td>\n",
       "      <td>MeMeMe</td>\n",
       "      <td>0</td>\n",
       "      <td>0</td>\n",
       "      <td>1</td>\n",
       "      <td>1325376000</td>\n",
       "      <td>Gross but effective</td>\n",
       "      <td>nurturing plant work well decided repot larger...</td>\n",
       "      <td>495</td>\n",
       "    </tr>\n",
       "    <tr>\n",
       "      <th>70670</th>\n",
       "      <td>76863</td>\n",
       "      <td>B00002N8SM</td>\n",
       "      <td>A17UIV0KM8JSV</td>\n",
       "      <td>S. Cohen</td>\n",
       "      <td>0</td>\n",
       "      <td>0</td>\n",
       "      <td>0</td>\n",
       "      <td>1337644800</td>\n",
       "      <td>Didn't work for me.</td>\n",
       "      <td>placed around house several days setup fly att...</td>\n",
       "      <td>255</td>\n",
       "    </tr>\n",
       "    <tr>\n",
       "      <th>70669</th>\n",
       "      <td>76862</td>\n",
       "      <td>B00002N8SM</td>\n",
       "      <td>A5W8ZREO7C1WK</td>\n",
       "      <td>Mireille</td>\n",
       "      <td>0</td>\n",
       "      <td>0</td>\n",
       "      <td>0</td>\n",
       "      <td>1340582400</td>\n",
       "      <td>Waste of money</td>\n",
       "      <td>please not waste money fly trap absolutely use...</td>\n",
       "      <td>196</td>\n",
       "    </tr>\n",
       "    <tr>\n",
       "      <th>70668</th>\n",
       "      <td>76861</td>\n",
       "      <td>B00002N8SM</td>\n",
       "      <td>A1J67DKGFR7TZ4</td>\n",
       "      <td>ek8650</td>\n",
       "      <td>0</td>\n",
       "      <td>0</td>\n",
       "      <td>0</td>\n",
       "      <td>1341792000</td>\n",
       "      <td>I should read those reviews before ordered.</td>\n",
       "      <td>let put way flies stay traps left looks like s...</td>\n",
       "      <td>62</td>\n",
       "    </tr>\n",
       "    <tr>\n",
       "      <th>70661</th>\n",
       "      <td>76853</td>\n",
       "      <td>B00002N8SM</td>\n",
       "      <td>A392XPUTJDHSDJ</td>\n",
       "      <td>T. Chang</td>\n",
       "      <td>3</td>\n",
       "      <td>4</td>\n",
       "      <td>0</td>\n",
       "      <td>1264896000</td>\n",
       "      <td>Doesn't catch fruit flies</td>\n",
       "      <td>not know product performs big flies sucks frui...</td>\n",
       "      <td>53</td>\n",
       "    </tr>\n",
       "    <tr>\n",
       "      <th>70667</th>\n",
       "      <td>76860</td>\n",
       "      <td>B00002N8SM</td>\n",
       "      <td>ASF1MKDA0N66O</td>\n",
       "      <td>M. Dawson \"flymaster\"</td>\n",
       "      <td>0</td>\n",
       "      <td>0</td>\n",
       "      <td>0</td>\n",
       "      <td>1342396800</td>\n",
       "      <td>Complete Waste of Money</td>\n",
       "      <td>flies buzz around thing like not even many fli...</td>\n",
       "      <td>343</td>\n",
       "    </tr>\n",
       "    <tr>\n",
       "      <th>70666</th>\n",
       "      <td>76859</td>\n",
       "      <td>B00002N8SM</td>\n",
       "      <td>A88YOFJG6IPOZ</td>\n",
       "      <td>duane</td>\n",
       "      <td>0</td>\n",
       "      <td>0</td>\n",
       "      <td>0</td>\n",
       "      <td>1343433600</td>\n",
       "      <td>RIpoff</td>\n",
       "      <td>horrible product first item not work week lots...</td>\n",
       "      <td>230</td>\n",
       "    </tr>\n",
       "    <tr>\n",
       "      <th>70665</th>\n",
       "      <td>76858</td>\n",
       "      <td>B00002N8SM</td>\n",
       "      <td>A3B28AM0CWI7BJ</td>\n",
       "      <td>BB in LA \"BB\"</td>\n",
       "      <td>0</td>\n",
       "      <td>0</td>\n",
       "      <td>0</td>\n",
       "      <td>1347753600</td>\n",
       "      <td>It's junk</td>\n",
       "      <td>never caught even one fly got inside left week...</td>\n",
       "      <td>75</td>\n",
       "    </tr>\n",
       "    <tr>\n",
       "      <th>70662</th>\n",
       "      <td>76854</td>\n",
       "      <td>B00002N8SM</td>\n",
       "      <td>A7E1DYOIQXM12</td>\n",
       "      <td>Hetal Rana</td>\n",
       "      <td>3</td>\n",
       "      <td>4</td>\n",
       "      <td>0</td>\n",
       "      <td>1246147200</td>\n",
       "      <td>Worthless Indoor Trap</td>\n",
       "      <td>ineffective worthless bought product indoors t...</td>\n",
       "      <td>320</td>\n",
       "    </tr>\n",
       "    <tr>\n",
       "      <th>70663</th>\n",
       "      <td>76855</td>\n",
       "      <td>B00002N8SM</td>\n",
       "      <td>A8XKSGA2EA6GJ</td>\n",
       "      <td>T. Jackman</td>\n",
       "      <td>4</td>\n",
       "      <td>6</td>\n",
       "      <td>0</td>\n",
       "      <td>1255478400</td>\n",
       "      <td>Epic Fail - Worst Fly Trap Ever Created</td>\n",
       "      <td>problem lot fruit flies kitchen picked one tak...</td>\n",
       "      <td>359</td>\n",
       "    </tr>\n",
       "    <tr>\n",
       "      <th>70664</th>\n",
       "      <td>76857</td>\n",
       "      <td>B00002N8SM</td>\n",
       "      <td>AZKXR73X1CVIM</td>\n",
       "      <td>A Concerned Mom</td>\n",
       "      <td>0</td>\n",
       "      <td>0</td>\n",
       "      <td>0</td>\n",
       "      <td>1348704000</td>\n",
       "      <td>Utterly worthless</td>\n",
       "      <td>put fly trap kitchen not catch single fly flie...</td>\n",
       "      <td>346</td>\n",
       "    </tr>\n",
       "    <tr>\n",
       "      <th>70678</th>\n",
       "      <td>76871</td>\n",
       "      <td>B00002N8SM</td>\n",
       "      <td>AIW48SP4GCIOO</td>\n",
       "      <td>Sandra M. Stasko</td>\n",
       "      <td>0</td>\n",
       "      <td>0</td>\n",
       "      <td>0</td>\n",
       "      <td>1287100800</td>\n",
       "      <td>Day 5 = Zero flies</td>\n",
       "      <td>could rate fly trap lower one star would think...</td>\n",
       "      <td>181</td>\n",
       "    </tr>\n",
       "    <tr>\n",
       "      <th>70679</th>\n",
       "      <td>76872</td>\n",
       "      <td>B00002N8SM</td>\n",
       "      <td>A2B7IZJ243KWFX</td>\n",
       "      <td>S. Pawar</td>\n",
       "      <td>0</td>\n",
       "      <td>0</td>\n",
       "      <td>0</td>\n",
       "      <td>1286236800</td>\n",
       "      <td>get something else</td>\n",
       "      <td>bought awhile ago decided review thing sucks f...</td>\n",
       "      <td>237</td>\n",
       "    </tr>\n",
       "    <tr>\n",
       "      <th>70674</th>\n",
       "      <td>76867</td>\n",
       "      <td>B00002N8SM</td>\n",
       "      <td>A1VSEBVZS81UCI</td>\n",
       "      <td>Brian Haynes</td>\n",
       "      <td>0</td>\n",
       "      <td>0</td>\n",
       "      <td>0</td>\n",
       "      <td>1314748800</td>\n",
       "      <td>We have so many flies in the house.  Have had ...</td>\n",
       "      <td>many flies house product weeks stuck fly thus far</td>\n",
       "      <td>49</td>\n",
       "    </tr>\n",
       "    <tr>\n",
       "      <th>70695</th>\n",
       "      <td>76890</td>\n",
       "      <td>B00002N8SM</td>\n",
       "      <td>A110QUC2ULFN7R</td>\n",
       "      <td>swatter</td>\n",
       "      <td>0</td>\n",
       "      <td>2</td>\n",
       "      <td>0</td>\n",
       "      <td>1186704000</td>\n",
       "      <td>This does not work...</td>\n",
       "      <td>summer grill party door kept open day food cou...</td>\n",
       "      <td>249</td>\n",
       "    </tr>\n",
       "    <tr>\n",
       "      <th>70685</th>\n",
       "      <td>76879</td>\n",
       "      <td>B00002N8SM</td>\n",
       "      <td>A2579IQYG8Y9YF</td>\n",
       "      <td>Cynthia</td>\n",
       "      <td>0</td>\n",
       "      <td>0</td>\n",
       "      <td>1</td>\n",
       "      <td>1244332800</td>\n",
       "      <td>Works Great!</td>\n",
       "      <td>used traditional fly rolls past dubious hubby ...</td>\n",
       "      <td>595</td>\n",
       "    </tr>\n",
       "    <tr>\n",
       "      <th>70680</th>\n",
       "      <td>76873</td>\n",
       "      <td>B00002N8SM</td>\n",
       "      <td>A1G98WP2G0CMC</td>\n",
       "      <td>RG77 \"RGarcia\"</td>\n",
       "      <td>0</td>\n",
       "      <td>0</td>\n",
       "      <td>0</td>\n",
       "      <td>1284768000</td>\n",
       "      <td>Fly Trap Doesn't Trap Much</td>\n",
       "      <td>used fly sticky tape trap garage knat fly prob...</td>\n",
       "      <td>297</td>\n",
       "    </tr>\n",
       "    <tr>\n",
       "      <th>70684</th>\n",
       "      <td>76878</td>\n",
       "      <td>B00002N8SM</td>\n",
       "      <td>A1GQUBNRZK3RHI</td>\n",
       "      <td>X. Li</td>\n",
       "      <td>0</td>\n",
       "      <td>0</td>\n",
       "      <td>0</td>\n",
       "      <td>1279411200</td>\n",
       "      <td>Doesn't work at all!</td>\n",
       "      <td>product not work hang kitchen days no fly attr...</td>\n",
       "      <td>129</td>\n",
       "    </tr>\n",
       "    <tr>\n",
       "      <th>70683</th>\n",
       "      <td>76877</td>\n",
       "      <td>B00002N8SM</td>\n",
       "      <td>A1J4110YC5IFAB</td>\n",
       "      <td>G. Smith \"gayeld\"</td>\n",
       "      <td>0</td>\n",
       "      <td>0</td>\n",
       "      <td>0</td>\n",
       "      <td>1280016000</td>\n",
       "      <td>Not so sticky situation</td>\n",
       "      <td>fairly certain caught flies supposed stay stuc...</td>\n",
       "      <td>136</td>\n",
       "    </tr>\n",
       "    <tr>\n",
       "      <th>70687</th>\n",
       "      <td>76881</td>\n",
       "      <td>B00002N8SM</td>\n",
       "      <td>A1LU93B4XI1PZZ</td>\n",
       "      <td>Christine K. Hall</td>\n",
       "      <td>0</td>\n",
       "      <td>0</td>\n",
       "      <td>1</td>\n",
       "      <td>1190073600</td>\n",
       "      <td>great product</td>\n",
       "      <td>sly trap attractive look works well no odor re...</td>\n",
       "      <td>53</td>\n",
       "    </tr>\n",
       "    <tr>\n",
       "      <th>70688</th>\n",
       "      <td>76882</td>\n",
       "      <td>B00002N8SM</td>\n",
       "      <td>A32DW342WBJ6BX</td>\n",
       "      <td>Buttersugar</td>\n",
       "      <td>0</td>\n",
       "      <td>0</td>\n",
       "      <td>1</td>\n",
       "      <td>948672000</td>\n",
       "      <td>A sure death for flies</td>\n",
       "      <td>bought apartment infested fruit flies hours tr...</td>\n",
       "      <td>207</td>\n",
       "    </tr>\n",
       "    <tr>\n",
       "      <th>70689</th>\n",
       "      <td>76883</td>\n",
       "      <td>B00002N8SM</td>\n",
       "      <td>A29GWIJL72GXXZ</td>\n",
       "      <td>jon123</td>\n",
       "      <td>1</td>\n",
       "      <td>2</td>\n",
       "      <td>0</td>\n",
       "      <td>1270771200</td>\n",
       "      <td>ONLY CAUGHT 1 FLY</td>\n",
       "      <td>bought local hardware store terrible fly probl...</td>\n",
       "      <td>109</td>\n",
       "    </tr>\n",
       "    <tr>\n",
       "      <th>70686</th>\n",
       "      <td>76880</td>\n",
       "      <td>B00002N8SM</td>\n",
       "      <td>A1S64UB4EOYFTK</td>\n",
       "      <td>Heather Paradee</td>\n",
       "      <td>0</td>\n",
       "      <td>0</td>\n",
       "      <td>1</td>\n",
       "      <td>1231027200</td>\n",
       "      <td>Prettier than fly paper</td>\n",
       "      <td>well received item placed area put fly paper f...</td>\n",
       "      <td>194</td>\n",
       "    </tr>\n",
       "    <tr>\n",
       "      <th>...</th>\n",
       "      <td>...</td>\n",
       "      <td>...</td>\n",
       "      <td>...</td>\n",
       "      <td>...</td>\n",
       "      <td>...</td>\n",
       "      <td>...</td>\n",
       "      <td>...</td>\n",
       "      <td>...</td>\n",
       "      <td>...</td>\n",
       "      <td>...</td>\n",
       "      <td>...</td>\n",
       "    </tr>\n",
       "    <tr>\n",
       "      <th>90976</th>\n",
       "      <td>98962</td>\n",
       "      <td>B009BSZWNC</td>\n",
       "      <td>A33NUVKG22QKRE</td>\n",
       "      <td>Frank G. \"Once More, With Feeling!\"</td>\n",
       "      <td>0</td>\n",
       "      <td>0</td>\n",
       "      <td>0</td>\n",
       "      <td>1350691200</td>\n",
       "      <td>All Hype, No Flavor</td>\n",
       "      <td>close eyes try really hard might able pick fei...</td>\n",
       "      <td>395</td>\n",
       "    </tr>\n",
       "    <tr>\n",
       "      <th>56978</th>\n",
       "      <td>61808</td>\n",
       "      <td>B009C16ZP2</td>\n",
       "      <td>A22H0NAS6G66ZI</td>\n",
       "      <td>A. Feucht \"miss-tenacity\"</td>\n",
       "      <td>0</td>\n",
       "      <td>0</td>\n",
       "      <td>1</td>\n",
       "      <td>1348012800</td>\n",
       "      <td>Better than the sum of its parts and worth the...</td>\n",
       "      <td>rarely buy spice blends mean would buy ounces ...</td>\n",
       "      <td>317</td>\n",
       "    </tr>\n",
       "    <tr>\n",
       "      <th>82326</th>\n",
       "      <td>89529</td>\n",
       "      <td>B009CW5VUQ</td>\n",
       "      <td>A24P4U4CJL1SQ3</td>\n",
       "      <td>Erin Glasnapp \"astarnamedrin\"</td>\n",
       "      <td>2</td>\n",
       "      <td>3</td>\n",
       "      <td>1</td>\n",
       "      <td>1250208000</td>\n",
       "      <td>Fun codd-neck bottles with a marble lock.</td>\n",
       "      <td>far favorite flavor ramune flavor tried fun lo...</td>\n",
       "      <td>263</td>\n",
       "    </tr>\n",
       "    <tr>\n",
       "      <th>82327</th>\n",
       "      <td>89530</td>\n",
       "      <td>B009CW5VUQ</td>\n",
       "      <td>A29O79B2LS1ZQ7</td>\n",
       "      <td>Karate Nerd</td>\n",
       "      <td>0</td>\n",
       "      <td>0</td>\n",
       "      <td>1</td>\n",
       "      <td>1332115200</td>\n",
       "      <td>Very good drinks</td>\n",
       "      <td>bought enjoyed drinks quite bit bottle made in...</td>\n",
       "      <td>95</td>\n",
       "    </tr>\n",
       "    <tr>\n",
       "      <th>82328</th>\n",
       "      <td>89531</td>\n",
       "      <td>B009CW5VUQ</td>\n",
       "      <td>A2YJ8Y9XVAG35C</td>\n",
       "      <td>Andrew</td>\n",
       "      <td>0</td>\n",
       "      <td>0</td>\n",
       "      <td>1</td>\n",
       "      <td>1330646400</td>\n",
       "      <td>Great soda.</td>\n",
       "      <td>got excited great except one thing make cold d...</td>\n",
       "      <td>73</td>\n",
       "    </tr>\n",
       "    <tr>\n",
       "      <th>82329</th>\n",
       "      <td>89532</td>\n",
       "      <td>B009CW5VUQ</td>\n",
       "      <td>A3RFG4VH8KZXP3</td>\n",
       "      <td>Reviewerdude</td>\n",
       "      <td>0</td>\n",
       "      <td>0</td>\n",
       "      <td>1</td>\n",
       "      <td>1326326400</td>\n",
       "      <td>Goodish</td>\n",
       "      <td>buying unsure would tasted sweet little much l...</td>\n",
       "      <td>90</td>\n",
       "    </tr>\n",
       "    <tr>\n",
       "      <th>82330</th>\n",
       "      <td>89533</td>\n",
       "      <td>B009CW5VUQ</td>\n",
       "      <td>A7821UWSQ2OUP</td>\n",
       "      <td>Sylvie C.</td>\n",
       "      <td>0</td>\n",
       "      <td>0</td>\n",
       "      <td>1</td>\n",
       "      <td>1325289600</td>\n",
       "      <td>Very good</td>\n",
       "      <td>not sweet syrupy like us sodas refreshing calo...</td>\n",
       "      <td>152</td>\n",
       "    </tr>\n",
       "    <tr>\n",
       "      <th>58909</th>\n",
       "      <td>63993</td>\n",
       "      <td>B009D54BCQ</td>\n",
       "      <td>A2BGLSHDRABS6X</td>\n",
       "      <td>Sassy in Seattle</td>\n",
       "      <td>0</td>\n",
       "      <td>0</td>\n",
       "      <td>0</td>\n",
       "      <td>1348963200</td>\n",
       "      <td>BUYER BEWARE!</td>\n",
       "      <td>item good way overpriced vendor buy mix direct...</td>\n",
       "      <td>67</td>\n",
       "    </tr>\n",
       "    <tr>\n",
       "      <th>8141</th>\n",
       "      <td>8908</td>\n",
       "      <td>B009D668KS</td>\n",
       "      <td>A1YDQ8I5KVNF8P</td>\n",
       "      <td>Rangermenace \"Kinglord\"</td>\n",
       "      <td>0</td>\n",
       "      <td>0</td>\n",
       "      <td>1</td>\n",
       "      <td>1349308800</td>\n",
       "      <td>real Diet Dr. Pepper</td>\n",
       "      <td>package mailed received perfect condition tap ...</td>\n",
       "      <td>471</td>\n",
       "    </tr>\n",
       "    <tr>\n",
       "      <th>38862</th>\n",
       "      <td>42199</td>\n",
       "      <td>B009DR3GYI</td>\n",
       "      <td>A236IN6J0H7E2V</td>\n",
       "      <td>Steve G</td>\n",
       "      <td>1</td>\n",
       "      <td>1</td>\n",
       "      <td>1</td>\n",
       "      <td>1349827200</td>\n",
       "      <td>Best of the pumpkin kcups</td>\n",
       "      <td>kcup pretty tasty get past weird smell brewing...</td>\n",
       "      <td>364</td>\n",
       "    </tr>\n",
       "    <tr>\n",
       "      <th>38863</th>\n",
       "      <td>42200</td>\n",
       "      <td>B009DR3GYI</td>\n",
       "      <td>A1NBK07JEBCFI</td>\n",
       "      <td>Jess</td>\n",
       "      <td>1</td>\n",
       "      <td>1</td>\n",
       "      <td>1</td>\n",
       "      <td>1348444800</td>\n",
       "      <td>so good</td>\n",
       "      <td>normally prefer starbucks pumpkin lattes dunki...</td>\n",
       "      <td>102</td>\n",
       "    </tr>\n",
       "    <tr>\n",
       "      <th>38864</th>\n",
       "      <td>42201</td>\n",
       "      <td>B009DR3GYI</td>\n",
       "      <td>A1ECIT3IBKPQCV</td>\n",
       "      <td>Blaqueniss</td>\n",
       "      <td>0</td>\n",
       "      <td>0</td>\n",
       "      <td>1</td>\n",
       "      <td>1350086400</td>\n",
       "      <td>Coffee Fan</td>\n",
       "      <td>sooooooo delicious coffee good almost orgasmic...</td>\n",
       "      <td>217</td>\n",
       "    </tr>\n",
       "    <tr>\n",
       "      <th>38861</th>\n",
       "      <td>42198</td>\n",
       "      <td>B009DR3GYI</td>\n",
       "      <td>A8AOI6SNSGY6</td>\n",
       "      <td>Barbara Amante</td>\n",
       "      <td>1</td>\n",
       "      <td>1</td>\n",
       "      <td>1</td>\n",
       "      <td>1349913600</td>\n",
       "      <td>Do Not Buy Here</td>\n",
       "      <td>lot money purchase thing dunkin donuts storefo...</td>\n",
       "      <td>94</td>\n",
       "    </tr>\n",
       "    <tr>\n",
       "      <th>38865</th>\n",
       "      <td>42202</td>\n",
       "      <td>B009DR3GYI</td>\n",
       "      <td>A3HN9CXDWOYPQ</td>\n",
       "      <td>Iaqueenie</td>\n",
       "      <td>0</td>\n",
       "      <td>0</td>\n",
       "      <td>1</td>\n",
       "      <td>1349308800</td>\n",
       "      <td>Delicious</td>\n",
       "      <td>ultimate flavored coffee excellent body enjoy ...</td>\n",
       "      <td>118</td>\n",
       "    </tr>\n",
       "    <tr>\n",
       "      <th>49648</th>\n",
       "      <td>53915</td>\n",
       "      <td>B009EOLK0C</td>\n",
       "      <td>A3KQ5Q90X2ZCLV</td>\n",
       "      <td>Lynda. Fitzgerald \"Lynda Fitzgerald\"</td>\n",
       "      <td>0</td>\n",
       "      <td>0</td>\n",
       "      <td>1</td>\n",
       "      <td>1349913600</td>\n",
       "      <td>I'm rating the coffee, you understand...</td>\n",
       "      <td>always starbucks coffee drinker bolder better ...</td>\n",
       "      <td>355</td>\n",
       "    </tr>\n",
       "    <tr>\n",
       "      <th>713</th>\n",
       "      <td>768</td>\n",
       "      <td>B009HINRX8</td>\n",
       "      <td>A2CAZG1CQ8BQI5</td>\n",
       "      <td>Patricia J. Nohalty</td>\n",
       "      <td>0</td>\n",
       "      <td>0</td>\n",
       "      <td>1</td>\n",
       "      <td>1337212800</td>\n",
       "      <td>Kona for Tassimo</td>\n",
       "      <td>coffee available tassimo kona richest flavor f...</td>\n",
       "      <td>75</td>\n",
       "    </tr>\n",
       "    <tr>\n",
       "      <th>712</th>\n",
       "      <td>766</td>\n",
       "      <td>B009HINRX8</td>\n",
       "      <td>A39BLB42U7M6BD</td>\n",
       "      <td>James Brooks</td>\n",
       "      <td>0</td>\n",
       "      <td>0</td>\n",
       "      <td>1</td>\n",
       "      <td>1344643200</td>\n",
       "      <td>One of the better T-Discs</td>\n",
       "      <td>tried available discs kona blend one best regu...</td>\n",
       "      <td>387</td>\n",
       "    </tr>\n",
       "    <tr>\n",
       "      <th>711</th>\n",
       "      <td>765</td>\n",
       "      <td>B009HINRX8</td>\n",
       "      <td>A1OEL4UZT3KKI4</td>\n",
       "      <td>coffee drinker in PA \"coffee drinker in PA\"</td>\n",
       "      <td>0</td>\n",
       "      <td>0</td>\n",
       "      <td>1</td>\n",
       "      <td>1344988800</td>\n",
       "      <td>great coffee - terrible price</td>\n",
       "      <td>one best choices opinion also adore amazon nee...</td>\n",
       "      <td>218</td>\n",
       "    </tr>\n",
       "    <tr>\n",
       "      <th>710</th>\n",
       "      <td>764</td>\n",
       "      <td>B009HINRX8</td>\n",
       "      <td>ADDBLG0CFY9AI</td>\n",
       "      <td>S.A.D.</td>\n",
       "      <td>1</td>\n",
       "      <td>1</td>\n",
       "      <td>1</td>\n",
       "      <td>1326758400</td>\n",
       "      <td>Best of the Tassimo's</td>\n",
       "      <td>tried many tassimo flavors far favorite normal...</td>\n",
       "      <td>213</td>\n",
       "    </tr>\n",
       "    <tr>\n",
       "      <th>709</th>\n",
       "      <td>763</td>\n",
       "      <td>B009HINRX8</td>\n",
       "      <td>A3N9477PUE6WMR</td>\n",
       "      <td>patc477</td>\n",
       "      <td>4</td>\n",
       "      <td>4</td>\n",
       "      <td>1</td>\n",
       "      <td>1323302400</td>\n",
       "      <td>Good Tasting cup o' joe</td>\n",
       "      <td>bold blend great taste flavor comes bursting u...</td>\n",
       "      <td>206</td>\n",
       "    </tr>\n",
       "    <tr>\n",
       "      <th>63441</th>\n",
       "      <td>68918</td>\n",
       "      <td>B009IAUEOU</td>\n",
       "      <td>AZFYU1OVBPZ3</td>\n",
       "      <td>Readaholic \"Cindy\"</td>\n",
       "      <td>1</td>\n",
       "      <td>3</td>\n",
       "      <td>0</td>\n",
       "      <td>1349308800</td>\n",
       "      <td>Don't bother!!</td>\n",
       "      <td>unimpressed almonds clovey musty taste expecti...</td>\n",
       "      <td>92</td>\n",
       "    </tr>\n",
       "    <tr>\n",
       "      <th>63440</th>\n",
       "      <td>68917</td>\n",
       "      <td>B009IAUEOU</td>\n",
       "      <td>A2DYHKORAISBPF</td>\n",
       "      <td>Daniel Kubitski</td>\n",
       "      <td>1</td>\n",
       "      <td>1</td>\n",
       "      <td>1</td>\n",
       "      <td>1350086400</td>\n",
       "      <td>Great Item!</td>\n",
       "      <td>agree reviewer bit much cloves however ever pu...</td>\n",
       "      <td>307</td>\n",
       "    </tr>\n",
       "    <tr>\n",
       "      <th>36471</th>\n",
       "      <td>39644</td>\n",
       "      <td>B009KAQZ9G</td>\n",
       "      <td>A3UCO959VA9MV</td>\n",
       "      <td>Maryann Wardach</td>\n",
       "      <td>0</td>\n",
       "      <td>0</td>\n",
       "      <td>1</td>\n",
       "      <td>1299024000</td>\n",
       "      <td>cappucino t-discs</td>\n",
       "      <td>product work needs done discs wasted several m...</td>\n",
       "      <td>151</td>\n",
       "    </tr>\n",
       "    <tr>\n",
       "      <th>36470</th>\n",
       "      <td>39643</td>\n",
       "      <td>B009KAQZ9G</td>\n",
       "      <td>A3D9NUCR4RXDPY</td>\n",
       "      <td>Kathleen San Martino</td>\n",
       "      <td>1</td>\n",
       "      <td>1</td>\n",
       "      <td>1</td>\n",
       "      <td>1292544000</td>\n",
       "      <td>Very,Very Good</td>\n",
       "      <td>cappuccino good tastes almost good starbucks l...</td>\n",
       "      <td>499</td>\n",
       "    </tr>\n",
       "    <tr>\n",
       "      <th>36469</th>\n",
       "      <td>39642</td>\n",
       "      <td>B009KAQZ9G</td>\n",
       "      <td>A20NB4UBW4WDKG</td>\n",
       "      <td>Gerardo \"GD\"</td>\n",
       "      <td>1</td>\n",
       "      <td>1</td>\n",
       "      <td>1</td>\n",
       "      <td>1293321600</td>\n",
       "      <td>Coffe shop quality capuccino at home</td>\n",
       "      <td>love coffee usually would not recommend maxwel...</td>\n",
       "      <td>632</td>\n",
       "    </tr>\n",
       "    <tr>\n",
       "      <th>34007</th>\n",
       "      <td>37008</td>\n",
       "      <td>B009KOHGEK</td>\n",
       "      <td>A36WGHR8TO5DKT</td>\n",
       "      <td>Goldwave \"shopper\"</td>\n",
       "      <td>0</td>\n",
       "      <td>0</td>\n",
       "      <td>1</td>\n",
       "      <td>1349913600</td>\n",
       "      <td>Good if Possibly Adulterated Basic Bison Patties</td>\n",
       "      <td>seller shipped quickly secure packaging produc...</td>\n",
       "      <td>1687</td>\n",
       "    </tr>\n",
       "    <tr>\n",
       "      <th>65569</th>\n",
       "      <td>71232</td>\n",
       "      <td>B009KUFALA</td>\n",
       "      <td>A14WG4I5A1ZE8F</td>\n",
       "      <td>wicked witch</td>\n",
       "      <td>3</td>\n",
       "      <td>4</td>\n",
       "      <td>1</td>\n",
       "      <td>1184371200</td>\n",
       "      <td>Shrimp cocktails with vodka  wooohooooo</td>\n",
       "      <td>recently discovered mix trip florida delighted...</td>\n",
       "      <td>134</td>\n",
       "    </tr>\n",
       "    <tr>\n",
       "      <th>35419</th>\n",
       "      <td>38512</td>\n",
       "      <td>B009O7B1I0</td>\n",
       "      <td>A2YWHBF45M64S2</td>\n",
       "      <td>EcyMom</td>\n",
       "      <td>0</td>\n",
       "      <td>0</td>\n",
       "      <td>0</td>\n",
       "      <td>1350864000</td>\n",
       "      <td>Reprehensible</td>\n",
       "      <td>trader joe product good quality buy straight t...</td>\n",
       "      <td>113</td>\n",
       "    </tr>\n",
       "    <tr>\n",
       "      <th>1362</th>\n",
       "      <td>1478</td>\n",
       "      <td>B009UOFU20</td>\n",
       "      <td>AJVB004EB0MVK</td>\n",
       "      <td>D. Christofferson</td>\n",
       "      <td>0</td>\n",
       "      <td>0</td>\n",
       "      <td>0</td>\n",
       "      <td>1345852800</td>\n",
       "      <td>weak coffee not good for a premium product and...</td>\n",
       "      <td>coffee supposedly premium tastes watery thin n...</td>\n",
       "      <td>173</td>\n",
       "    </tr>\n",
       "    <tr>\n",
       "      <th>5259</th>\n",
       "      <td>5703</td>\n",
       "      <td>B009WSNWC4</td>\n",
       "      <td>AMP7K1O84DH1T</td>\n",
       "      <td>ESTY</td>\n",
       "      <td>0</td>\n",
       "      <td>0</td>\n",
       "      <td>1</td>\n",
       "      <td>1351209600</td>\n",
       "      <td>DELICIOUS</td>\n",
       "      <td>purchased product local store ny kids love qui...</td>\n",
       "      <td>114</td>\n",
       "    </tr>\n",
       "  </tbody>\n",
       "</table>\n",
       "<p>87773 rows × 11 columns</p>\n",
       "</div>"
      ],
      "text/plain": [
       "          Id   ProductId          UserId  \\\n",
       "22620  24750  2734888454  A13ISQV0U9GZIC   \n",
       "22621  24751  2734888454  A1C298ITT645B6   \n",
       "70677  76870  B00002N8SM  A19Q006CSFT011   \n",
       "70676  76869  B00002N8SM  A1FYH4S02BW7FN   \n",
       "70675  76868  B00002N8SM   AUE8TB5VHS6ZV   \n",
       "70673  76866  B00002N8SM  A3R3T5T1K8IN6P   \n",
       "70672  76865  B00002N8SM  A11DU8T1ZXPRT7   \n",
       "70671  76864  B00002N8SM   A71C9WY0242QU   \n",
       "70670  76863  B00002N8SM   A17UIV0KM8JSV   \n",
       "70669  76862  B00002N8SM   A5W8ZREO7C1WK   \n",
       "70668  76861  B00002N8SM  A1J67DKGFR7TZ4   \n",
       "70661  76853  B00002N8SM  A392XPUTJDHSDJ   \n",
       "70667  76860  B00002N8SM   ASF1MKDA0N66O   \n",
       "70666  76859  B00002N8SM   A88YOFJG6IPOZ   \n",
       "70665  76858  B00002N8SM  A3B28AM0CWI7BJ   \n",
       "70662  76854  B00002N8SM   A7E1DYOIQXM12   \n",
       "70663  76855  B00002N8SM   A8XKSGA2EA6GJ   \n",
       "70664  76857  B00002N8SM   AZKXR73X1CVIM   \n",
       "70678  76871  B00002N8SM   AIW48SP4GCIOO   \n",
       "70679  76872  B00002N8SM  A2B7IZJ243KWFX   \n",
       "70674  76867  B00002N8SM  A1VSEBVZS81UCI   \n",
       "70695  76890  B00002N8SM  A110QUC2ULFN7R   \n",
       "70685  76879  B00002N8SM  A2579IQYG8Y9YF   \n",
       "70680  76873  B00002N8SM   A1G98WP2G0CMC   \n",
       "70684  76878  B00002N8SM  A1GQUBNRZK3RHI   \n",
       "70683  76877  B00002N8SM  A1J4110YC5IFAB   \n",
       "70687  76881  B00002N8SM  A1LU93B4XI1PZZ   \n",
       "70688  76882  B00002N8SM  A32DW342WBJ6BX   \n",
       "70689  76883  B00002N8SM  A29GWIJL72GXXZ   \n",
       "70686  76880  B00002N8SM  A1S64UB4EOYFTK   \n",
       "...      ...         ...             ...   \n",
       "90976  98962  B009BSZWNC  A33NUVKG22QKRE   \n",
       "56978  61808  B009C16ZP2  A22H0NAS6G66ZI   \n",
       "82326  89529  B009CW5VUQ  A24P4U4CJL1SQ3   \n",
       "82327  89530  B009CW5VUQ  A29O79B2LS1ZQ7   \n",
       "82328  89531  B009CW5VUQ  A2YJ8Y9XVAG35C   \n",
       "82329  89532  B009CW5VUQ  A3RFG4VH8KZXP3   \n",
       "82330  89533  B009CW5VUQ   A7821UWSQ2OUP   \n",
       "58909  63993  B009D54BCQ  A2BGLSHDRABS6X   \n",
       "8141    8908  B009D668KS  A1YDQ8I5KVNF8P   \n",
       "38862  42199  B009DR3GYI  A236IN6J0H7E2V   \n",
       "38863  42200  B009DR3GYI   A1NBK07JEBCFI   \n",
       "38864  42201  B009DR3GYI  A1ECIT3IBKPQCV   \n",
       "38861  42198  B009DR3GYI    A8AOI6SNSGY6   \n",
       "38865  42202  B009DR3GYI   A3HN9CXDWOYPQ   \n",
       "49648  53915  B009EOLK0C  A3KQ5Q90X2ZCLV   \n",
       "713      768  B009HINRX8  A2CAZG1CQ8BQI5   \n",
       "712      766  B009HINRX8  A39BLB42U7M6BD   \n",
       "711      765  B009HINRX8  A1OEL4UZT3KKI4   \n",
       "710      764  B009HINRX8   ADDBLG0CFY9AI   \n",
       "709      763  B009HINRX8  A3N9477PUE6WMR   \n",
       "63441  68918  B009IAUEOU    AZFYU1OVBPZ3   \n",
       "63440  68917  B009IAUEOU  A2DYHKORAISBPF   \n",
       "36471  39644  B009KAQZ9G   A3UCO959VA9MV   \n",
       "36470  39643  B009KAQZ9G  A3D9NUCR4RXDPY   \n",
       "36469  39642  B009KAQZ9G  A20NB4UBW4WDKG   \n",
       "34007  37008  B009KOHGEK  A36WGHR8TO5DKT   \n",
       "65569  71232  B009KUFALA  A14WG4I5A1ZE8F   \n",
       "35419  38512  B009O7B1I0  A2YWHBF45M64S2   \n",
       "1362    1478  B009UOFU20   AJVB004EB0MVK   \n",
       "5259    5703  B009WSNWC4   AMP7K1O84DH1T   \n",
       "\n",
       "                                       ProfileName  HelpfulnessNumerator  \\\n",
       "22620                                    Sandikaye                     1   \n",
       "22621                            Hugh G. Pritchard                     0   \n",
       "70677                                     Arlielle                     0   \n",
       "70676                                     wonderer                     0   \n",
       "70675                                eyeofthestorm                     0   \n",
       "70673                          LILIAN J. DE CIAFFI                     0   \n",
       "70672                                     Zoggdogg                     0   \n",
       "70671                                       MeMeMe                     0   \n",
       "70670                                     S. Cohen                     0   \n",
       "70669                                     Mireille                     0   \n",
       "70668                                       ek8650                     0   \n",
       "70661                                     T. Chang                     3   \n",
       "70667                        M. Dawson \"flymaster\"                     0   \n",
       "70666                                        duane                     0   \n",
       "70665                                BB in LA \"BB\"                     0   \n",
       "70662                                   Hetal Rana                     3   \n",
       "70663                                   T. Jackman                     4   \n",
       "70664                              A Concerned Mom                     0   \n",
       "70678                             Sandra M. Stasko                     0   \n",
       "70679                                     S. Pawar                     0   \n",
       "70674                                 Brian Haynes                     0   \n",
       "70695                                      swatter                     0   \n",
       "70685                                      Cynthia                     0   \n",
       "70680                               RG77 \"RGarcia\"                     0   \n",
       "70684                                        X. Li                     0   \n",
       "70683                            G. Smith \"gayeld\"                     0   \n",
       "70687                            Christine K. Hall                     0   \n",
       "70688                                  Buttersugar                     0   \n",
       "70689                                       jon123                     1   \n",
       "70686                              Heather Paradee                     0   \n",
       "...                                            ...                   ...   \n",
       "90976          Frank G. \"Once More, With Feeling!\"                     0   \n",
       "56978                    A. Feucht \"miss-tenacity\"                     0   \n",
       "82326                Erin Glasnapp \"astarnamedrin\"                     2   \n",
       "82327                                  Karate Nerd                     0   \n",
       "82328                                       Andrew                     0   \n",
       "82329                                 Reviewerdude                     0   \n",
       "82330                                    Sylvie C.                     0   \n",
       "58909                             Sassy in Seattle                     0   \n",
       "8141                       Rangermenace \"Kinglord\"                     0   \n",
       "38862                                      Steve G                     1   \n",
       "38863                                         Jess                     1   \n",
       "38864                                   Blaqueniss                     0   \n",
       "38861                               Barbara Amante                     1   \n",
       "38865                                    Iaqueenie                     0   \n",
       "49648         Lynda. Fitzgerald \"Lynda Fitzgerald\"                     0   \n",
       "713                            Patricia J. Nohalty                     0   \n",
       "712                                   James Brooks                     0   \n",
       "711    coffee drinker in PA \"coffee drinker in PA\"                     0   \n",
       "710                                         S.A.D.                     1   \n",
       "709                                        patc477                     4   \n",
       "63441                           Readaholic \"Cindy\"                     1   \n",
       "63440                              Daniel Kubitski                     1   \n",
       "36471                              Maryann Wardach                     0   \n",
       "36470                         Kathleen San Martino                     1   \n",
       "36469                                 Gerardo \"GD\"                     1   \n",
       "34007                           Goldwave \"shopper\"                     0   \n",
       "65569                                 wicked witch                     3   \n",
       "35419                                       EcyMom                     0   \n",
       "1362                             D. Christofferson                     0   \n",
       "5259                                          ESTY                     0   \n",
       "\n",
       "       HelpfulnessDenominator  Score        Time  \\\n",
       "22620                       1      0  1192060800   \n",
       "22621                       0      1  1195948800   \n",
       "70677                       0      0  1288396800   \n",
       "70676                       0      0  1290038400   \n",
       "70675                       0      0  1306972800   \n",
       "70673                       0      1  1315785600   \n",
       "70672                       0      0  1319241600   \n",
       "70671                       0      1  1325376000   \n",
       "70670                       0      0  1337644800   \n",
       "70669                       0      0  1340582400   \n",
       "70668                       0      0  1341792000   \n",
       "70661                       4      0  1264896000   \n",
       "70667                       0      0  1342396800   \n",
       "70666                       0      0  1343433600   \n",
       "70665                       0      0  1347753600   \n",
       "70662                       4      0  1246147200   \n",
       "70663                       6      0  1255478400   \n",
       "70664                       0      0  1348704000   \n",
       "70678                       0      0  1287100800   \n",
       "70679                       0      0  1286236800   \n",
       "70674                       0      0  1314748800   \n",
       "70695                       2      0  1186704000   \n",
       "70685                       0      1  1244332800   \n",
       "70680                       0      0  1284768000   \n",
       "70684                       0      0  1279411200   \n",
       "70683                       0      0  1280016000   \n",
       "70687                       0      1  1190073600   \n",
       "70688                       0      1   948672000   \n",
       "70689                       2      0  1270771200   \n",
       "70686                       0      1  1231027200   \n",
       "...                       ...    ...         ...   \n",
       "90976                       0      0  1350691200   \n",
       "56978                       0      1  1348012800   \n",
       "82326                       3      1  1250208000   \n",
       "82327                       0      1  1332115200   \n",
       "82328                       0      1  1330646400   \n",
       "82329                       0      1  1326326400   \n",
       "82330                       0      1  1325289600   \n",
       "58909                       0      0  1348963200   \n",
       "8141                        0      1  1349308800   \n",
       "38862                       1      1  1349827200   \n",
       "38863                       1      1  1348444800   \n",
       "38864                       0      1  1350086400   \n",
       "38861                       1      1  1349913600   \n",
       "38865                       0      1  1349308800   \n",
       "49648                       0      1  1349913600   \n",
       "713                         0      1  1337212800   \n",
       "712                         0      1  1344643200   \n",
       "711                         0      1  1344988800   \n",
       "710                         1      1  1326758400   \n",
       "709                         4      1  1323302400   \n",
       "63441                       3      0  1349308800   \n",
       "63440                       1      1  1350086400   \n",
       "36471                       0      1  1299024000   \n",
       "36470                       1      1  1292544000   \n",
       "36469                       1      1  1293321600   \n",
       "34007                       0      1  1349913600   \n",
       "65569                       4      1  1184371200   \n",
       "35419                       0      0  1350864000   \n",
       "1362                        0      0  1345852800   \n",
       "5259                        0      1  1351209600   \n",
       "\n",
       "                                                 Summary  \\\n",
       "22620                                      made in china   \n",
       "22621                                  Dog Lover Delites   \n",
       "70677                            only one fruitfly stuck   \n",
       "70676            Doesn't work!! Don't waste your money!!   \n",
       "70675                                      A big rip off   \n",
       "70673             THIS ITEM IS EXCELLENT TO KILL INSECTS   \n",
       "70672                                        Didn't work   \n",
       "70671                                Gross but effective   \n",
       "70670                                Didn't work for me.   \n",
       "70669                                     Waste of money   \n",
       "70668        I should read those reviews before ordered.   \n",
       "70661                          Doesn't catch fruit flies   \n",
       "70667                            Complete Waste of Money   \n",
       "70666                                             RIpoff   \n",
       "70665                                          It's junk   \n",
       "70662                              Worthless Indoor Trap   \n",
       "70663            Epic Fail - Worst Fly Trap Ever Created   \n",
       "70664                                  Utterly worthless   \n",
       "70678                                 Day 5 = Zero flies   \n",
       "70679                                 get something else   \n",
       "70674  We have so many flies in the house.  Have had ...   \n",
       "70695                              This does not work...   \n",
       "70685                                       Works Great!   \n",
       "70680                         Fly Trap Doesn't Trap Much   \n",
       "70684                               Doesn't work at all!   \n",
       "70683                            Not so sticky situation   \n",
       "70687                                      great product   \n",
       "70688                             A sure death for flies   \n",
       "70689                                  ONLY CAUGHT 1 FLY   \n",
       "70686                            Prettier than fly paper   \n",
       "...                                                  ...   \n",
       "90976                                All Hype, No Flavor   \n",
       "56978  Better than the sum of its parts and worth the...   \n",
       "82326          Fun codd-neck bottles with a marble lock.   \n",
       "82327                                   Very good drinks   \n",
       "82328                                        Great soda.   \n",
       "82329                                            Goodish   \n",
       "82330                                          Very good   \n",
       "58909                                      BUYER BEWARE!   \n",
       "8141                                real Diet Dr. Pepper   \n",
       "38862                          Best of the pumpkin kcups   \n",
       "38863                                            so good   \n",
       "38864                                         Coffee Fan   \n",
       "38861                                    Do Not Buy Here   \n",
       "38865                                          Delicious   \n",
       "49648           I'm rating the coffee, you understand...   \n",
       "713                                     Kona for Tassimo   \n",
       "712                            One of the better T-Discs   \n",
       "711                        great coffee - terrible price   \n",
       "710                                Best of the Tassimo's   \n",
       "709                              Good Tasting cup o' joe   \n",
       "63441                                     Don't bother!!   \n",
       "63440                                        Great Item!   \n",
       "36471                                  cappucino t-discs   \n",
       "36470                                     Very,Very Good   \n",
       "36469               Coffe shop quality capuccino at home   \n",
       "34007   Good if Possibly Adulterated Basic Bison Patties   \n",
       "65569            Shrimp cocktails with vodka  wooohooooo   \n",
       "35419                                      Reprehensible   \n",
       "1362   weak coffee not good for a premium product and...   \n",
       "5259                                           DELICIOUS   \n",
       "\n",
       "                                             UPDATEDTEXT  text_len  \n",
       "22620  dogs loves chicken product china wont buying a...       162  \n",
       "22621  dogs love saw pet store tag attached regarding...        72  \n",
       "70677  infestation fruitflies literally everywhere fl...       406  \n",
       "70676  worst product gotten long time would rate no s...       209  \n",
       "70675  wish would read reviews making purchase basica...       277  \n",
       "70673  happy item many flies disturbing kitchen put p...        84  \n",
       "70672  thing item trapped fruit flies not work fly tr...        68  \n",
       "70671  nurturing plant work well decided repot larger...       495  \n",
       "70670  placed around house several days setup fly att...       255  \n",
       "70669  please not waste money fly trap absolutely use...       196  \n",
       "70668  let put way flies stay traps left looks like s...        62  \n",
       "70661  not know product performs big flies sucks frui...        53  \n",
       "70667  flies buzz around thing like not even many fli...       343  \n",
       "70666  horrible product first item not work week lots...       230  \n",
       "70665  never caught even one fly got inside left week...        75  \n",
       "70662  ineffective worthless bought product indoors t...       320  \n",
       "70663  problem lot fruit flies kitchen picked one tak...       359  \n",
       "70664  put fly trap kitchen not catch single fly flie...       346  \n",
       "70678  could rate fly trap lower one star would think...       181  \n",
       "70679  bought awhile ago decided review thing sucks f...       237  \n",
       "70674  many flies house product weeks stuck fly thus far        49  \n",
       "70695  summer grill party door kept open day food cou...       249  \n",
       "70685  used traditional fly rolls past dubious hubby ...       595  \n",
       "70680  used fly sticky tape trap garage knat fly prob...       297  \n",
       "70684  product not work hang kitchen days no fly attr...       129  \n",
       "70683  fairly certain caught flies supposed stay stuc...       136  \n",
       "70687  sly trap attractive look works well no odor re...        53  \n",
       "70688  bought apartment infested fruit flies hours tr...       207  \n",
       "70689  bought local hardware store terrible fly probl...       109  \n",
       "70686  well received item placed area put fly paper f...       194  \n",
       "...                                                  ...       ...  \n",
       "90976  close eyes try really hard might able pick fei...       395  \n",
       "56978  rarely buy spice blends mean would buy ounces ...       317  \n",
       "82326  far favorite flavor ramune flavor tried fun lo...       263  \n",
       "82327  bought enjoyed drinks quite bit bottle made in...        95  \n",
       "82328  got excited great except one thing make cold d...        73  \n",
       "82329  buying unsure would tasted sweet little much l...        90  \n",
       "82330  not sweet syrupy like us sodas refreshing calo...       152  \n",
       "58909  item good way overpriced vendor buy mix direct...        67  \n",
       "8141   package mailed received perfect condition tap ...       471  \n",
       "38862  kcup pretty tasty get past weird smell brewing...       364  \n",
       "38863  normally prefer starbucks pumpkin lattes dunki...       102  \n",
       "38864  sooooooo delicious coffee good almost orgasmic...       217  \n",
       "38861  lot money purchase thing dunkin donuts storefo...        94  \n",
       "38865  ultimate flavored coffee excellent body enjoy ...       118  \n",
       "49648  always starbucks coffee drinker bolder better ...       355  \n",
       "713    coffee available tassimo kona richest flavor f...        75  \n",
       "712    tried available discs kona blend one best regu...       387  \n",
       "711    one best choices opinion also adore amazon nee...       218  \n",
       "710    tried many tassimo flavors far favorite normal...       213  \n",
       "709    bold blend great taste flavor comes bursting u...       206  \n",
       "63441  unimpressed almonds clovey musty taste expecti...        92  \n",
       "63440  agree reviewer bit much cloves however ever pu...       307  \n",
       "36471  product work needs done discs wasted several m...       151  \n",
       "36470  cappuccino good tastes almost good starbucks l...       499  \n",
       "36469  love coffee usually would not recommend maxwel...       632  \n",
       "34007  seller shipped quickly secure packaging produc...      1687  \n",
       "65569  recently discovered mix trip florida delighted...       134  \n",
       "35419  trader joe product good quality buy straight t...       113  \n",
       "1362   coffee supposedly premium tastes watery thin n...       173  \n",
       "5259   purchased product local store ny kids love qui...       114  \n",
       "\n",
       "[87773 rows x 11 columns]"
      ]
     },
     "execution_count": 33,
     "metadata": {},
     "output_type": "execute_result"
    }
   ],
   "source": [
    "df"
   ]
  },
  {
   "cell_type": "code",
   "execution_count": 34,
   "metadata": {},
   "outputs": [],
   "source": [
    "Y1=df[\"Score\"]"
   ]
  },
  {
   "cell_type": "code",
   "execution_count": 35,
   "metadata": {},
   "outputs": [],
   "source": [
    "df.drop(\"Score\",axis = 1, inplace = True)"
   ]
  },
  {
   "cell_type": "code",
   "execution_count": 36,
   "metadata": {},
   "outputs": [
    {
     "data": {
      "text/html": [
       "<div>\n",
       "<style scoped>\n",
       "    .dataframe tbody tr th:only-of-type {\n",
       "        vertical-align: middle;\n",
       "    }\n",
       "\n",
       "    .dataframe tbody tr th {\n",
       "        vertical-align: top;\n",
       "    }\n",
       "\n",
       "    .dataframe thead th {\n",
       "        text-align: right;\n",
       "    }\n",
       "</style>\n",
       "<table border=\"1\" class=\"dataframe\">\n",
       "  <thead>\n",
       "    <tr style=\"text-align: right;\">\n",
       "      <th></th>\n",
       "      <th>Id</th>\n",
       "      <th>ProductId</th>\n",
       "      <th>UserId</th>\n",
       "      <th>ProfileName</th>\n",
       "      <th>HelpfulnessNumerator</th>\n",
       "      <th>HelpfulnessDenominator</th>\n",
       "      <th>Time</th>\n",
       "      <th>Summary</th>\n",
       "      <th>UPDATEDTEXT</th>\n",
       "      <th>text_len</th>\n",
       "    </tr>\n",
       "  </thead>\n",
       "  <tbody>\n",
       "    <tr>\n",
       "      <th>22620</th>\n",
       "      <td>24750</td>\n",
       "      <td>2734888454</td>\n",
       "      <td>A13ISQV0U9GZIC</td>\n",
       "      <td>Sandikaye</td>\n",
       "      <td>1</td>\n",
       "      <td>1</td>\n",
       "      <td>1192060800</td>\n",
       "      <td>made in china</td>\n",
       "      <td>dogs loves chicken product china wont buying a...</td>\n",
       "      <td>162</td>\n",
       "    </tr>\n",
       "    <tr>\n",
       "      <th>22621</th>\n",
       "      <td>24751</td>\n",
       "      <td>2734888454</td>\n",
       "      <td>A1C298ITT645B6</td>\n",
       "      <td>Hugh G. Pritchard</td>\n",
       "      <td>0</td>\n",
       "      <td>0</td>\n",
       "      <td>1195948800</td>\n",
       "      <td>Dog Lover Delites</td>\n",
       "      <td>dogs love saw pet store tag attached regarding...</td>\n",
       "      <td>72</td>\n",
       "    </tr>\n",
       "    <tr>\n",
       "      <th>70677</th>\n",
       "      <td>76870</td>\n",
       "      <td>B00002N8SM</td>\n",
       "      <td>A19Q006CSFT011</td>\n",
       "      <td>Arlielle</td>\n",
       "      <td>0</td>\n",
       "      <td>0</td>\n",
       "      <td>1288396800</td>\n",
       "      <td>only one fruitfly stuck</td>\n",
       "      <td>infestation fruitflies literally everywhere fl...</td>\n",
       "      <td>406</td>\n",
       "    </tr>\n",
       "    <tr>\n",
       "      <th>70676</th>\n",
       "      <td>76869</td>\n",
       "      <td>B00002N8SM</td>\n",
       "      <td>A1FYH4S02BW7FN</td>\n",
       "      <td>wonderer</td>\n",
       "      <td>0</td>\n",
       "      <td>0</td>\n",
       "      <td>1290038400</td>\n",
       "      <td>Doesn't work!! Don't waste your money!!</td>\n",
       "      <td>worst product gotten long time would rate no s...</td>\n",
       "      <td>209</td>\n",
       "    </tr>\n",
       "    <tr>\n",
       "      <th>70675</th>\n",
       "      <td>76868</td>\n",
       "      <td>B00002N8SM</td>\n",
       "      <td>AUE8TB5VHS6ZV</td>\n",
       "      <td>eyeofthestorm</td>\n",
       "      <td>0</td>\n",
       "      <td>0</td>\n",
       "      <td>1306972800</td>\n",
       "      <td>A big rip off</td>\n",
       "      <td>wish would read reviews making purchase basica...</td>\n",
       "      <td>277</td>\n",
       "    </tr>\n",
       "    <tr>\n",
       "      <th>70673</th>\n",
       "      <td>76866</td>\n",
       "      <td>B00002N8SM</td>\n",
       "      <td>A3R3T5T1K8IN6P</td>\n",
       "      <td>LILIAN J. DE CIAFFI</td>\n",
       "      <td>0</td>\n",
       "      <td>0</td>\n",
       "      <td>1315785600</td>\n",
       "      <td>THIS ITEM IS EXCELLENT TO KILL INSECTS</td>\n",
       "      <td>happy item many flies disturbing kitchen put p...</td>\n",
       "      <td>84</td>\n",
       "    </tr>\n",
       "    <tr>\n",
       "      <th>70672</th>\n",
       "      <td>76865</td>\n",
       "      <td>B00002N8SM</td>\n",
       "      <td>A11DU8T1ZXPRT7</td>\n",
       "      <td>Zoggdogg</td>\n",
       "      <td>0</td>\n",
       "      <td>0</td>\n",
       "      <td>1319241600</td>\n",
       "      <td>Didn't work</td>\n",
       "      <td>thing item trapped fruit flies not work fly tr...</td>\n",
       "      <td>68</td>\n",
       "    </tr>\n",
       "    <tr>\n",
       "      <th>70671</th>\n",
       "      <td>76864</td>\n",
       "      <td>B00002N8SM</td>\n",
       "      <td>A71C9WY0242QU</td>\n",
       "      <td>MeMeMe</td>\n",
       "      <td>0</td>\n",
       "      <td>0</td>\n",
       "      <td>1325376000</td>\n",
       "      <td>Gross but effective</td>\n",
       "      <td>nurturing plant work well decided repot larger...</td>\n",
       "      <td>495</td>\n",
       "    </tr>\n",
       "    <tr>\n",
       "      <th>70670</th>\n",
       "      <td>76863</td>\n",
       "      <td>B00002N8SM</td>\n",
       "      <td>A17UIV0KM8JSV</td>\n",
       "      <td>S. Cohen</td>\n",
       "      <td>0</td>\n",
       "      <td>0</td>\n",
       "      <td>1337644800</td>\n",
       "      <td>Didn't work for me.</td>\n",
       "      <td>placed around house several days setup fly att...</td>\n",
       "      <td>255</td>\n",
       "    </tr>\n",
       "    <tr>\n",
       "      <th>70669</th>\n",
       "      <td>76862</td>\n",
       "      <td>B00002N8SM</td>\n",
       "      <td>A5W8ZREO7C1WK</td>\n",
       "      <td>Mireille</td>\n",
       "      <td>0</td>\n",
       "      <td>0</td>\n",
       "      <td>1340582400</td>\n",
       "      <td>Waste of money</td>\n",
       "      <td>please not waste money fly trap absolutely use...</td>\n",
       "      <td>196</td>\n",
       "    </tr>\n",
       "    <tr>\n",
       "      <th>70668</th>\n",
       "      <td>76861</td>\n",
       "      <td>B00002N8SM</td>\n",
       "      <td>A1J67DKGFR7TZ4</td>\n",
       "      <td>ek8650</td>\n",
       "      <td>0</td>\n",
       "      <td>0</td>\n",
       "      <td>1341792000</td>\n",
       "      <td>I should read those reviews before ordered.</td>\n",
       "      <td>let put way flies stay traps left looks like s...</td>\n",
       "      <td>62</td>\n",
       "    </tr>\n",
       "    <tr>\n",
       "      <th>70661</th>\n",
       "      <td>76853</td>\n",
       "      <td>B00002N8SM</td>\n",
       "      <td>A392XPUTJDHSDJ</td>\n",
       "      <td>T. Chang</td>\n",
       "      <td>3</td>\n",
       "      <td>4</td>\n",
       "      <td>1264896000</td>\n",
       "      <td>Doesn't catch fruit flies</td>\n",
       "      <td>not know product performs big flies sucks frui...</td>\n",
       "      <td>53</td>\n",
       "    </tr>\n",
       "    <tr>\n",
       "      <th>70667</th>\n",
       "      <td>76860</td>\n",
       "      <td>B00002N8SM</td>\n",
       "      <td>ASF1MKDA0N66O</td>\n",
       "      <td>M. Dawson \"flymaster\"</td>\n",
       "      <td>0</td>\n",
       "      <td>0</td>\n",
       "      <td>1342396800</td>\n",
       "      <td>Complete Waste of Money</td>\n",
       "      <td>flies buzz around thing like not even many fli...</td>\n",
       "      <td>343</td>\n",
       "    </tr>\n",
       "    <tr>\n",
       "      <th>70666</th>\n",
       "      <td>76859</td>\n",
       "      <td>B00002N8SM</td>\n",
       "      <td>A88YOFJG6IPOZ</td>\n",
       "      <td>duane</td>\n",
       "      <td>0</td>\n",
       "      <td>0</td>\n",
       "      <td>1343433600</td>\n",
       "      <td>RIpoff</td>\n",
       "      <td>horrible product first item not work week lots...</td>\n",
       "      <td>230</td>\n",
       "    </tr>\n",
       "    <tr>\n",
       "      <th>70665</th>\n",
       "      <td>76858</td>\n",
       "      <td>B00002N8SM</td>\n",
       "      <td>A3B28AM0CWI7BJ</td>\n",
       "      <td>BB in LA \"BB\"</td>\n",
       "      <td>0</td>\n",
       "      <td>0</td>\n",
       "      <td>1347753600</td>\n",
       "      <td>It's junk</td>\n",
       "      <td>never caught even one fly got inside left week...</td>\n",
       "      <td>75</td>\n",
       "    </tr>\n",
       "    <tr>\n",
       "      <th>70662</th>\n",
       "      <td>76854</td>\n",
       "      <td>B00002N8SM</td>\n",
       "      <td>A7E1DYOIQXM12</td>\n",
       "      <td>Hetal Rana</td>\n",
       "      <td>3</td>\n",
       "      <td>4</td>\n",
       "      <td>1246147200</td>\n",
       "      <td>Worthless Indoor Trap</td>\n",
       "      <td>ineffective worthless bought product indoors t...</td>\n",
       "      <td>320</td>\n",
       "    </tr>\n",
       "    <tr>\n",
       "      <th>70663</th>\n",
       "      <td>76855</td>\n",
       "      <td>B00002N8SM</td>\n",
       "      <td>A8XKSGA2EA6GJ</td>\n",
       "      <td>T. Jackman</td>\n",
       "      <td>4</td>\n",
       "      <td>6</td>\n",
       "      <td>1255478400</td>\n",
       "      <td>Epic Fail - Worst Fly Trap Ever Created</td>\n",
       "      <td>problem lot fruit flies kitchen picked one tak...</td>\n",
       "      <td>359</td>\n",
       "    </tr>\n",
       "    <tr>\n",
       "      <th>70664</th>\n",
       "      <td>76857</td>\n",
       "      <td>B00002N8SM</td>\n",
       "      <td>AZKXR73X1CVIM</td>\n",
       "      <td>A Concerned Mom</td>\n",
       "      <td>0</td>\n",
       "      <td>0</td>\n",
       "      <td>1348704000</td>\n",
       "      <td>Utterly worthless</td>\n",
       "      <td>put fly trap kitchen not catch single fly flie...</td>\n",
       "      <td>346</td>\n",
       "    </tr>\n",
       "    <tr>\n",
       "      <th>70678</th>\n",
       "      <td>76871</td>\n",
       "      <td>B00002N8SM</td>\n",
       "      <td>AIW48SP4GCIOO</td>\n",
       "      <td>Sandra M. Stasko</td>\n",
       "      <td>0</td>\n",
       "      <td>0</td>\n",
       "      <td>1287100800</td>\n",
       "      <td>Day 5 = Zero flies</td>\n",
       "      <td>could rate fly trap lower one star would think...</td>\n",
       "      <td>181</td>\n",
       "    </tr>\n",
       "    <tr>\n",
       "      <th>70679</th>\n",
       "      <td>76872</td>\n",
       "      <td>B00002N8SM</td>\n",
       "      <td>A2B7IZJ243KWFX</td>\n",
       "      <td>S. Pawar</td>\n",
       "      <td>0</td>\n",
       "      <td>0</td>\n",
       "      <td>1286236800</td>\n",
       "      <td>get something else</td>\n",
       "      <td>bought awhile ago decided review thing sucks f...</td>\n",
       "      <td>237</td>\n",
       "    </tr>\n",
       "    <tr>\n",
       "      <th>70674</th>\n",
       "      <td>76867</td>\n",
       "      <td>B00002N8SM</td>\n",
       "      <td>A1VSEBVZS81UCI</td>\n",
       "      <td>Brian Haynes</td>\n",
       "      <td>0</td>\n",
       "      <td>0</td>\n",
       "      <td>1314748800</td>\n",
       "      <td>We have so many flies in the house.  Have had ...</td>\n",
       "      <td>many flies house product weeks stuck fly thus far</td>\n",
       "      <td>49</td>\n",
       "    </tr>\n",
       "    <tr>\n",
       "      <th>70695</th>\n",
       "      <td>76890</td>\n",
       "      <td>B00002N8SM</td>\n",
       "      <td>A110QUC2ULFN7R</td>\n",
       "      <td>swatter</td>\n",
       "      <td>0</td>\n",
       "      <td>2</td>\n",
       "      <td>1186704000</td>\n",
       "      <td>This does not work...</td>\n",
       "      <td>summer grill party door kept open day food cou...</td>\n",
       "      <td>249</td>\n",
       "    </tr>\n",
       "    <tr>\n",
       "      <th>70685</th>\n",
       "      <td>76879</td>\n",
       "      <td>B00002N8SM</td>\n",
       "      <td>A2579IQYG8Y9YF</td>\n",
       "      <td>Cynthia</td>\n",
       "      <td>0</td>\n",
       "      <td>0</td>\n",
       "      <td>1244332800</td>\n",
       "      <td>Works Great!</td>\n",
       "      <td>used traditional fly rolls past dubious hubby ...</td>\n",
       "      <td>595</td>\n",
       "    </tr>\n",
       "    <tr>\n",
       "      <th>70680</th>\n",
       "      <td>76873</td>\n",
       "      <td>B00002N8SM</td>\n",
       "      <td>A1G98WP2G0CMC</td>\n",
       "      <td>RG77 \"RGarcia\"</td>\n",
       "      <td>0</td>\n",
       "      <td>0</td>\n",
       "      <td>1284768000</td>\n",
       "      <td>Fly Trap Doesn't Trap Much</td>\n",
       "      <td>used fly sticky tape trap garage knat fly prob...</td>\n",
       "      <td>297</td>\n",
       "    </tr>\n",
       "    <tr>\n",
       "      <th>70684</th>\n",
       "      <td>76878</td>\n",
       "      <td>B00002N8SM</td>\n",
       "      <td>A1GQUBNRZK3RHI</td>\n",
       "      <td>X. Li</td>\n",
       "      <td>0</td>\n",
       "      <td>0</td>\n",
       "      <td>1279411200</td>\n",
       "      <td>Doesn't work at all!</td>\n",
       "      <td>product not work hang kitchen days no fly attr...</td>\n",
       "      <td>129</td>\n",
       "    </tr>\n",
       "    <tr>\n",
       "      <th>70683</th>\n",
       "      <td>76877</td>\n",
       "      <td>B00002N8SM</td>\n",
       "      <td>A1J4110YC5IFAB</td>\n",
       "      <td>G. Smith \"gayeld\"</td>\n",
       "      <td>0</td>\n",
       "      <td>0</td>\n",
       "      <td>1280016000</td>\n",
       "      <td>Not so sticky situation</td>\n",
       "      <td>fairly certain caught flies supposed stay stuc...</td>\n",
       "      <td>136</td>\n",
       "    </tr>\n",
       "    <tr>\n",
       "      <th>70687</th>\n",
       "      <td>76881</td>\n",
       "      <td>B00002N8SM</td>\n",
       "      <td>A1LU93B4XI1PZZ</td>\n",
       "      <td>Christine K. Hall</td>\n",
       "      <td>0</td>\n",
       "      <td>0</td>\n",
       "      <td>1190073600</td>\n",
       "      <td>great product</td>\n",
       "      <td>sly trap attractive look works well no odor re...</td>\n",
       "      <td>53</td>\n",
       "    </tr>\n",
       "    <tr>\n",
       "      <th>70688</th>\n",
       "      <td>76882</td>\n",
       "      <td>B00002N8SM</td>\n",
       "      <td>A32DW342WBJ6BX</td>\n",
       "      <td>Buttersugar</td>\n",
       "      <td>0</td>\n",
       "      <td>0</td>\n",
       "      <td>948672000</td>\n",
       "      <td>A sure death for flies</td>\n",
       "      <td>bought apartment infested fruit flies hours tr...</td>\n",
       "      <td>207</td>\n",
       "    </tr>\n",
       "    <tr>\n",
       "      <th>70689</th>\n",
       "      <td>76883</td>\n",
       "      <td>B00002N8SM</td>\n",
       "      <td>A29GWIJL72GXXZ</td>\n",
       "      <td>jon123</td>\n",
       "      <td>1</td>\n",
       "      <td>2</td>\n",
       "      <td>1270771200</td>\n",
       "      <td>ONLY CAUGHT 1 FLY</td>\n",
       "      <td>bought local hardware store terrible fly probl...</td>\n",
       "      <td>109</td>\n",
       "    </tr>\n",
       "    <tr>\n",
       "      <th>70686</th>\n",
       "      <td>76880</td>\n",
       "      <td>B00002N8SM</td>\n",
       "      <td>A1S64UB4EOYFTK</td>\n",
       "      <td>Heather Paradee</td>\n",
       "      <td>0</td>\n",
       "      <td>0</td>\n",
       "      <td>1231027200</td>\n",
       "      <td>Prettier than fly paper</td>\n",
       "      <td>well received item placed area put fly paper f...</td>\n",
       "      <td>194</td>\n",
       "    </tr>\n",
       "    <tr>\n",
       "      <th>...</th>\n",
       "      <td>...</td>\n",
       "      <td>...</td>\n",
       "      <td>...</td>\n",
       "      <td>...</td>\n",
       "      <td>...</td>\n",
       "      <td>...</td>\n",
       "      <td>...</td>\n",
       "      <td>...</td>\n",
       "      <td>...</td>\n",
       "      <td>...</td>\n",
       "    </tr>\n",
       "    <tr>\n",
       "      <th>90976</th>\n",
       "      <td>98962</td>\n",
       "      <td>B009BSZWNC</td>\n",
       "      <td>A33NUVKG22QKRE</td>\n",
       "      <td>Frank G. \"Once More, With Feeling!\"</td>\n",
       "      <td>0</td>\n",
       "      <td>0</td>\n",
       "      <td>1350691200</td>\n",
       "      <td>All Hype, No Flavor</td>\n",
       "      <td>close eyes try really hard might able pick fei...</td>\n",
       "      <td>395</td>\n",
       "    </tr>\n",
       "    <tr>\n",
       "      <th>56978</th>\n",
       "      <td>61808</td>\n",
       "      <td>B009C16ZP2</td>\n",
       "      <td>A22H0NAS6G66ZI</td>\n",
       "      <td>A. Feucht \"miss-tenacity\"</td>\n",
       "      <td>0</td>\n",
       "      <td>0</td>\n",
       "      <td>1348012800</td>\n",
       "      <td>Better than the sum of its parts and worth the...</td>\n",
       "      <td>rarely buy spice blends mean would buy ounces ...</td>\n",
       "      <td>317</td>\n",
       "    </tr>\n",
       "    <tr>\n",
       "      <th>82326</th>\n",
       "      <td>89529</td>\n",
       "      <td>B009CW5VUQ</td>\n",
       "      <td>A24P4U4CJL1SQ3</td>\n",
       "      <td>Erin Glasnapp \"astarnamedrin\"</td>\n",
       "      <td>2</td>\n",
       "      <td>3</td>\n",
       "      <td>1250208000</td>\n",
       "      <td>Fun codd-neck bottles with a marble lock.</td>\n",
       "      <td>far favorite flavor ramune flavor tried fun lo...</td>\n",
       "      <td>263</td>\n",
       "    </tr>\n",
       "    <tr>\n",
       "      <th>82327</th>\n",
       "      <td>89530</td>\n",
       "      <td>B009CW5VUQ</td>\n",
       "      <td>A29O79B2LS1ZQ7</td>\n",
       "      <td>Karate Nerd</td>\n",
       "      <td>0</td>\n",
       "      <td>0</td>\n",
       "      <td>1332115200</td>\n",
       "      <td>Very good drinks</td>\n",
       "      <td>bought enjoyed drinks quite bit bottle made in...</td>\n",
       "      <td>95</td>\n",
       "    </tr>\n",
       "    <tr>\n",
       "      <th>82328</th>\n",
       "      <td>89531</td>\n",
       "      <td>B009CW5VUQ</td>\n",
       "      <td>A2YJ8Y9XVAG35C</td>\n",
       "      <td>Andrew</td>\n",
       "      <td>0</td>\n",
       "      <td>0</td>\n",
       "      <td>1330646400</td>\n",
       "      <td>Great soda.</td>\n",
       "      <td>got excited great except one thing make cold d...</td>\n",
       "      <td>73</td>\n",
       "    </tr>\n",
       "    <tr>\n",
       "      <th>82329</th>\n",
       "      <td>89532</td>\n",
       "      <td>B009CW5VUQ</td>\n",
       "      <td>A3RFG4VH8KZXP3</td>\n",
       "      <td>Reviewerdude</td>\n",
       "      <td>0</td>\n",
       "      <td>0</td>\n",
       "      <td>1326326400</td>\n",
       "      <td>Goodish</td>\n",
       "      <td>buying unsure would tasted sweet little much l...</td>\n",
       "      <td>90</td>\n",
       "    </tr>\n",
       "    <tr>\n",
       "      <th>82330</th>\n",
       "      <td>89533</td>\n",
       "      <td>B009CW5VUQ</td>\n",
       "      <td>A7821UWSQ2OUP</td>\n",
       "      <td>Sylvie C.</td>\n",
       "      <td>0</td>\n",
       "      <td>0</td>\n",
       "      <td>1325289600</td>\n",
       "      <td>Very good</td>\n",
       "      <td>not sweet syrupy like us sodas refreshing calo...</td>\n",
       "      <td>152</td>\n",
       "    </tr>\n",
       "    <tr>\n",
       "      <th>58909</th>\n",
       "      <td>63993</td>\n",
       "      <td>B009D54BCQ</td>\n",
       "      <td>A2BGLSHDRABS6X</td>\n",
       "      <td>Sassy in Seattle</td>\n",
       "      <td>0</td>\n",
       "      <td>0</td>\n",
       "      <td>1348963200</td>\n",
       "      <td>BUYER BEWARE!</td>\n",
       "      <td>item good way overpriced vendor buy mix direct...</td>\n",
       "      <td>67</td>\n",
       "    </tr>\n",
       "    <tr>\n",
       "      <th>8141</th>\n",
       "      <td>8908</td>\n",
       "      <td>B009D668KS</td>\n",
       "      <td>A1YDQ8I5KVNF8P</td>\n",
       "      <td>Rangermenace \"Kinglord\"</td>\n",
       "      <td>0</td>\n",
       "      <td>0</td>\n",
       "      <td>1349308800</td>\n",
       "      <td>real Diet Dr. Pepper</td>\n",
       "      <td>package mailed received perfect condition tap ...</td>\n",
       "      <td>471</td>\n",
       "    </tr>\n",
       "    <tr>\n",
       "      <th>38862</th>\n",
       "      <td>42199</td>\n",
       "      <td>B009DR3GYI</td>\n",
       "      <td>A236IN6J0H7E2V</td>\n",
       "      <td>Steve G</td>\n",
       "      <td>1</td>\n",
       "      <td>1</td>\n",
       "      <td>1349827200</td>\n",
       "      <td>Best of the pumpkin kcups</td>\n",
       "      <td>kcup pretty tasty get past weird smell brewing...</td>\n",
       "      <td>364</td>\n",
       "    </tr>\n",
       "    <tr>\n",
       "      <th>38863</th>\n",
       "      <td>42200</td>\n",
       "      <td>B009DR3GYI</td>\n",
       "      <td>A1NBK07JEBCFI</td>\n",
       "      <td>Jess</td>\n",
       "      <td>1</td>\n",
       "      <td>1</td>\n",
       "      <td>1348444800</td>\n",
       "      <td>so good</td>\n",
       "      <td>normally prefer starbucks pumpkin lattes dunki...</td>\n",
       "      <td>102</td>\n",
       "    </tr>\n",
       "    <tr>\n",
       "      <th>38864</th>\n",
       "      <td>42201</td>\n",
       "      <td>B009DR3GYI</td>\n",
       "      <td>A1ECIT3IBKPQCV</td>\n",
       "      <td>Blaqueniss</td>\n",
       "      <td>0</td>\n",
       "      <td>0</td>\n",
       "      <td>1350086400</td>\n",
       "      <td>Coffee Fan</td>\n",
       "      <td>sooooooo delicious coffee good almost orgasmic...</td>\n",
       "      <td>217</td>\n",
       "    </tr>\n",
       "    <tr>\n",
       "      <th>38861</th>\n",
       "      <td>42198</td>\n",
       "      <td>B009DR3GYI</td>\n",
       "      <td>A8AOI6SNSGY6</td>\n",
       "      <td>Barbara Amante</td>\n",
       "      <td>1</td>\n",
       "      <td>1</td>\n",
       "      <td>1349913600</td>\n",
       "      <td>Do Not Buy Here</td>\n",
       "      <td>lot money purchase thing dunkin donuts storefo...</td>\n",
       "      <td>94</td>\n",
       "    </tr>\n",
       "    <tr>\n",
       "      <th>38865</th>\n",
       "      <td>42202</td>\n",
       "      <td>B009DR3GYI</td>\n",
       "      <td>A3HN9CXDWOYPQ</td>\n",
       "      <td>Iaqueenie</td>\n",
       "      <td>0</td>\n",
       "      <td>0</td>\n",
       "      <td>1349308800</td>\n",
       "      <td>Delicious</td>\n",
       "      <td>ultimate flavored coffee excellent body enjoy ...</td>\n",
       "      <td>118</td>\n",
       "    </tr>\n",
       "    <tr>\n",
       "      <th>49648</th>\n",
       "      <td>53915</td>\n",
       "      <td>B009EOLK0C</td>\n",
       "      <td>A3KQ5Q90X2ZCLV</td>\n",
       "      <td>Lynda. Fitzgerald \"Lynda Fitzgerald\"</td>\n",
       "      <td>0</td>\n",
       "      <td>0</td>\n",
       "      <td>1349913600</td>\n",
       "      <td>I'm rating the coffee, you understand...</td>\n",
       "      <td>always starbucks coffee drinker bolder better ...</td>\n",
       "      <td>355</td>\n",
       "    </tr>\n",
       "    <tr>\n",
       "      <th>713</th>\n",
       "      <td>768</td>\n",
       "      <td>B009HINRX8</td>\n",
       "      <td>A2CAZG1CQ8BQI5</td>\n",
       "      <td>Patricia J. Nohalty</td>\n",
       "      <td>0</td>\n",
       "      <td>0</td>\n",
       "      <td>1337212800</td>\n",
       "      <td>Kona for Tassimo</td>\n",
       "      <td>coffee available tassimo kona richest flavor f...</td>\n",
       "      <td>75</td>\n",
       "    </tr>\n",
       "    <tr>\n",
       "      <th>712</th>\n",
       "      <td>766</td>\n",
       "      <td>B009HINRX8</td>\n",
       "      <td>A39BLB42U7M6BD</td>\n",
       "      <td>James Brooks</td>\n",
       "      <td>0</td>\n",
       "      <td>0</td>\n",
       "      <td>1344643200</td>\n",
       "      <td>One of the better T-Discs</td>\n",
       "      <td>tried available discs kona blend one best regu...</td>\n",
       "      <td>387</td>\n",
       "    </tr>\n",
       "    <tr>\n",
       "      <th>711</th>\n",
       "      <td>765</td>\n",
       "      <td>B009HINRX8</td>\n",
       "      <td>A1OEL4UZT3KKI4</td>\n",
       "      <td>coffee drinker in PA \"coffee drinker in PA\"</td>\n",
       "      <td>0</td>\n",
       "      <td>0</td>\n",
       "      <td>1344988800</td>\n",
       "      <td>great coffee - terrible price</td>\n",
       "      <td>one best choices opinion also adore amazon nee...</td>\n",
       "      <td>218</td>\n",
       "    </tr>\n",
       "    <tr>\n",
       "      <th>710</th>\n",
       "      <td>764</td>\n",
       "      <td>B009HINRX8</td>\n",
       "      <td>ADDBLG0CFY9AI</td>\n",
       "      <td>S.A.D.</td>\n",
       "      <td>1</td>\n",
       "      <td>1</td>\n",
       "      <td>1326758400</td>\n",
       "      <td>Best of the Tassimo's</td>\n",
       "      <td>tried many tassimo flavors far favorite normal...</td>\n",
       "      <td>213</td>\n",
       "    </tr>\n",
       "    <tr>\n",
       "      <th>709</th>\n",
       "      <td>763</td>\n",
       "      <td>B009HINRX8</td>\n",
       "      <td>A3N9477PUE6WMR</td>\n",
       "      <td>patc477</td>\n",
       "      <td>4</td>\n",
       "      <td>4</td>\n",
       "      <td>1323302400</td>\n",
       "      <td>Good Tasting cup o' joe</td>\n",
       "      <td>bold blend great taste flavor comes bursting u...</td>\n",
       "      <td>206</td>\n",
       "    </tr>\n",
       "    <tr>\n",
       "      <th>63441</th>\n",
       "      <td>68918</td>\n",
       "      <td>B009IAUEOU</td>\n",
       "      <td>AZFYU1OVBPZ3</td>\n",
       "      <td>Readaholic \"Cindy\"</td>\n",
       "      <td>1</td>\n",
       "      <td>3</td>\n",
       "      <td>1349308800</td>\n",
       "      <td>Don't bother!!</td>\n",
       "      <td>unimpressed almonds clovey musty taste expecti...</td>\n",
       "      <td>92</td>\n",
       "    </tr>\n",
       "    <tr>\n",
       "      <th>63440</th>\n",
       "      <td>68917</td>\n",
       "      <td>B009IAUEOU</td>\n",
       "      <td>A2DYHKORAISBPF</td>\n",
       "      <td>Daniel Kubitski</td>\n",
       "      <td>1</td>\n",
       "      <td>1</td>\n",
       "      <td>1350086400</td>\n",
       "      <td>Great Item!</td>\n",
       "      <td>agree reviewer bit much cloves however ever pu...</td>\n",
       "      <td>307</td>\n",
       "    </tr>\n",
       "    <tr>\n",
       "      <th>36471</th>\n",
       "      <td>39644</td>\n",
       "      <td>B009KAQZ9G</td>\n",
       "      <td>A3UCO959VA9MV</td>\n",
       "      <td>Maryann Wardach</td>\n",
       "      <td>0</td>\n",
       "      <td>0</td>\n",
       "      <td>1299024000</td>\n",
       "      <td>cappucino t-discs</td>\n",
       "      <td>product work needs done discs wasted several m...</td>\n",
       "      <td>151</td>\n",
       "    </tr>\n",
       "    <tr>\n",
       "      <th>36470</th>\n",
       "      <td>39643</td>\n",
       "      <td>B009KAQZ9G</td>\n",
       "      <td>A3D9NUCR4RXDPY</td>\n",
       "      <td>Kathleen San Martino</td>\n",
       "      <td>1</td>\n",
       "      <td>1</td>\n",
       "      <td>1292544000</td>\n",
       "      <td>Very,Very Good</td>\n",
       "      <td>cappuccino good tastes almost good starbucks l...</td>\n",
       "      <td>499</td>\n",
       "    </tr>\n",
       "    <tr>\n",
       "      <th>36469</th>\n",
       "      <td>39642</td>\n",
       "      <td>B009KAQZ9G</td>\n",
       "      <td>A20NB4UBW4WDKG</td>\n",
       "      <td>Gerardo \"GD\"</td>\n",
       "      <td>1</td>\n",
       "      <td>1</td>\n",
       "      <td>1293321600</td>\n",
       "      <td>Coffe shop quality capuccino at home</td>\n",
       "      <td>love coffee usually would not recommend maxwel...</td>\n",
       "      <td>632</td>\n",
       "    </tr>\n",
       "    <tr>\n",
       "      <th>34007</th>\n",
       "      <td>37008</td>\n",
       "      <td>B009KOHGEK</td>\n",
       "      <td>A36WGHR8TO5DKT</td>\n",
       "      <td>Goldwave \"shopper\"</td>\n",
       "      <td>0</td>\n",
       "      <td>0</td>\n",
       "      <td>1349913600</td>\n",
       "      <td>Good if Possibly Adulterated Basic Bison Patties</td>\n",
       "      <td>seller shipped quickly secure packaging produc...</td>\n",
       "      <td>1687</td>\n",
       "    </tr>\n",
       "    <tr>\n",
       "      <th>65569</th>\n",
       "      <td>71232</td>\n",
       "      <td>B009KUFALA</td>\n",
       "      <td>A14WG4I5A1ZE8F</td>\n",
       "      <td>wicked witch</td>\n",
       "      <td>3</td>\n",
       "      <td>4</td>\n",
       "      <td>1184371200</td>\n",
       "      <td>Shrimp cocktails with vodka  wooohooooo</td>\n",
       "      <td>recently discovered mix trip florida delighted...</td>\n",
       "      <td>134</td>\n",
       "    </tr>\n",
       "    <tr>\n",
       "      <th>35419</th>\n",
       "      <td>38512</td>\n",
       "      <td>B009O7B1I0</td>\n",
       "      <td>A2YWHBF45M64S2</td>\n",
       "      <td>EcyMom</td>\n",
       "      <td>0</td>\n",
       "      <td>0</td>\n",
       "      <td>1350864000</td>\n",
       "      <td>Reprehensible</td>\n",
       "      <td>trader joe product good quality buy straight t...</td>\n",
       "      <td>113</td>\n",
       "    </tr>\n",
       "    <tr>\n",
       "      <th>1362</th>\n",
       "      <td>1478</td>\n",
       "      <td>B009UOFU20</td>\n",
       "      <td>AJVB004EB0MVK</td>\n",
       "      <td>D. Christofferson</td>\n",
       "      <td>0</td>\n",
       "      <td>0</td>\n",
       "      <td>1345852800</td>\n",
       "      <td>weak coffee not good for a premium product and...</td>\n",
       "      <td>coffee supposedly premium tastes watery thin n...</td>\n",
       "      <td>173</td>\n",
       "    </tr>\n",
       "    <tr>\n",
       "      <th>5259</th>\n",
       "      <td>5703</td>\n",
       "      <td>B009WSNWC4</td>\n",
       "      <td>AMP7K1O84DH1T</td>\n",
       "      <td>ESTY</td>\n",
       "      <td>0</td>\n",
       "      <td>0</td>\n",
       "      <td>1351209600</td>\n",
       "      <td>DELICIOUS</td>\n",
       "      <td>purchased product local store ny kids love qui...</td>\n",
       "      <td>114</td>\n",
       "    </tr>\n",
       "  </tbody>\n",
       "</table>\n",
       "<p>87773 rows × 10 columns</p>\n",
       "</div>"
      ],
      "text/plain": [
       "          Id   ProductId          UserId  \\\n",
       "22620  24750  2734888454  A13ISQV0U9GZIC   \n",
       "22621  24751  2734888454  A1C298ITT645B6   \n",
       "70677  76870  B00002N8SM  A19Q006CSFT011   \n",
       "70676  76869  B00002N8SM  A1FYH4S02BW7FN   \n",
       "70675  76868  B00002N8SM   AUE8TB5VHS6ZV   \n",
       "70673  76866  B00002N8SM  A3R3T5T1K8IN6P   \n",
       "70672  76865  B00002N8SM  A11DU8T1ZXPRT7   \n",
       "70671  76864  B00002N8SM   A71C9WY0242QU   \n",
       "70670  76863  B00002N8SM   A17UIV0KM8JSV   \n",
       "70669  76862  B00002N8SM   A5W8ZREO7C1WK   \n",
       "70668  76861  B00002N8SM  A1J67DKGFR7TZ4   \n",
       "70661  76853  B00002N8SM  A392XPUTJDHSDJ   \n",
       "70667  76860  B00002N8SM   ASF1MKDA0N66O   \n",
       "70666  76859  B00002N8SM   A88YOFJG6IPOZ   \n",
       "70665  76858  B00002N8SM  A3B28AM0CWI7BJ   \n",
       "70662  76854  B00002N8SM   A7E1DYOIQXM12   \n",
       "70663  76855  B00002N8SM   A8XKSGA2EA6GJ   \n",
       "70664  76857  B00002N8SM   AZKXR73X1CVIM   \n",
       "70678  76871  B00002N8SM   AIW48SP4GCIOO   \n",
       "70679  76872  B00002N8SM  A2B7IZJ243KWFX   \n",
       "70674  76867  B00002N8SM  A1VSEBVZS81UCI   \n",
       "70695  76890  B00002N8SM  A110QUC2ULFN7R   \n",
       "70685  76879  B00002N8SM  A2579IQYG8Y9YF   \n",
       "70680  76873  B00002N8SM   A1G98WP2G0CMC   \n",
       "70684  76878  B00002N8SM  A1GQUBNRZK3RHI   \n",
       "70683  76877  B00002N8SM  A1J4110YC5IFAB   \n",
       "70687  76881  B00002N8SM  A1LU93B4XI1PZZ   \n",
       "70688  76882  B00002N8SM  A32DW342WBJ6BX   \n",
       "70689  76883  B00002N8SM  A29GWIJL72GXXZ   \n",
       "70686  76880  B00002N8SM  A1S64UB4EOYFTK   \n",
       "...      ...         ...             ...   \n",
       "90976  98962  B009BSZWNC  A33NUVKG22QKRE   \n",
       "56978  61808  B009C16ZP2  A22H0NAS6G66ZI   \n",
       "82326  89529  B009CW5VUQ  A24P4U4CJL1SQ3   \n",
       "82327  89530  B009CW5VUQ  A29O79B2LS1ZQ7   \n",
       "82328  89531  B009CW5VUQ  A2YJ8Y9XVAG35C   \n",
       "82329  89532  B009CW5VUQ  A3RFG4VH8KZXP3   \n",
       "82330  89533  B009CW5VUQ   A7821UWSQ2OUP   \n",
       "58909  63993  B009D54BCQ  A2BGLSHDRABS6X   \n",
       "8141    8908  B009D668KS  A1YDQ8I5KVNF8P   \n",
       "38862  42199  B009DR3GYI  A236IN6J0H7E2V   \n",
       "38863  42200  B009DR3GYI   A1NBK07JEBCFI   \n",
       "38864  42201  B009DR3GYI  A1ECIT3IBKPQCV   \n",
       "38861  42198  B009DR3GYI    A8AOI6SNSGY6   \n",
       "38865  42202  B009DR3GYI   A3HN9CXDWOYPQ   \n",
       "49648  53915  B009EOLK0C  A3KQ5Q90X2ZCLV   \n",
       "713      768  B009HINRX8  A2CAZG1CQ8BQI5   \n",
       "712      766  B009HINRX8  A39BLB42U7M6BD   \n",
       "711      765  B009HINRX8  A1OEL4UZT3KKI4   \n",
       "710      764  B009HINRX8   ADDBLG0CFY9AI   \n",
       "709      763  B009HINRX8  A3N9477PUE6WMR   \n",
       "63441  68918  B009IAUEOU    AZFYU1OVBPZ3   \n",
       "63440  68917  B009IAUEOU  A2DYHKORAISBPF   \n",
       "36471  39644  B009KAQZ9G   A3UCO959VA9MV   \n",
       "36470  39643  B009KAQZ9G  A3D9NUCR4RXDPY   \n",
       "36469  39642  B009KAQZ9G  A20NB4UBW4WDKG   \n",
       "34007  37008  B009KOHGEK  A36WGHR8TO5DKT   \n",
       "65569  71232  B009KUFALA  A14WG4I5A1ZE8F   \n",
       "35419  38512  B009O7B1I0  A2YWHBF45M64S2   \n",
       "1362    1478  B009UOFU20   AJVB004EB0MVK   \n",
       "5259    5703  B009WSNWC4   AMP7K1O84DH1T   \n",
       "\n",
       "                                       ProfileName  HelpfulnessNumerator  \\\n",
       "22620                                    Sandikaye                     1   \n",
       "22621                            Hugh G. Pritchard                     0   \n",
       "70677                                     Arlielle                     0   \n",
       "70676                                     wonderer                     0   \n",
       "70675                                eyeofthestorm                     0   \n",
       "70673                          LILIAN J. DE CIAFFI                     0   \n",
       "70672                                     Zoggdogg                     0   \n",
       "70671                                       MeMeMe                     0   \n",
       "70670                                     S. Cohen                     0   \n",
       "70669                                     Mireille                     0   \n",
       "70668                                       ek8650                     0   \n",
       "70661                                     T. Chang                     3   \n",
       "70667                        M. Dawson \"flymaster\"                     0   \n",
       "70666                                        duane                     0   \n",
       "70665                                BB in LA \"BB\"                     0   \n",
       "70662                                   Hetal Rana                     3   \n",
       "70663                                   T. Jackman                     4   \n",
       "70664                              A Concerned Mom                     0   \n",
       "70678                             Sandra M. Stasko                     0   \n",
       "70679                                     S. Pawar                     0   \n",
       "70674                                 Brian Haynes                     0   \n",
       "70695                                      swatter                     0   \n",
       "70685                                      Cynthia                     0   \n",
       "70680                               RG77 \"RGarcia\"                     0   \n",
       "70684                                        X. Li                     0   \n",
       "70683                            G. Smith \"gayeld\"                     0   \n",
       "70687                            Christine K. Hall                     0   \n",
       "70688                                  Buttersugar                     0   \n",
       "70689                                       jon123                     1   \n",
       "70686                              Heather Paradee                     0   \n",
       "...                                            ...                   ...   \n",
       "90976          Frank G. \"Once More, With Feeling!\"                     0   \n",
       "56978                    A. Feucht \"miss-tenacity\"                     0   \n",
       "82326                Erin Glasnapp \"astarnamedrin\"                     2   \n",
       "82327                                  Karate Nerd                     0   \n",
       "82328                                       Andrew                     0   \n",
       "82329                                 Reviewerdude                     0   \n",
       "82330                                    Sylvie C.                     0   \n",
       "58909                             Sassy in Seattle                     0   \n",
       "8141                       Rangermenace \"Kinglord\"                     0   \n",
       "38862                                      Steve G                     1   \n",
       "38863                                         Jess                     1   \n",
       "38864                                   Blaqueniss                     0   \n",
       "38861                               Barbara Amante                     1   \n",
       "38865                                    Iaqueenie                     0   \n",
       "49648         Lynda. Fitzgerald \"Lynda Fitzgerald\"                     0   \n",
       "713                            Patricia J. Nohalty                     0   \n",
       "712                                   James Brooks                     0   \n",
       "711    coffee drinker in PA \"coffee drinker in PA\"                     0   \n",
       "710                                         S.A.D.                     1   \n",
       "709                                        patc477                     4   \n",
       "63441                           Readaholic \"Cindy\"                     1   \n",
       "63440                              Daniel Kubitski                     1   \n",
       "36471                              Maryann Wardach                     0   \n",
       "36470                         Kathleen San Martino                     1   \n",
       "36469                                 Gerardo \"GD\"                     1   \n",
       "34007                           Goldwave \"shopper\"                     0   \n",
       "65569                                 wicked witch                     3   \n",
       "35419                                       EcyMom                     0   \n",
       "1362                             D. Christofferson                     0   \n",
       "5259                                          ESTY                     0   \n",
       "\n",
       "       HelpfulnessDenominator        Time  \\\n",
       "22620                       1  1192060800   \n",
       "22621                       0  1195948800   \n",
       "70677                       0  1288396800   \n",
       "70676                       0  1290038400   \n",
       "70675                       0  1306972800   \n",
       "70673                       0  1315785600   \n",
       "70672                       0  1319241600   \n",
       "70671                       0  1325376000   \n",
       "70670                       0  1337644800   \n",
       "70669                       0  1340582400   \n",
       "70668                       0  1341792000   \n",
       "70661                       4  1264896000   \n",
       "70667                       0  1342396800   \n",
       "70666                       0  1343433600   \n",
       "70665                       0  1347753600   \n",
       "70662                       4  1246147200   \n",
       "70663                       6  1255478400   \n",
       "70664                       0  1348704000   \n",
       "70678                       0  1287100800   \n",
       "70679                       0  1286236800   \n",
       "70674                       0  1314748800   \n",
       "70695                       2  1186704000   \n",
       "70685                       0  1244332800   \n",
       "70680                       0  1284768000   \n",
       "70684                       0  1279411200   \n",
       "70683                       0  1280016000   \n",
       "70687                       0  1190073600   \n",
       "70688                       0   948672000   \n",
       "70689                       2  1270771200   \n",
       "70686                       0  1231027200   \n",
       "...                       ...         ...   \n",
       "90976                       0  1350691200   \n",
       "56978                       0  1348012800   \n",
       "82326                       3  1250208000   \n",
       "82327                       0  1332115200   \n",
       "82328                       0  1330646400   \n",
       "82329                       0  1326326400   \n",
       "82330                       0  1325289600   \n",
       "58909                       0  1348963200   \n",
       "8141                        0  1349308800   \n",
       "38862                       1  1349827200   \n",
       "38863                       1  1348444800   \n",
       "38864                       0  1350086400   \n",
       "38861                       1  1349913600   \n",
       "38865                       0  1349308800   \n",
       "49648                       0  1349913600   \n",
       "713                         0  1337212800   \n",
       "712                         0  1344643200   \n",
       "711                         0  1344988800   \n",
       "710                         1  1326758400   \n",
       "709                         4  1323302400   \n",
       "63441                       3  1349308800   \n",
       "63440                       1  1350086400   \n",
       "36471                       0  1299024000   \n",
       "36470                       1  1292544000   \n",
       "36469                       1  1293321600   \n",
       "34007                       0  1349913600   \n",
       "65569                       4  1184371200   \n",
       "35419                       0  1350864000   \n",
       "1362                        0  1345852800   \n",
       "5259                        0  1351209600   \n",
       "\n",
       "                                                 Summary  \\\n",
       "22620                                      made in china   \n",
       "22621                                  Dog Lover Delites   \n",
       "70677                            only one fruitfly stuck   \n",
       "70676            Doesn't work!! Don't waste your money!!   \n",
       "70675                                      A big rip off   \n",
       "70673             THIS ITEM IS EXCELLENT TO KILL INSECTS   \n",
       "70672                                        Didn't work   \n",
       "70671                                Gross but effective   \n",
       "70670                                Didn't work for me.   \n",
       "70669                                     Waste of money   \n",
       "70668        I should read those reviews before ordered.   \n",
       "70661                          Doesn't catch fruit flies   \n",
       "70667                            Complete Waste of Money   \n",
       "70666                                             RIpoff   \n",
       "70665                                          It's junk   \n",
       "70662                              Worthless Indoor Trap   \n",
       "70663            Epic Fail - Worst Fly Trap Ever Created   \n",
       "70664                                  Utterly worthless   \n",
       "70678                                 Day 5 = Zero flies   \n",
       "70679                                 get something else   \n",
       "70674  We have so many flies in the house.  Have had ...   \n",
       "70695                              This does not work...   \n",
       "70685                                       Works Great!   \n",
       "70680                         Fly Trap Doesn't Trap Much   \n",
       "70684                               Doesn't work at all!   \n",
       "70683                            Not so sticky situation   \n",
       "70687                                      great product   \n",
       "70688                             A sure death for flies   \n",
       "70689                                  ONLY CAUGHT 1 FLY   \n",
       "70686                            Prettier than fly paper   \n",
       "...                                                  ...   \n",
       "90976                                All Hype, No Flavor   \n",
       "56978  Better than the sum of its parts and worth the...   \n",
       "82326          Fun codd-neck bottles with a marble lock.   \n",
       "82327                                   Very good drinks   \n",
       "82328                                        Great soda.   \n",
       "82329                                            Goodish   \n",
       "82330                                          Very good   \n",
       "58909                                      BUYER BEWARE!   \n",
       "8141                                real Diet Dr. Pepper   \n",
       "38862                          Best of the pumpkin kcups   \n",
       "38863                                            so good   \n",
       "38864                                         Coffee Fan   \n",
       "38861                                    Do Not Buy Here   \n",
       "38865                                          Delicious   \n",
       "49648           I'm rating the coffee, you understand...   \n",
       "713                                     Kona for Tassimo   \n",
       "712                            One of the better T-Discs   \n",
       "711                        great coffee - terrible price   \n",
       "710                                Best of the Tassimo's   \n",
       "709                              Good Tasting cup o' joe   \n",
       "63441                                     Don't bother!!   \n",
       "63440                                        Great Item!   \n",
       "36471                                  cappucino t-discs   \n",
       "36470                                     Very,Very Good   \n",
       "36469               Coffe shop quality capuccino at home   \n",
       "34007   Good if Possibly Adulterated Basic Bison Patties   \n",
       "65569            Shrimp cocktails with vodka  wooohooooo   \n",
       "35419                                      Reprehensible   \n",
       "1362   weak coffee not good for a premium product and...   \n",
       "5259                                           DELICIOUS   \n",
       "\n",
       "                                             UPDATEDTEXT  text_len  \n",
       "22620  dogs loves chicken product china wont buying a...       162  \n",
       "22621  dogs love saw pet store tag attached regarding...        72  \n",
       "70677  infestation fruitflies literally everywhere fl...       406  \n",
       "70676  worst product gotten long time would rate no s...       209  \n",
       "70675  wish would read reviews making purchase basica...       277  \n",
       "70673  happy item many flies disturbing kitchen put p...        84  \n",
       "70672  thing item trapped fruit flies not work fly tr...        68  \n",
       "70671  nurturing plant work well decided repot larger...       495  \n",
       "70670  placed around house several days setup fly att...       255  \n",
       "70669  please not waste money fly trap absolutely use...       196  \n",
       "70668  let put way flies stay traps left looks like s...        62  \n",
       "70661  not know product performs big flies sucks frui...        53  \n",
       "70667  flies buzz around thing like not even many fli...       343  \n",
       "70666  horrible product first item not work week lots...       230  \n",
       "70665  never caught even one fly got inside left week...        75  \n",
       "70662  ineffective worthless bought product indoors t...       320  \n",
       "70663  problem lot fruit flies kitchen picked one tak...       359  \n",
       "70664  put fly trap kitchen not catch single fly flie...       346  \n",
       "70678  could rate fly trap lower one star would think...       181  \n",
       "70679  bought awhile ago decided review thing sucks f...       237  \n",
       "70674  many flies house product weeks stuck fly thus far        49  \n",
       "70695  summer grill party door kept open day food cou...       249  \n",
       "70685  used traditional fly rolls past dubious hubby ...       595  \n",
       "70680  used fly sticky tape trap garage knat fly prob...       297  \n",
       "70684  product not work hang kitchen days no fly attr...       129  \n",
       "70683  fairly certain caught flies supposed stay stuc...       136  \n",
       "70687  sly trap attractive look works well no odor re...        53  \n",
       "70688  bought apartment infested fruit flies hours tr...       207  \n",
       "70689  bought local hardware store terrible fly probl...       109  \n",
       "70686  well received item placed area put fly paper f...       194  \n",
       "...                                                  ...       ...  \n",
       "90976  close eyes try really hard might able pick fei...       395  \n",
       "56978  rarely buy spice blends mean would buy ounces ...       317  \n",
       "82326  far favorite flavor ramune flavor tried fun lo...       263  \n",
       "82327  bought enjoyed drinks quite bit bottle made in...        95  \n",
       "82328  got excited great except one thing make cold d...        73  \n",
       "82329  buying unsure would tasted sweet little much l...        90  \n",
       "82330  not sweet syrupy like us sodas refreshing calo...       152  \n",
       "58909  item good way overpriced vendor buy mix direct...        67  \n",
       "8141   package mailed received perfect condition tap ...       471  \n",
       "38862  kcup pretty tasty get past weird smell brewing...       364  \n",
       "38863  normally prefer starbucks pumpkin lattes dunki...       102  \n",
       "38864  sooooooo delicious coffee good almost orgasmic...       217  \n",
       "38861  lot money purchase thing dunkin donuts storefo...        94  \n",
       "38865  ultimate flavored coffee excellent body enjoy ...       118  \n",
       "49648  always starbucks coffee drinker bolder better ...       355  \n",
       "713    coffee available tassimo kona richest flavor f...        75  \n",
       "712    tried available discs kona blend one best regu...       387  \n",
       "711    one best choices opinion also adore amazon nee...       218  \n",
       "710    tried many tassimo flavors far favorite normal...       213  \n",
       "709    bold blend great taste flavor comes bursting u...       206  \n",
       "63441  unimpressed almonds clovey musty taste expecti...        92  \n",
       "63440  agree reviewer bit much cloves however ever pu...       307  \n",
       "36471  product work needs done discs wasted several m...       151  \n",
       "36470  cappuccino good tastes almost good starbucks l...       499  \n",
       "36469  love coffee usually would not recommend maxwel...       632  \n",
       "34007  seller shipped quickly secure packaging produc...      1687  \n",
       "65569  recently discovered mix trip florida delighted...       134  \n",
       "35419  trader joe product good quality buy straight t...       113  \n",
       "1362   coffee supposedly premium tastes watery thin n...       173  \n",
       "5259   purchased product local store ny kids love qui...       114  \n",
       "\n",
       "[87773 rows x 10 columns]"
      ]
     },
     "execution_count": 36,
     "metadata": {},
     "output_type": "execute_result"
    }
   ],
   "source": [
    "df"
   ]
  },
  {
   "cell_type": "code",
   "execution_count": 37,
   "metadata": {},
   "outputs": [],
   "source": [
    "df1=df.drop(df.columns[[0,1,2,3,4,5,6,7]],axis=1)\n"
   ]
  },
  {
   "cell_type": "code",
   "execution_count": 38,
   "metadata": {},
   "outputs": [
    {
     "data": {
      "text/html": [
       "<div>\n",
       "<style scoped>\n",
       "    .dataframe tbody tr th:only-of-type {\n",
       "        vertical-align: middle;\n",
       "    }\n",
       "\n",
       "    .dataframe tbody tr th {\n",
       "        vertical-align: top;\n",
       "    }\n",
       "\n",
       "    .dataframe thead th {\n",
       "        text-align: right;\n",
       "    }\n",
       "</style>\n",
       "<table border=\"1\" class=\"dataframe\">\n",
       "  <thead>\n",
       "    <tr style=\"text-align: right;\">\n",
       "      <th></th>\n",
       "      <th>UPDATEDTEXT</th>\n",
       "      <th>text_len</th>\n",
       "    </tr>\n",
       "  </thead>\n",
       "  <tbody>\n",
       "    <tr>\n",
       "      <th>22620</th>\n",
       "      <td>dogs loves chicken product china wont buying a...</td>\n",
       "      <td>162</td>\n",
       "    </tr>\n",
       "    <tr>\n",
       "      <th>22621</th>\n",
       "      <td>dogs love saw pet store tag attached regarding...</td>\n",
       "      <td>72</td>\n",
       "    </tr>\n",
       "    <tr>\n",
       "      <th>70677</th>\n",
       "      <td>infestation fruitflies literally everywhere fl...</td>\n",
       "      <td>406</td>\n",
       "    </tr>\n",
       "    <tr>\n",
       "      <th>70676</th>\n",
       "      <td>worst product gotten long time would rate no s...</td>\n",
       "      <td>209</td>\n",
       "    </tr>\n",
       "    <tr>\n",
       "      <th>70675</th>\n",
       "      <td>wish would read reviews making purchase basica...</td>\n",
       "      <td>277</td>\n",
       "    </tr>\n",
       "  </tbody>\n",
       "</table>\n",
       "</div>"
      ],
      "text/plain": [
       "                                             UPDATEDTEXT  text_len\n",
       "22620  dogs loves chicken product china wont buying a...       162\n",
       "22621  dogs love saw pet store tag attached regarding...        72\n",
       "70677  infestation fruitflies literally everywhere fl...       406\n",
       "70676  worst product gotten long time would rate no s...       209\n",
       "70675  wish would read reviews making purchase basica...       277"
      ]
     },
     "execution_count": 38,
     "metadata": {},
     "output_type": "execute_result"
    }
   ],
   "source": [
    "df1.head()"
   ]
  },
  {
   "cell_type": "code",
   "execution_count": 39,
   "metadata": {},
   "outputs": [],
   "source": [
    "from sklearn.model_selection import train_test_split\n",
    "X1_train, X1_test, Y1_train, Y1_test = train_test_split(df1, Y1, test_size=0.2, shuffle=False)\n",
    "X1_train, X1_cv, Y1_train, Y1_cv = train_test_split(X1_train, Y1_train, test_size=0.2,shuffle=False)"
   ]
  },
  {
   "cell_type": "code",
   "execution_count": 40,
   "metadata": {},
   "outputs": [
    {
     "name": "stdout",
     "output_type": "stream",
     "text": [
      "(56174, 2) (56174,)\n",
      "(14044, 2) (14044,)\n",
      "(17555, 2) (17555,)\n"
     ]
    }
   ],
   "source": [
    "print(X1_train.shape, Y1_train.shape)\n",
    "print(X1_cv.shape, Y1_cv.shape)\n",
    "print(X1_test.shape, Y1_test.shape)"
   ]
  },
  {
   "cell_type": "code",
   "execution_count": 41,
   "metadata": {},
   "outputs": [
    {
     "data": {
      "text/plain": [
       "22620    dogs loves chicken product china wont buying a...\n",
       "22621    dogs love saw pet store tag attached regarding...\n",
       "70677    infestation fruitflies literally everywhere fl...\n",
       "70676    worst product gotten long time would rate no s...\n",
       "70675    wish would read reviews making purchase basica...\n",
       "70673    happy item many flies disturbing kitchen put p...\n",
       "70672    thing item trapped fruit flies not work fly tr...\n",
       "70671    nurturing plant work well decided repot larger...\n",
       "70670    placed around house several days setup fly att...\n",
       "70669    please not waste money fly trap absolutely use...\n",
       "70668    let put way flies stay traps left looks like s...\n",
       "70661    not know product performs big flies sucks frui...\n",
       "70667    flies buzz around thing like not even many fli...\n",
       "70666    horrible product first item not work week lots...\n",
       "70665    never caught even one fly got inside left week...\n",
       "70662    ineffective worthless bought product indoors t...\n",
       "70663    problem lot fruit flies kitchen picked one tak...\n",
       "70664    put fly trap kitchen not catch single fly flie...\n",
       "70678    could rate fly trap lower one star would think...\n",
       "70679    bought awhile ago decided review thing sucks f...\n",
       "70674    many flies house product weeks stuck fly thus far\n",
       "70695    summer grill party door kept open day food cou...\n",
       "70685    used traditional fly rolls past dubious hubby ...\n",
       "70680    used fly sticky tape trap garage knat fly prob...\n",
       "70684    product not work hang kitchen days no fly attr...\n",
       "70683    fairly certain caught flies supposed stay stuc...\n",
       "70687    sly trap attractive look works well no odor re...\n",
       "70688    bought apartment infested fruit flies hours tr...\n",
       "70689    bought local hardware store terrible fly probl...\n",
       "70686    well received item placed area put fly paper f...\n",
       "                               ...                        \n",
       "39490    enjoyed full rich chocolate bar ordered produc...\n",
       "39401    good not incredible chocolate bar little much ...\n",
       "39400    particular chocolate bar perfect opinion since...\n",
       "39491    note guest review chocolate loving friend lw a...\n",
       "39492    split bar wife seems women expert chocolate no...\n",
       "39493    satisfying love chocolate organic first last i...\n",
       "39494    usually fan newman products chocolate left col...\n",
       "39495    not fan dark chocolate little hesitant first s...\n",
       "39399    not eat much dark chocolate kind matter sense ...\n",
       "39397    tend prefer darker chocolate expecting bar swe...\n",
       "39396    great dark chocolate cocoa might make think co...\n",
       "39395    not say ever ate piece chocolate not like choc...\n",
       "39394    primarily milk chocolate lover dark chocolate ...\n",
       "39393    received bar via amazon vine program review le...\n",
       "39496    chocolate lover first time tried organic dark ...\n",
       "39497    one great dark chocolate bar organic comparing...\n",
       "39392    summary good starter gourmet dark chocolate no...\n",
       "39391    yummy delicious quality chocolate bar makes fe...\n",
       "39390    shared chocolate bar friends agreed liked star...\n",
       "39389    not tell difference organic non organic chocol...\n",
       "39388    chocolate good better give three stars flavor ...\n",
       "39387    perhaps given bar different name maybe dark ch...\n",
       "39386    chocolate bar good dark chocolate favorite kin...\n",
       "39385    regardless food brand mission statement comes ...\n",
       "39383    chocolate perfection texture smooth melts mout...\n",
       "39382    review going get two opinions chocolate enthus...\n",
       "39499    never eaten organic chocolate often find dark ...\n",
       "39516    big fan newman dark chocolates tried percentag...\n",
       "39523    love dark chocolate eat time darker better how...\n",
       "39518    good dark chocolate not know better worse equi...\n",
       "Name: UPDATEDTEXT, Length: 56174, dtype: object"
      ]
     },
     "execution_count": 41,
     "metadata": {},
     "output_type": "execute_result"
    }
   ],
   "source": [
    "X1_train[\"UPDATEDTEXT\"]"
   ]
  },
  {
   "cell_type": "markdown",
   "metadata": {},
   "source": [
    "## [1]  BOW"
   ]
  },
  {
   "cell_type": "code",
   "execution_count": 42,
   "metadata": {},
   "outputs": [
    {
     "data": {
      "text/plain": [
       "(56174, 9284)"
      ]
     },
     "execution_count": 42,
     "metadata": {},
     "output_type": "execute_result"
    }
   ],
   "source": [
    "count_vect = CountVectorizer(min_df=10)\n",
    "X_train_BOW = count_vect.fit_transform(X1_train[\"UPDATEDTEXT\"])\n",
    "X_train_BOW.shape\n"
   ]
  },
  {
   "cell_type": "code",
   "execution_count": 43,
   "metadata": {},
   "outputs": [
    {
     "data": {
      "text/plain": [
       "(14044, 9284)"
      ]
     },
     "execution_count": 43,
     "metadata": {},
     "output_type": "execute_result"
    }
   ],
   "source": [
    "X_cv_BOW = count_vect.transform(X1_cv[\"UPDATEDTEXT\"])\n",
    "X_cv_BOW.shape"
   ]
  },
  {
   "cell_type": "code",
   "execution_count": 44,
   "metadata": {},
   "outputs": [
    {
     "data": {
      "text/plain": [
       "(17555, 9284)"
      ]
     },
     "execution_count": 44,
     "metadata": {},
     "output_type": "execute_result"
    }
   ],
   "source": [
    "X_test_BOW = count_vect.transform(X1_test[\"UPDATEDTEXT\"])\n",
    "X_test_BOW.shape"
   ]
  },
  {
   "cell_type": "code",
   "execution_count": 45,
   "metadata": {},
   "outputs": [],
   "source": [
    "from sklearn.preprocessing import normalize\n",
    "trainb_text_feature_norm = normalize(X_train_BOW , axis=0)\n",
    "\n",
    "cvb_text_feature_norm=normalize(X_cv_BOW,axis=0)\n",
    "\n",
    "testb_text_feature_norm=normalize(X_test_BOW,axis=0)\n"
   ]
  },
  {
   "cell_type": "code",
   "execution_count": 46,
   "metadata": {},
   "outputs": [
    {
     "data": {
      "text/plain": [
       "(56174, 9284)"
      ]
     },
     "execution_count": 46,
     "metadata": {},
     "output_type": "execute_result"
    }
   ],
   "source": [
    "trainb_text_feature_norm.shape"
   ]
  },
  {
   "cell_type": "code",
   "execution_count": 47,
   "metadata": {},
   "outputs": [
    {
     "data": {
      "text/plain": [
       "(14044, 9284)"
      ]
     },
     "execution_count": 47,
     "metadata": {},
     "output_type": "execute_result"
    }
   ],
   "source": [
    "cvb_text_feature_norm.shape"
   ]
  },
  {
   "cell_type": "code",
   "execution_count": 48,
   "metadata": {},
   "outputs": [
    {
     "data": {
      "text/plain": [
       "(17555, 9284)"
      ]
     },
     "execution_count": 48,
     "metadata": {},
     "output_type": "execute_result"
    }
   ],
   "source": [
    "testb_text_feature_norm.shape"
   ]
  },
  {
   "cell_type": "code",
   "execution_count": 55,
   "metadata": {},
   "outputs": [
    {
     "name": "stdout",
     "output_type": "stream",
     "text": [
      "alpha   log10(aplha) -----> CV AUC SCORE\n",
      "----------------------------------------------------\n",
      "1e-05   -5.0 -----> 0.813981046541888\n",
      "0.0001   -4.0 -----> 0.8179909325747132\n",
      "0.001   -3.0 -----> 0.8234668624228382\n",
      "0.01   -2.0 -----> 0.8324853919372963\n",
      "0.1   -1.0 -----> 0.8505916118004537\n",
      "1   0.0 -----> 0.8670172738739106\n",
      "10   1.0 -----> 0.7560385106852587\n",
      "100   2.0 -----> 0.6520087526317085\n",
      "1000   3.0 -----> 0.6337202193285493\n",
      "10000   4.0 -----> 0.631716971077105\n",
      "100000   5.0 -----> 0.6315143204574827\n"
     ]
    },
    {
     "data": {
      "image/png": "[encoded data removed]",
      "text/plain": [
       "<Figure size 432x288 with 1 Axes>"
      ]
     },
     "metadata": {},
     "output_type": "display_data"
    }
   ],
   "source": [
    "from sklearn.naive_bayes import MultinomialNB\n",
    "from sklearn.metrics import roc_auc_score\n",
    "import matplotlib.pyplot as plt\n",
    "\n",
    "train_auc = []\n",
    "cv_auc = []\n",
    "alpha=[0.00001,0.0001,0.001,0.01,0.1,1,10,100,1000,10000,100000]\n",
    "print(\"alpha\",\" \",\"log10(aplha)\",\"----->\",\"CV AUC SCORE\")\n",
    "print(\"----------------------------------------------------\")\n",
    "for i in alpha:\n",
    "    Mnb = MultinomialNB(alpha = i,fit_prior = False)\n",
    "    Mnb.fit(trainb_text_feature_norm, Y1_train)\n",
    "    \n",
    "    Y_train_pred =  Mnb.predict_proba(trainb_text_feature_norm)[:,1]\n",
    "    Y_cv_pred =  Mnb.predict_proba(cvb_text_feature_norm)[:,1]\n",
    "    train_auc_score=roc_auc_score(Y1_train,Y_train_pred)\n",
    "    train_auc.append(train_auc_score)\n",
    "    cv_auc_score=roc_auc_score(Y1_cv, Y_cv_pred)\n",
    "    \n",
    "    print(i,\" \",np.log10(i),\"----->\",cv_auc_score)\n",
    "    cv_auc.append(cv_auc_score)\n",
    "#plt.ylim([0.00001,100000])\n",
    "plt.plot(np.log10(alpha), train_auc, label='Train AUC',marker = '.')\n",
    "plt.plot(np.log10(alpha), cv_auc, label='CV AUC',marker = '.')\n",
    "plt.legend()\n",
    "plt.xlabel(\"Alpha: hyperparameter\")\n",
    "plt.ylabel(\"AUC\")\n",
    "plt.title(\"Alpha vs AUC plot\")\n",
    "plt.show()"
   ]
  },
  {
   "cell_type": "code",
   "execution_count": 60,
   "metadata": {},
   "outputs": [
    {
     "data": {
      "image/png": "[encoded data removed]",
      "text/plain": [
       "<Figure size 432x288 with 1 Axes>"
      ]
     },
     "metadata": {},
     "output_type": "display_data"
    }
   ],
   "source": [
    "from sklearn.metrics import roc_curve, auc\n",
    "\n",
    "\n",
    "Mbow = MultinomialNB(alpha = 1,fit_prior = False)\n",
    "Mbow.fit(trainb_text_feature_norm, Y1_train)\n",
    "# roc_auc_score(y_true, y_score) the 2nd parameter should be probability estimates of the positive class\n",
    "# not the predicted outputs\n",
    "\n",
    "\n",
    "train_fpr, train_tpr, thresholds = roc_curve(Y1_train, Mbow.predict_proba(trainb_text_feature_norm)[:,1])\n",
    "test_fpr, test_tpr, thresholds = roc_curve(Y1_test, Mbow.predict_proba(testb_text_feature_norm)[:,1])\n",
    "cv_fpr,cv_tpr,thresholds = roc_curve(Y1_cv,Mbow.predict_proba(cvb_text_feature_norm)[:,1])\n",
    "plt.plot(train_fpr, train_tpr, label=\"train AUC =\"+str(auc(train_fpr, train_tpr)))\n",
    "plt.plot(test_fpr, test_tpr, label=\"test AUC =\"+str(auc(test_fpr, test_tpr)))\n",
    "plt.plot(cv_fpr, cv_tpr, label=\"CV AUC =\"+str(auc(cv_fpr, cv_tpr)))\n",
    "plt.legend()\n",
    "plt.plot([0,1],[0,1],linewidth=3.0)\n",
    "plt.xlabel(\"False Positive Rates\")\n",
    "plt.ylabel(\"True Positive Rates\")\n",
    "plt.title(\"ROC curve\")\n",
    "plt.show()\n"
   ]
  },
  {
   "cell_type": "code",
   "execution_count": 61,
   "metadata": {},
   "outputs": [
    {
     "data": {
      "image/png": "[encoded data removed]",
      "text/plain": [
       "<Figure size 432x288 with 2 Axes>"
      ]
     },
     "metadata": {},
     "output_type": "display_data"
    }
   ],
   "source": [
    "import seaborn as sb\n",
    "C_b = confusion_matrix(Y1_test,Mbow.predict(testb_text_feature_norm))\n",
    "class_label = ['0-negative', '1-positive']\n",
    "df_conf_matrix = pd.DataFrame(\n",
    "    C_b, index=class_label, columns=class_label)\n",
    "sb.heatmap(df_conf_matrix, annot=True, fmt='d')\n",
    "plt.title(\"Confusion Matrix\")\n",
    "plt.xlabel(\"Predicted\")\n",
    "plt.ylabel(\"Actual\")\n",
    "plt.show()\n"
   ]
  },
  {
   "cell_type": "code",
   "execution_count": 62,
   "metadata": {},
   "outputs": [
    {
     "data": {
      "image/png": "[encoded data removed]",
      "text/plain": [
       "<Figure size 432x288 with 2 Axes>"
      ]
     },
     "metadata": {},
     "output_type": "display_data"
    }
   ],
   "source": [
    "B_b =(C_b/C_b.sum(axis=0))\n",
    "df_conf_matrix = pd.DataFrame(\n",
    "    B_b, index=class_label, columns=class_label)\n",
    "sb.heatmap(df_conf_matrix, annot=True, fmt='.3f')\n",
    "plt.title(\"Precision matrix\")\n",
    "plt.xlabel(\"Predicted\")\n",
    "plt.ylabel(\"Actual\")\n",
    "plt.show()"
   ]
  },
  {
   "cell_type": "code",
   "execution_count": 63,
   "metadata": {},
   "outputs": [
    {
     "data": {
      "image/png": "[encoded data removed]",
      "text/plain": [
       "<Figure size 432x288 with 2 Axes>"
      ]
     },
     "metadata": {},
     "output_type": "display_data"
    }
   ],
   "source": [
    "A_b =(((C_b.T)/(C_b.sum(axis=1))).T)\n",
    "df_conf_matrix = pd.DataFrame(\n",
    "    A_b, index=class_label, columns=class_label)\n",
    "sb.heatmap(df_conf_matrix, annot=True, fmt='.3f')\n",
    "plt.title(\"Recall matrix \")\n",
    "plt.xlabel(\"Predicted\")\n",
    "plt.ylabel(\"Actual\")\n",
    "plt.show()"
   ]
  },
  {
   "cell_type": "code",
   "execution_count": 64,
   "metadata": {},
   "outputs": [],
   "source": [
    "Positive_features = Mbow.feature_log_prob_[1,:]\n",
    "Negative_features = Mbow.feature_log_prob_[0,:]"
   ]
  },
  {
   "cell_type": "code",
   "execution_count": 65,
   "metadata": {},
   "outputs": [
    {
     "name": "stdout",
     "output_type": "stream",
     "text": [
      "Postive top 10 important features are:\n",
      "('not', -6.575627923228547)\n",
      "('great', -6.604913083256277)\n",
      "('good', -6.678941269745125)\n",
      "('like', -6.749495714445874)\n",
      "('love', -6.767079607243572)\n",
      "('one', -6.8543068313929245)\n",
      "('taste', -6.914624160964259)\n",
      "('flavor', -6.941190282357218)\n",
      "('best', -6.9512320170321305)\n",
      "('get', -6.973790196708675)\n"
     ]
    }
   ],
   "source": [
    "import operator\n",
    "imp_features = {}\n",
    "feature_names= count_vect.get_feature_names()\n",
    "for i in range(len(feature_names)):\n",
    "    imp_features[feature_names[i]] = Positive_features[i]\n",
    "names_diff_sorted = sorted(imp_features.items(), key = operator.itemgetter(1), reverse = True)\n",
    "print(\"Postive top 10 important features are:\")\n",
    "for i in range(10):\n",
    "    print(names_diff_sorted[i])"
   ]
  },
  {
   "cell_type": "code",
   "execution_count": 66,
   "metadata": {
    "scrolled": true
   },
   "outputs": [
    {
     "name": "stdout",
     "output_type": "stream",
     "text": [
      "\n",
      "\n",
      "Negative top 10 important features are:\n",
      "('not', -6.53097333090146)\n",
      "('would', -6.946311483087533)\n",
      "('product', -6.9697626978275355)\n",
      "('like', -7.000948057902262)\n",
      "('taste', -7.022623975106647)\n",
      "('bad', -7.114085969139938)\n",
      "('disappointed', -7.131700146132756)\n",
      "('one', -7.194597856814961)\n",
      "('money', -7.204702536592601)\n",
      "('no', -7.208331245315948)\n"
     ]
    }
   ],
   "source": [
    "for i in range(len(feature_names)):\n",
    "    imp_features[feature_names[i]] = Negative_features[i]\n",
    "names_diff_sorted = sorted(imp_features.items(), key = operator.itemgetter(1), reverse = True)\n",
    "print(\"\\n\\nNegative top 10 important features are:\")\n",
    "for i in range(10):\n",
    "    print(names_diff_sorted[i])"
   ]
  },
  {
   "cell_type": "markdown",
   "metadata": {},
   "source": [
    "## FEATURE SELECTION"
   ]
  },
  {
   "cell_type": "markdown",
   "metadata": {},
   "source": [
    "#### BY USING PERCENTILE\n",
    "#from sklearn.feature_selection import SelectPercentile,f_classif\n",
    "#selector=SelectPercentile(f_classif,percentile=30)\n",
    "#selector.fit(X_train_BOW,Y1_train)"
   ]
  },
  {
   "cell_type": "markdown",
   "metadata": {},
   "source": [
    "#feature_train=selector.transform(X_train_BOW).toarray()\n",
    "#feature_cv=selector.transform(X_cv_BOW).toarray()\n",
    "#feature_test=selector.transform(X_test_BOW).toarray()"
   ]
  },
  {
   "cell_type": "markdown",
   "metadata": {},
   "source": [
    "### Selecting top 2000 features using SelectKBest"
   ]
  },
  {
   "cell_type": "code",
   "execution_count": 67,
   "metadata": {},
   "outputs": [
    {
     "data": {
      "text/plain": [
       "SelectKBest(k=2000, score_func=<function chi2 at 0x000001AC1AE9F1E0>)"
      ]
     },
     "execution_count": 67,
     "metadata": {},
     "output_type": "execute_result"
    }
   ],
   "source": [
    "from sklearn.feature_selection import SelectKBest\n",
    "from sklearn.feature_selection import chi2\n",
    "sel = SelectKBest(chi2, k=2000)\n",
    "sel.fit(trainb_text_feature_norm,Y1_train)"
   ]
  },
  {
   "cell_type": "code",
   "execution_count": 68,
   "metadata": {},
   "outputs": [],
   "source": [
    "feature_train=sel.transform(trainb_text_feature_norm).toarray()\n",
    "feature_cv=sel.transform(cvb_text_feature_norm).toarray()\n",
    "feature_test=sel.transform(testb_text_feature_norm).toarray()"
   ]
  },
  {
   "cell_type": "code",
   "execution_count": 69,
   "metadata": {},
   "outputs": [
    {
     "data": {
      "text/plain": [
       "(56174, 2000)"
      ]
     },
     "execution_count": 69,
     "metadata": {},
     "output_type": "execute_result"
    }
   ],
   "source": [
    "feature_train.shape"
   ]
  },
  {
   "cell_type": "code",
   "execution_count": 70,
   "metadata": {},
   "outputs": [
    {
     "data": {
      "text/plain": [
       "(14044, 2000)"
      ]
     },
     "execution_count": 70,
     "metadata": {},
     "output_type": "execute_result"
    }
   ],
   "source": [
    "feature_cv.shape"
   ]
  },
  {
   "cell_type": "code",
   "execution_count": 71,
   "metadata": {},
   "outputs": [
    {
     "data": {
      "text/plain": [
       "(17555, 2000)"
      ]
     },
     "execution_count": 71,
     "metadata": {},
     "output_type": "execute_result"
    }
   ],
   "source": [
    "feature_test.shape"
   ]
  },
  {
   "cell_type": "code",
   "execution_count": 72,
   "metadata": {},
   "outputs": [
    {
     "name": "stdout",
     "output_type": "stream",
     "text": [
      "alpha   log10(aplha) -----> CV AUC SCORE\n",
      "----------------------------------------------------\n",
      "1e-05   -5.0 -----> 0.8675610229875397\n",
      "0.0001   -4.0 -----> 0.8676047623472553\n",
      "0.001   -3.0 -----> 0.8678464286199792\n",
      "0.01   -2.0 -----> 0.8689144190206862\n",
      "0.1   -1.0 -----> 0.8703158814730422\n",
      "1   0.0 -----> 0.8686720676302091\n",
      "10   1.0 -----> 0.821707065356159\n",
      "100   2.0 -----> 0.7282671363545512\n",
      "1000   3.0 -----> 0.7027792775245788\n",
      "10000   4.0 -----> 0.6996894685754336\n",
      "100000   5.0 -----> 0.6993754682915063\n"
     ]
    },
    {
     "data": {
      "image/png": "[encoded data removed]",
      "text/plain": [
       "<Figure size 432x288 with 1 Axes>"
      ]
     },
     "metadata": {},
     "output_type": "display_data"
    }
   ],
   "source": [
    "from sklearn.naive_bayes import MultinomialNB\n",
    "from sklearn.metrics import roc_auc_score\n",
    "import matplotlib.pyplot as plt\n",
    "\n",
    "train_auc = []\n",
    "cv_auc = []\n",
    "alpha=[0.00001,0.0001,0.001,0.01,0.1,1,10,100,1000,10000,100000]\n",
    "print(\"alpha\",\" \",\"log10(aplha)\",\"----->\",\"CV AUC SCORE\")\n",
    "print(\"----------------------------------------------------\")\n",
    "for i in alpha:\n",
    "    Mnb = MultinomialNB(alpha = i,fit_prior = False)\n",
    "    Mnb.fit(feature_train, Y1_train)\n",
    "    \n",
    "    Y_train_pred =  Mnb.predict_proba(feature_train)[:,1]\n",
    "    Y_cv_pred =  Mnb.predict_proba(feature_cv)[:,1]\n",
    "    train_auc_score=roc_auc_score(Y1_train,Y_train_pred)\n",
    "    train_auc.append(train_auc_score)\n",
    "    cv_auc_score=roc_auc_score(Y1_cv, Y_cv_pred)\n",
    "    \n",
    "    print(i,\" \",np.log10(i),\"----->\",cv_auc_score)\n",
    "    cv_auc.append(cv_auc_score)\n",
    "#plt.ylim([0.00001,100000])\n",
    "plt.plot(np.log10(alpha), train_auc, label='Train AUC',marker = '.')\n",
    "plt.plot(np.log10(alpha), cv_auc, label='CV AUC',marker = '.')\n",
    "plt.legend()\n",
    "plt.xlabel(\"Alpha: hyperparameter\")\n",
    "plt.ylabel(\"AUC\")\n",
    "plt.title(\"Alpha vs AUC plot\")\n",
    "plt.show()"
   ]
  },
  {
   "cell_type": "code",
   "execution_count": 81,
   "metadata": {},
   "outputs": [
    {
     "data": {
      "image/png": "[encoded data removed]",
      "text/plain": [
       "<Figure size 432x288 with 1 Axes>"
      ]
     },
     "metadata": {},
     "output_type": "display_data"
    }
   ],
   "source": [
    "from sklearn.metrics import roc_curve, auc\n",
    "\n",
    "\n",
    "Mbow = MultinomialNB(alpha = 0.1,fit_prior = False)\n",
    "Mbow.fit(feature_train, Y1_train)\n",
    "# roc_auc_score(y_true, y_score) the 2nd parameter should be probability estimates of the positive class\n",
    "# not the predicted outputs\n",
    "\n",
    "\n",
    "train_fpr, train_tpr, thresholds = roc_curve(Y1_train, Mbow.predict_proba(feature_train)[:,1])\n",
    "test_fpr, test_tpr, thresholds = roc_curve(Y1_test, Mbow.predict_proba(feature_test)[:,1])\n",
    "cv_fpr,cv_tpr,thresholds = roc_curve(Y1_cv,Mbow.predict_proba(feature_cv)[:,1])\n",
    "plt.plot(train_fpr, train_tpr, label=\"train AUC =\"+str(auc(train_fpr, train_tpr)))\n",
    "plt.plot(test_fpr, test_tpr, label=\"test AUC =\"+str(auc(test_fpr, test_tpr)))\n",
    "plt.plot(cv_fpr, cv_tpr, label=\"CV AUC =\"+str(auc(cv_fpr, cv_tpr)))\n",
    "plt.legend()\n",
    "plt.plot([0,1],[0,1],linewidth=3.0)\n",
    "plt.xlabel(\"False Positive Rates\")\n",
    "plt.ylabel(\"True Positive Rates\")\n",
    "plt.title(\"ROC curve\")\n",
    "plt.show()\n"
   ]
  },
  {
   "cell_type": "code",
   "execution_count": 82,
   "metadata": {},
   "outputs": [
    {
     "data": {
      "image/png": "[encoded data removed]",
      "text/plain": [
       "<Figure size 432x288 with 2 Axes>"
      ]
     },
     "metadata": {},
     "output_type": "display_data"
    }
   ],
   "source": [
    "import seaborn as sb\n",
    "C_b = confusion_matrix(Y1_test,Mbow.predict(feature_test))\n",
    "class_label = ['0-negative', '1-positive']\n",
    "df_conf_matrix = pd.DataFrame(\n",
    "    C_b, index=class_label, columns=class_label)\n",
    "sb.heatmap(df_conf_matrix, annot=True, fmt='d')\n",
    "plt.title(\"Confusion Matrix\")\n",
    "plt.xlabel(\"Predicted\")\n",
    "plt.ylabel(\"Actual\")\n",
    "plt.show()"
   ]
  },
  {
   "cell_type": "code",
   "execution_count": 83,
   "metadata": {},
   "outputs": [
    {
     "data": {
      "image/png": "[encoded data removed]",
      "text/plain": [
       "<Figure size 432x288 with 2 Axes>"
      ]
     },
     "metadata": {},
     "output_type": "display_data"
    }
   ],
   "source": [
    "B_b =(C_b/C_b.sum(axis=0))\n",
    "df_conf_matrix = pd.DataFrame(\n",
    "    B_b, index=class_label, columns=class_label)\n",
    "sb.heatmap(df_conf_matrix, annot=True, fmt='.3f')\n",
    "plt.title(\"Precision matrix\")\n",
    "plt.xlabel(\"Predicted\")\n",
    "plt.ylabel(\"Actual\")\n",
    "plt.show()"
   ]
  },
  {
   "cell_type": "code",
   "execution_count": 84,
   "metadata": {},
   "outputs": [
    {
     "data": {
      "image/png": "[encoded data removed]",
      "text/plain": [
       "<Figure size 432x288 with 2 Axes>"
      ]
     },
     "metadata": {},
     "output_type": "display_data"
    }
   ],
   "source": [
    "A_b =(((C_b.T)/(C_b.sum(axis=1))).T)\n",
    "df_conf_matrix = pd.DataFrame(\n",
    "    A_b, index=class_label, columns=class_label)\n",
    "sb.heatmap(df_conf_matrix, annot=True, fmt='.3f')\n",
    "plt.title(\"Recall matrix \")\n",
    "plt.xlabel(\"Predicted\")\n",
    "plt.ylabel(\"Actual\")\n",
    "plt.show()"
   ]
  },
  {
   "cell_type": "markdown",
   "metadata": {},
   "source": [
    "## Using New Feature Length"
   ]
  },
  {
   "cell_type": "code",
   "execution_count": 85,
   "metadata": {},
   "outputs": [
    {
     "data": {
      "text/plain": [
       "Normalizer(copy=True, norm='l2')"
      ]
     },
     "execution_count": 85,
     "metadata": {},
     "output_type": "execute_result"
    }
   ],
   "source": [
    "from sklearn.preprocessing import Normalizer\n",
    "normalizer_count=Normalizer()\n",
    "normalizer_count.fit(X1_train[\"text_len\"].values.reshape(-1,1))"
   ]
  },
  {
   "cell_type": "code",
   "execution_count": 86,
   "metadata": {},
   "outputs": [],
   "source": [
    "train_count=normalizer_count.transform(X1_train[\"text_len\"].values.reshape(-1,1))\n",
    "cv_count=normalizer_count.transform(X1_cv[\"text_len\"].values.reshape(-1,1))\n",
    "test_count=normalizer_count.transform(X1_test[\"text_len\"].values.reshape(-1,1))"
   ]
  },
  {
   "cell_type": "code",
   "execution_count": 87,
   "metadata": {},
   "outputs": [
    {
     "data": {
      "text/plain": [
       "(56174, 1)"
      ]
     },
     "execution_count": 87,
     "metadata": {},
     "output_type": "execute_result"
    }
   ],
   "source": [
    "train_count.shape"
   ]
  },
  {
   "cell_type": "code",
   "execution_count": 88,
   "metadata": {},
   "outputs": [
    {
     "data": {
      "text/plain": [
       "(14044, 1)"
      ]
     },
     "execution_count": 88,
     "metadata": {},
     "output_type": "execute_result"
    }
   ],
   "source": [
    "cv_count.shape"
   ]
  },
  {
   "cell_type": "code",
   "execution_count": 89,
   "metadata": {},
   "outputs": [
    {
     "data": {
      "text/plain": [
       "(17555, 1)"
      ]
     },
     "execution_count": 89,
     "metadata": {},
     "output_type": "execute_result"
    }
   ],
   "source": [
    "test_count.shape"
   ]
  },
  {
   "cell_type": "code",
   "execution_count": 90,
   "metadata": {},
   "outputs": [],
   "source": [
    "from scipy.sparse import hstack\n",
    "train_x_hstackb = hstack((trainb_text_feature_norm, train_count)).tocsr()\n",
    "train_y_hstackb = np.array(list(Y1_train))"
   ]
  },
  {
   "cell_type": "code",
   "execution_count": 91,
   "metadata": {},
   "outputs": [],
   "source": [
    "cv_x_hstackb = hstack((cvb_text_feature_norm, cv_count)).tocsr()\n",
    "cv_y_hstackb = np.array(list(Y1_cv))"
   ]
  },
  {
   "cell_type": "code",
   "execution_count": 92,
   "metadata": {},
   "outputs": [],
   "source": [
    "test_x_hstackb = hstack((testb_text_feature_norm,test_count )).tocsr()\n",
    "test_y_hstackb = np.array(list(Y1_test))"
   ]
  },
  {
   "cell_type": "code",
   "execution_count": 93,
   "metadata": {},
   "outputs": [
    {
     "name": "stdout",
     "output_type": "stream",
     "text": [
      "(number of data points * number of features) in train data =  (56174, 9285)\n",
      "(number of data points * number of features) in test data =  (17555, 9285)\n",
      "(number of data points * number of features) in cross validation data = (14044, 9285)\n"
     ]
    }
   ],
   "source": [
    "print(\"(number of data points * number of features) in train data = \", train_x_hstackb.shape)\n",
    "print(\"(number of data points * number of features) in test data = \", test_x_hstackb.shape)\n",
    "print(\"(number of data points * number of features) in cross validation data =\", cv_x_hstackb.shape)"
   ]
  },
  {
   "cell_type": "code",
   "execution_count": 94,
   "metadata": {},
   "outputs": [
    {
     "name": "stdout",
     "output_type": "stream",
     "text": [
      "alpha   log10(aplha) -----> CV AUC SCORE\n",
      "----------------------------------------------------\n",
      "1e-05   -5.0 -----> 0.8201539935567921\n",
      "0.0001   -4.0 -----> 0.824373273210284\n",
      "0.001   -3.0 -----> 0.8300225378499613\n",
      "0.01   -2.0 -----> 0.8388934064591964\n",
      "0.1   -1.0 -----> 0.8584858270231284\n",
      "1   0.0 -----> 0.8481149111227388\n",
      "10   1.0 -----> 0.777599815436489\n",
      "100   2.0 -----> 0.7475118957175777\n",
      "1000   3.0 -----> 0.7333065921056622\n",
      "10000   4.0 -----> 0.7312029921327928\n",
      "100000   5.0 -----> 0.730979391333455\n"
     ]
    },
    {
     "data": {
      "image/png": "[encoded data removed]",
      "text/plain": [
       "<Figure size 432x288 with 1 Axes>"
      ]
     },
     "metadata": {},
     "output_type": "display_data"
    }
   ],
   "source": [
    "from sklearn.metrics import roc_auc_score\n",
    "import matplotlib.pyplot as plt\n",
    "\n",
    "train_auc_t = []\n",
    "cv_auc_t = []\n",
    "alpha=[0.00001,0.0001,0.001,0.01,0.1,1,10,100,1000,10000,100000]\n",
    "print(\"alpha\",\" \",\"log10(aplha)\",\"----->\",\"CV AUC SCORE\")\n",
    "print(\"----------------------------------------------------\")\n",
    "for i in alpha:\n",
    "    Mbow_h= MultinomialNB(alpha = i,fit_prior = False)\n",
    "    Mbow_h.fit(train_x_hstackb, train_y_hstackb)\n",
    "    \n",
    "    Y_train_pred =  Mbow_h.predict_proba(train_x_hstackb)[:,1]\n",
    "    Y_cv_pred =  Mbow_h.predict_proba(cv_x_hstackb)[:,1]\n",
    "    train_auc_score=roc_auc_score(train_y_hstackb,Y_train_pred)\n",
    "    train_auc_t.append(train_auc_score)\n",
    "    cv_auc_score=roc_auc_score(cv_y_hstackb, Y_cv_pred)\n",
    "    print(i,\" \",np.log10(i),\"----->\",cv_auc_score)\n",
    "    cv_auc_t.append(cv_auc_score)\n",
    "\n",
    "plt.plot(np.log10(alpha), train_auc_t, label='Train AUC')\n",
    "plt.plot(np.log10(alpha), cv_auc_t, label='CV AUC')\n",
    "plt.legend()\n",
    "plt.xlabel(\"Alpha: hyperparameter\")\n",
    "plt.ylabel(\"AUC\")\n",
    "plt.title(\"Alpha vs AUC plot\")\n",
    "plt.show()"
   ]
  },
  {
   "cell_type": "code",
   "execution_count": 114,
   "metadata": {},
   "outputs": [
    {
     "data": {
      "image/png": "[encoded data removed]",
      "text/plain": [
       "<Figure size 432x288 with 1 Axes>"
      ]
     },
     "metadata": {},
     "output_type": "display_data"
    }
   ],
   "source": [
    "# https://scikit-learn.org/stable/modules/generated/sklearn.metrics.roc_curve.html#sklearn.metrics.roc_curve\n",
    "from sklearn.metrics import roc_curve, auc\n",
    "\n",
    "\n",
    "Mbown = MultinomialNB(alpha = 0.1,fit_prior = False)\n",
    "Mbown.fit(train_x_hstackb, train_y_hstackb)\n",
    "# roc_auc_score(y_true, y_score) the 2nd parameter should be probability estimates of the positive class\n",
    "# not the predicted outputs\n",
    "\n",
    "cv_fpr,cv_tpr,threshold = roc_curve(cv_y_hstackb,Mbown.predict_proba(cv_x_hstackb)[:,1])\n",
    "train_fpr, train_tpr, thresholds = roc_curve(train_y_hstackb, Mbown.predict_proba(train_x_hstackb)[:,1])\n",
    "test_fpr, test_tpr, thresholds = roc_curve(test_y_hstackb, Mbown.predict_proba(test_x_hstackb)[:,1])\n",
    "plt.plot(cv_fpr, cv_tpr, label=\"CV AUC =\"+str(auc(cv_fpr, cv_tpr)))\n",
    "plt.plot(train_fpr, train_tpr, label=\"train AUC =\"+str(auc(train_fpr, train_tpr)))\n",
    "plt.plot(test_fpr, test_tpr, label=\"test AUC =\"+str(auc(test_fpr, test_tpr)))\n",
    "plt.plot([0,1],[0,1],linewidth=3.0)\n",
    "plt.legend()\n",
    "plt.xlabel(\"False positive rate\")\n",
    "plt.ylabel(\"True positive rate\")\n",
    "plt.title(\"ROC curve\")\n",
    "plt.show()\n"
   ]
  },
  {
   "cell_type": "code",
   "execution_count": 115,
   "metadata": {},
   "outputs": [
    {
     "data": {
      "image/png": "[encoded data removed]",
      "text/plain": [
       "<Figure size 432x288 with 2 Axes>"
      ]
     },
     "metadata": {},
     "output_type": "display_data"
    }
   ],
   "source": [
    "import seaborn as sb\n",
    "C_bow = confusion_matrix(test_y_hstackb,Mbown.predict(test_x_hstackb))\n",
    "class_label = ['0-negative', '1-positive']\n",
    "df_conf_matrix = pd.DataFrame(\n",
    "    C_bow, index=class_label, columns=class_label)\n",
    "sb.heatmap(df_conf_matrix, annot=True, fmt='d')\n",
    "plt.title(\"Confusion Matrix\")\n",
    "plt.xlabel(\"Actual\")\n",
    "plt.ylabel(\"Predicted\")\n",
    "plt.show()\n"
   ]
  },
  {
   "cell_type": "code",
   "execution_count": 116,
   "metadata": {},
   "outputs": [
    {
     "data": {
      "image/png": "[encoded data removed]",
      "text/plain": [
       "<Figure size 432x288 with 2 Axes>"
      ]
     },
     "metadata": {},
     "output_type": "display_data"
    }
   ],
   "source": [
    "B_bow =(C_bow/C_bow.sum(axis=0))\n",
    "df_conf_matrix = pd.DataFrame(\n",
    "    B_bow, index=class_label, columns=class_label)\n",
    "sb.heatmap(df_conf_matrix, annot=True, fmt='.3f')\n",
    "plt.title(\"Precision matrix\")\n",
    "plt.xlabel(\"Predicted\")\n",
    "plt.ylabel(\"Actual\")\n",
    "plt.show()\n"
   ]
  },
  {
   "cell_type": "code",
   "execution_count": 117,
   "metadata": {},
   "outputs": [
    {
     "data": {
      "image/png": "[encoded data removed]",
      "text/plain": [
       "<Figure size 432x288 with 2 Axes>"
      ]
     },
     "metadata": {},
     "output_type": "display_data"
    }
   ],
   "source": [
    "A_bow =(((C_bow.T)/(C_bow.sum(axis=1))).T)\n",
    "df_conf_matrix = pd.DataFrame(\n",
    "    A_bow, index=class_label, columns=class_label)\n",
    "sb.heatmap(df_conf_matrix, annot=True, fmt='.3f')\n",
    "plt.title(\"Recall matrix \")\n",
    "plt.xlabel(\"Predicted\")\n",
    "plt.ylabel(\"Actual\")\n",
    "plt.show()"
   ]
  },
  {
   "cell_type": "code",
   "execution_count": 118,
   "metadata": {},
   "outputs": [],
   "source": [
    "Positive_features_n = Mbown.feature_log_prob_[1,:]\n",
    "Negative_features_n = Mbown.feature_log_prob_[0,:]"
   ]
  },
  {
   "cell_type": "code",
   "execution_count": 119,
   "metadata": {},
   "outputs": [
    {
     "name": "stdout",
     "output_type": "stream",
     "text": [
      "Postive top 10 important features are:\n",
      "('not', -6.999123618233719)\n",
      "('great', -7.028664723094035)\n",
      "('good', -7.103374647319016)\n",
      "('like', -7.17462801776878)\n",
      "('love', -7.192393992779617)\n",
      "('one', -7.280573886872819)\n",
      "('taste', -7.341600893151531)\n",
      "('flavor', -7.3684935911455645)\n",
      "('best', -7.378661074150264)\n",
      "('get', -7.401506446639891)\n"
     ]
    }
   ],
   "source": [
    "imp_features = {}\n",
    "feature_names= count_vect.get_feature_names()\n",
    "for i in range(len(feature_names)):\n",
    "    imp_features[feature_names[i]] = Positive_features_n[i]\n",
    "names_diff_sorted = sorted(imp_features.items(), key = operator.itemgetter(1), reverse = True)\n",
    "print(\"Postive top 10 important features are:\")\n",
    "for i in range(10):\n",
    "    print(names_diff_sorted[i])"
   ]
  },
  {
   "cell_type": "code",
   "execution_count": 120,
   "metadata": {},
   "outputs": [
    {
     "name": "stdout",
     "output_type": "stream",
     "text": [
      "\n",
      "\n",
      "Negative top 10 important features are:\n",
      "('not', -6.573414766241231)\n",
      "('would', -7.002238895328331)\n",
      "('product', -7.0266384374794235)\n",
      "('like', -7.059121285135061)\n",
      "('taste', -7.0817242083970005)\n",
      "('bad', -7.177337258434687)\n",
      "('disappointed', -7.195797503941289)\n",
      "('one', -7.261847277980037)\n",
      "('money', -7.272478052620116)\n",
      "('no', -7.276297057378333)\n"
     ]
    }
   ],
   "source": [
    "for i in range(len(feature_names)):\n",
    "    imp_features[feature_names[i]] = Negative_features_n[i]\n",
    "names_diff_sorted = sorted(imp_features.items(), key = operator.itemgetter(1), reverse = True)\n",
    "print(\"\\n\\nNegative top 10 important features are:\")\n",
    "for i in range(10):\n",
    "    print(names_diff_sorted[i])"
   ]
  },
  {
   "cell_type": "markdown",
   "metadata": {},
   "source": [
    "## OBSERVATIONS:"
   ]
  },
  {
   "cell_type": "markdown",
   "metadata": {},
   "source": [
    "1] When we apply Multinomial Naive Bayes to BOW we get Test AUC as 86.20.<br>\n",
    "2] When we perform feature selection(top 2000 features) among 9284 features we get Test AUC as 86.28.<br>\n",
    "3] On performing featurization we get Test AUC as 85.40.<br>\n",
    "4] Multinomial Naive Bayes performed better than Knn on BOW"
   ]
  },
  {
   "cell_type": "markdown",
   "metadata": {},
   "source": [
    "## [2] TFIDF"
   ]
  },
  {
   "cell_type": "code",
   "execution_count": 121,
   "metadata": {},
   "outputs": [
    {
     "name": "stdout",
     "output_type": "stream",
     "text": [
      "some sample features(unique words in the corpus) ['aa', 'aafco', 'abandon', 'abdominal', 'ability', 'able', 'able buy', 'able chew', 'able drink', 'able eat']\n",
      "==================================================\n",
      "the type of count vectorizer  <class 'scipy.sparse.csr.csr_matrix'>\n",
      "the shape of out text TFIDF vectorizer  (56174, 32777)\n",
      "the number of unique words including both unigrams and bigrams  32777\n"
     ]
    }
   ],
   "source": [
    "tf_idf_vect = TfidfVectorizer(min_df = 10, ngram_range = (1,2))\n",
    "tf_idf_vect.fit(X1_train[\"UPDATEDTEXT\"])\n",
    "print(\"some sample features(unique words in the corpus)\",tf_idf_vect.get_feature_names()[0:10])\n",
    "print('='*50)\n",
    "\n",
    "X1_train_tfidf = tf_idf_vect.transform(X1_train[\"UPDATEDTEXT\"])\n",
    "print(\"the type of count vectorizer \",type(X1_train_tfidf))\n",
    "print(\"the shape of out text TFIDF vectorizer \",X1_train_tfidf.get_shape())\n",
    "print(\"the number of unique words including both unigrams and bigrams \", X1_train_tfidf.get_shape()[1])"
   ]
  },
  {
   "cell_type": "code",
   "execution_count": 122,
   "metadata": {},
   "outputs": [
    {
     "data": {
      "text/plain": [
       "(14044, 32777)"
      ]
     },
     "execution_count": 122,
     "metadata": {},
     "output_type": "execute_result"
    }
   ],
   "source": [
    "X1_cv_tfidf=tf_idf_vect.transform(X1_cv[\"UPDATEDTEXT\"])\n",
    "X1_cv_tfidf.shape"
   ]
  },
  {
   "cell_type": "code",
   "execution_count": 123,
   "metadata": {},
   "outputs": [
    {
     "data": {
      "text/plain": [
       "(17555, 32777)"
      ]
     },
     "execution_count": 123,
     "metadata": {},
     "output_type": "execute_result"
    }
   ],
   "source": [
    "X1_test_tfidf=tf_idf_vect.transform(X1_test[\"UPDATEDTEXT\"])\n",
    "X1_test_tfidf.shape"
   ]
  },
  {
   "cell_type": "code",
   "execution_count": 124,
   "metadata": {},
   "outputs": [],
   "source": [
    "from sklearn.preprocessing import normalize\n",
    "train_text_feature_norm = normalize(X1_train_tfidf , axis=0)\n",
    "\n",
    "cv_text_feature_norm=normalize(X1_cv_tfidf,axis=0)\n",
    "\n",
    "test_text_feature_norm=normalize(X1_test_tfidf,axis=0)\n"
   ]
  },
  {
   "cell_type": "code",
   "execution_count": 125,
   "metadata": {},
   "outputs": [
    {
     "data": {
      "text/plain": [
       "(56174, 32777)"
      ]
     },
     "execution_count": 125,
     "metadata": {},
     "output_type": "execute_result"
    }
   ],
   "source": [
    "train_text_feature_norm.shape"
   ]
  },
  {
   "cell_type": "code",
   "execution_count": 126,
   "metadata": {},
   "outputs": [
    {
     "data": {
      "text/plain": [
       "(14044, 32777)"
      ]
     },
     "execution_count": 126,
     "metadata": {},
     "output_type": "execute_result"
    }
   ],
   "source": [
    "cv_text_feature_norm.shape"
   ]
  },
  {
   "cell_type": "code",
   "execution_count": 127,
   "metadata": {},
   "outputs": [
    {
     "data": {
      "text/plain": [
       "(17555, 32777)"
      ]
     },
     "execution_count": 127,
     "metadata": {},
     "output_type": "execute_result"
    }
   ],
   "source": [
    "test_text_feature_norm.shape"
   ]
  },
  {
   "cell_type": "code",
   "execution_count": 128,
   "metadata": {},
   "outputs": [
    {
     "name": "stdout",
     "output_type": "stream",
     "text": [
      "alpha   log10(aplha) -----> CV AUC SCORE\n",
      "----------------------------------------------------\n",
      "1e-05   -5.0 -----> 0.848762347399486\n",
      "0.0001   -4.0 -----> 0.8620240275123097\n",
      "0.001   -3.0 -----> 0.8795736432892591\n",
      "0.01   -2.0 -----> 0.9014753073284991\n",
      "0.1   -1.0 -----> 0.9231936843393511\n",
      "1   0.0 -----> 0.932115540132954\n",
      "10   1.0 -----> 0.9024340394769899\n",
      "100   2.0 -----> 0.836654405583003\n",
      "1000   3.0 -----> 0.8173835576571122\n",
      "10000   4.0 -----> 0.8149332159834798\n",
      "100000   5.0 -----> 0.8146825710623065\n"
     ]
    },
    {
     "data": {
      "image/png": "[encoded data removed]",
      "text/plain": [
       "<Figure size 432x288 with 1 Axes>"
      ]
     },
     "metadata": {},
     "output_type": "display_data"
    }
   ],
   "source": [
    "from sklearn.metrics import roc_auc_score\n",
    "import matplotlib.pyplot as plt\n",
    "from sklearn.naive_bayes import MultinomialNB\n",
    "train_auc_t = []\n",
    "cv_auc_t = []\n",
    "alpha=[0.00001,0.0001,0.001,0.01,0.1,1,10,100,1000,10000,100000]\n",
    "print(\"alpha\",\" \",\"log10(aplha)\",\"----->\",\"CV AUC SCORE\")\n",
    "print(\"----------------------------------------------------\")\n",
    "for i in alpha:\n",
    "    Mtfidf =MultinomialNB(alpha = i,fit_prior = False)\n",
    "    Mtfidf.fit(train_text_feature_norm, Y1_train)\n",
    "    \n",
    "    Y_train_pred =  Mtfidf.predict_proba(train_text_feature_norm)[:,1]\n",
    "    Y_cv_pred =  Mtfidf.predict_proba(cv_text_feature_norm)[:,1]\n",
    "    train_auc_score=roc_auc_score(Y1_train,Y_train_pred)\n",
    "    train_auc_t.append(train_auc_score)\n",
    "    cv_auc_score=roc_auc_score(Y1_cv, Y_cv_pred)\n",
    "    print(i,\" \",np.log10(i),\"----->\",cv_auc_score)\n",
    "    cv_auc_t.append(cv_auc_score)\n",
    "\n",
    "plt.plot(np.log10(alpha), train_auc_t, label='Train AUC')\n",
    "plt.plot(np.log10(alpha), cv_auc_t, label='CV AUC')\n",
    "plt.legend()\n",
    "plt.xlabel(\"Alpha: hyperparameter\")\n",
    "plt.ylabel(\"AUC\")\n",
    "plt.title(\"Alpha vs AUC plot\")\n",
    "plt.show()"
   ]
  },
  {
   "cell_type": "code",
   "execution_count": 129,
   "metadata": {},
   "outputs": [
    {
     "data": {
      "image/png": "[encoded data removed]",
      "text/plain": [
       "<Figure size 432x288 with 1 Axes>"
      ]
     },
     "metadata": {},
     "output_type": "display_data"
    }
   ],
   "source": [
    "# https://scikit-learn.org/stable/modules/generated/sklearn.metrics.roc_curve.html#sklearn.metrics.roc_curve\n",
    "from sklearn.metrics import roc_curve, auc\n",
    "\n",
    "\n",
    "Mtfidf1 =MultinomialNB(alpha = 1,fit_prior = False)\n",
    "Mtfidf1.fit(train_text_feature_norm, Y1_train)\n",
    "# roc_auc_score(y_true, y_score) the 2nd parameter should be probability estimates of the positive class\n",
    "# not the predicted outputs\n",
    "\n",
    "cv_fpr,cv_tpr,threshold = roc_curve(Y1_cv,Mtfidf1.predict_proba(cv_text_feature_norm)[:,1])\n",
    "train_fpr, train_tpr, thresholds = roc_curve(Y1_train, Mtfidf1.predict_proba(train_text_feature_norm)[:,1])\n",
    "test_fpr, test_tpr, thresholds = roc_curve(Y1_test, Mtfidf1.predict_proba(test_text_feature_norm)[:,1])\n",
    "plt.plot(cv_fpr, cv_tpr, label=\"CV AUC =\"+str(auc(cv_fpr, cv_tpr)))\n",
    "plt.plot(train_fpr, train_tpr, label=\"train AUC =\"+str(auc(train_fpr, train_tpr)))\n",
    "plt.plot(test_fpr, test_tpr, label=\"test AUC =\"+str(auc(test_fpr, test_tpr)))\n",
    "plt.plot([0,1],[0,1],linewidth=3.0)\n",
    "plt.legend()\n",
    "plt.xlabel(\"False positive rate\")\n",
    "plt.ylabel(\"True positive rate\")\n",
    "plt.title(\"ROC curve\")\n",
    "plt.show()"
   ]
  },
  {
   "cell_type": "code",
   "execution_count": 130,
   "metadata": {},
   "outputs": [
    {
     "data": {
      "image/png": "[encoded data removed]",
      "text/plain": [
       "<Figure size 432x288 with 2 Axes>"
      ]
     },
     "metadata": {},
     "output_type": "display_data"
    }
   ],
   "source": [
    "import seaborn as sb\n",
    "C_t = confusion_matrix(Y1_test,Mtfidf1.predict(test_text_feature_norm))\n",
    "class_label = ['0-negative', '1-positive']\n",
    "df_conf_matrix = pd.DataFrame(\n",
    "    C_t, index=class_label, columns=class_label)\n",
    "sb.heatmap(df_conf_matrix, annot=True, fmt='d')\n",
    "plt.title(\"Confusion Matrix\")\n",
    "plt.xlabel(\"Actual\")\n",
    "plt.ylabel(\"Predicted\")\n",
    "plt.show()"
   ]
  },
  {
   "cell_type": "code",
   "execution_count": 131,
   "metadata": {},
   "outputs": [
    {
     "data": {
      "image/png": "[encoded data removed]",
      "text/plain": [
       "<Figure size 432x288 with 2 Axes>"
      ]
     },
     "metadata": {},
     "output_type": "display_data"
    }
   ],
   "source": [
    "B =(C_t/C_t.sum(axis=0))\n",
    "df_conf_matrix = pd.DataFrame(\n",
    "    B, index=class_label, columns=class_label)\n",
    "sb.heatmap(df_conf_matrix, annot=True, fmt='.3f')\n",
    "plt.title(\"Precision matrix\")\n",
    "plt.xlabel(\"Predicted\")\n",
    "plt.ylabel(\"Actual\")\n",
    "plt.show()"
   ]
  },
  {
   "cell_type": "code",
   "execution_count": 132,
   "metadata": {},
   "outputs": [
    {
     "data": {
      "image/png": "[encoded data removed]",
      "text/plain": [
       "<Figure size 432x288 with 2 Axes>"
      ]
     },
     "metadata": {},
     "output_type": "display_data"
    }
   ],
   "source": [
    "A =(((C_t.T)/(C_t.sum(axis=1))).T)\n",
    "df_conf_matrix = pd.DataFrame(\n",
    "    A, index=class_label, columns=class_label)\n",
    "sb.heatmap(df_conf_matrix, annot=True, fmt='.3f')\n",
    "plt.title(\"Recall matrix \")\n",
    "plt.xlabel(\"Predicted\")\n",
    "plt.ylabel(\"Actual\")\n",
    "plt.show()"
   ]
  },
  {
   "cell_type": "code",
   "execution_count": 133,
   "metadata": {},
   "outputs": [],
   "source": [
    "Positive_features_t = Mtfidf1.feature_log_prob_[1,:]\n",
    "Negative_features_t = Mtfidf1.feature_log_prob_[0,:]"
   ]
  },
  {
   "cell_type": "code",
   "execution_count": 134,
   "metadata": {},
   "outputs": [
    {
     "name": "stdout",
     "output_type": "stream",
     "text": [
      "Postive top 10 important features are:\n",
      "('not', -7.379860052973118)\n",
      "('great', -7.525904687213078)\n",
      "('good', -7.558872859566983)\n",
      "('like', -7.61588158055979)\n",
      "('love', -7.689168918203227)\n",
      "('one', -7.719770238463394)\n",
      "('taste', -7.787055910454703)\n",
      "('flavor', -7.797397970786566)\n",
      "('product', -7.8424470684926755)\n",
      "('would', -7.854653195750899)\n"
     ]
    }
   ],
   "source": [
    "import operator\n",
    "imp_features = {}\n",
    "feature_names= tf_idf_vect.get_feature_names()\n",
    "for i in range(len(feature_names)):\n",
    "    imp_features[feature_names[i]] = Positive_features_t[i]\n",
    "names_diff_sorted = sorted(imp_features.items(), key = operator.itemgetter(1), reverse = True)\n",
    "print(\"Postive top 10 important features are:\")\n",
    "for i in range(10):\n",
    "    print(names_diff_sorted[i])"
   ]
  },
  {
   "cell_type": "code",
   "execution_count": 135,
   "metadata": {},
   "outputs": [
    {
     "name": "stdout",
     "output_type": "stream",
     "text": [
      "\n",
      "\n",
      "Negative top 10 important features are:\n",
      "('not', -7.360186952713487)\n",
      "('would', -7.88052413097361)\n",
      "('like', -7.9323190120825675)\n",
      "('taste', -7.9761518939439915)\n",
      "('product', -8.013504769268309)\n",
      "('bad', -8.08041113723279)\n",
      "('disappointed', -8.101471233802306)\n",
      "('one', -8.17097244701374)\n",
      "('would not', -8.176625446964355)\n",
      "('no', -8.194356817870478)\n"
     ]
    }
   ],
   "source": [
    "for i in range(len(feature_names)):\n",
    "    imp_features[feature_names[i]] = Negative_features_t[i]\n",
    "names_diff_sorted = sorted(imp_features.items(), key = operator.itemgetter(1), reverse = True)\n",
    "print(\"\\n\\nNegative top 10 important features are:\")\n",
    "for i in range(10):\n",
    "    print(names_diff_sorted[i])"
   ]
  },
  {
   "cell_type": "markdown",
   "metadata": {},
   "source": [
    "# FEATURE SELECTION"
   ]
  },
  {
   "cell_type": "markdown",
   "metadata": {},
   "source": [
    "### Selecting top 2000 features using SelectKBest"
   ]
  },
  {
   "cell_type": "code",
   "execution_count": 136,
   "metadata": {},
   "outputs": [
    {
     "data": {
      "text/plain": [
       "SelectKBest(k=10000, score_func=<function chi2 at 0x000001AC1AE9F1E0>)"
      ]
     },
     "execution_count": 136,
     "metadata": {},
     "output_type": "execute_result"
    }
   ],
   "source": [
    "from sklearn.feature_selection import SelectKBest\n",
    "from sklearn.feature_selection import chi2\n",
    "sel1 = SelectKBest(chi2, k=10000)\n",
    "sel1.fit(train_text_feature_norm,Y1_train)"
   ]
  },
  {
   "cell_type": "code",
   "execution_count": 137,
   "metadata": {},
   "outputs": [],
   "source": [
    "feature_train=sel1.transform(train_text_feature_norm).toarray()\n",
    "feature_cv=sel1.transform(cv_text_feature_norm).toarray()\n",
    "feature_test=sel1.transform(test_text_feature_norm).toarray()"
   ]
  },
  {
   "cell_type": "code",
   "execution_count": 138,
   "metadata": {},
   "outputs": [
    {
     "name": "stdout",
     "output_type": "stream",
     "text": [
      "alpha   log10(aplha) -----> CV AUC SCORE\n",
      "----------------------------------------------------\n",
      "1e-05   -5.0 -----> 0.8602432982953296\n",
      "0.0001   -4.0 -----> 0.8697200994690013\n",
      "0.001   -3.0 -----> 0.8823508221899833\n",
      "0.01   -2.0 -----> 0.8993713107085095\n",
      "0.1   -1.0 -----> 0.9191962386025704\n",
      "1   0.0 -----> 0.9310757116777852\n",
      "10   1.0 -----> 0.9220742019306689\n",
      "100   2.0 -----> 0.8867467179884769\n",
      "1000   3.0 -----> 0.8717152344838949\n",
      "10000   4.0 -----> 0.8695535076784933\n",
      "100000   5.0 -----> 0.8693300871733012\n"
     ]
    },
    {
     "data": {
      "image/png": "[encoded data removed]",
      "text/plain": [
       "<Figure size 432x288 with 1 Axes>"
      ]
     },
     "metadata": {},
     "output_type": "display_data"
    }
   ],
   "source": [
    "from sklearn.metrics import roc_auc_score\n",
    "import matplotlib.pyplot as plt\n",
    "\n",
    "train_auc_t = []\n",
    "cv_auc_t = []\n",
    "alpha=[0.00001,0.0001,0.001,0.01,0.1,1,10,100,1000,10000,100000]\n",
    "print(\"alpha\",\" \",\"log10(aplha)\",\"----->\",\"CV AUC SCORE\")\n",
    "print(\"----------------------------------------------------\")\n",
    "for i in alpha:\n",
    "    Mtfidf =MultinomialNB(alpha = i,fit_prior = False)\n",
    "    Mtfidf.fit(feature_train, Y1_train)\n",
    "    \n",
    "    Y_train_pred =  Mtfidf.predict_proba(feature_train)[:,1]\n",
    "    Y_cv_pred =  Mtfidf.predict_proba(feature_cv)[:,1]\n",
    "    train_auc_score=roc_auc_score(Y1_train,Y_train_pred)\n",
    "    train_auc_t.append(train_auc_score)\n",
    "    cv_auc_score=roc_auc_score(Y1_cv, Y_cv_pred)\n",
    "    print(i,\" \",np.log10(i),\"----->\",cv_auc_score)\n",
    "    cv_auc_t.append(cv_auc_score)\n",
    "\n",
    "plt.plot(np.log10(alpha), train_auc_t, label='Train AUC')\n",
    "plt.plot(np.log10(alpha), cv_auc_t, label='CV AUC')\n",
    "plt.legend()\n",
    "plt.xlabel(\"Alpha: hyperparameter\")\n",
    "plt.ylabel(\"AUC\")\n",
    "plt.title(\"Alpha vs AUC plot\")\n",
    "plt.show()"
   ]
  },
  {
   "cell_type": "code",
   "execution_count": 139,
   "metadata": {},
   "outputs": [
    {
     "data": {
      "image/png": "[encoded data removed]",
      "text/plain": [
       "<Figure size 432x288 with 1 Axes>"
      ]
     },
     "metadata": {},
     "output_type": "display_data"
    }
   ],
   "source": [
    "# https://scikit-learn.org/stable/modules/generated/sklearn.metrics.roc_curve.html#sklearn.metrics.roc_curve\n",
    "from sklearn.metrics import roc_curve, auc\n",
    "\n",
    "\n",
    "Mtfidf1 =MultinomialNB(alpha = 1,fit_prior = False)\n",
    "Mtfidf1.fit(feature_train, Y1_train)\n",
    "# roc_auc_score(y_true, y_score) the 2nd parameter should be probability estimates of the positive class\n",
    "# not the predicted outputs\n",
    "\n",
    "cv_fpr,cv_tpr,threshold = roc_curve(Y1_cv,Mtfidf1.predict_proba(feature_cv)[:,1])\n",
    "train_fpr, train_tpr, thresholds = roc_curve(Y1_train, Mtfidf1.predict_proba(feature_train)[:,1])\n",
    "test_fpr, test_tpr, thresholds = roc_curve(Y1_test, Mtfidf1.predict_proba(feature_test)[:,1])\n",
    "plt.plot(cv_fpr, cv_tpr, label=\"CV AUC =\"+str(auc(cv_fpr, cv_tpr)))\n",
    "plt.plot(train_fpr, train_tpr, label=\"train AUC =\"+str(auc(train_fpr, train_tpr)))\n",
    "plt.plot(test_fpr, test_tpr, label=\"test AUC =\"+str(auc(test_fpr, test_tpr)))\n",
    "plt.plot([0,1],[0,1],linewidth=3.0)\n",
    "plt.legend()\n",
    "plt.xlabel(\"False positive rate\")\n",
    "plt.ylabel(\"True positive rate\")\n",
    "plt.title(\"ROC curve\")\n",
    "plt.show()"
   ]
  },
  {
   "cell_type": "code",
   "execution_count": 140,
   "metadata": {},
   "outputs": [
    {
     "data": {
      "image/png": "[encoded data removed]",
      "text/plain": [
       "<Figure size 432x288 with 2 Axes>"
      ]
     },
     "metadata": {},
     "output_type": "display_data"
    }
   ],
   "source": [
    "import seaborn as sb\n",
    "C_t = confusion_matrix(Y1_test,Mtfidf1.predict(feature_test))\n",
    "class_label = ['0-negative', '1-positive']\n",
    "df_conf_matrix = pd.DataFrame(\n",
    "    C_t, index=class_label, columns=class_label)\n",
    "sb.heatmap(df_conf_matrix, annot=True, fmt='d')\n",
    "plt.title(\"Confusion Matrix\")\n",
    "plt.xlabel(\"Actual\")\n",
    "plt.ylabel(\"Predicted\")\n",
    "plt.show()"
   ]
  },
  {
   "cell_type": "code",
   "execution_count": 141,
   "metadata": {},
   "outputs": [
    {
     "data": {
      "image/png": "[encoded data removed]",
      "text/plain": [
       "<Figure size 432x288 with 2 Axes>"
      ]
     },
     "metadata": {},
     "output_type": "display_data"
    }
   ],
   "source": [
    "B =(C_t/C_t.sum(axis=0))\n",
    "df_conf_matrix = pd.DataFrame(\n",
    "    B, index=class_label, columns=class_label)\n",
    "sb.heatmap(df_conf_matrix, annot=True, fmt='.3f')\n",
    "plt.title(\"Precision matrix\")\n",
    "plt.xlabel(\"Predicted\")\n",
    "plt.ylabel(\"Actual\")\n",
    "plt.show()"
   ]
  },
  {
   "cell_type": "code",
   "execution_count": 142,
   "metadata": {},
   "outputs": [
    {
     "data": {
      "image/png": "[encoded data removed]",
      "text/plain": [
       "<Figure size 432x288 with 2 Axes>"
      ]
     },
     "metadata": {},
     "output_type": "display_data"
    }
   ],
   "source": [
    "A =(((C_t.T)/(C_t.sum(axis=1))).T)\n",
    "df_conf_matrix = pd.DataFrame(\n",
    "    A, index=class_label, columns=class_label)\n",
    "sb.heatmap(df_conf_matrix, annot=True, fmt='.3f')\n",
    "plt.title(\"Recall matrix \")\n",
    "plt.xlabel(\"Predicted\")\n",
    "plt.ylabel(\"Actual\")\n",
    "plt.show()"
   ]
  },
  {
   "cell_type": "markdown",
   "metadata": {},
   "source": [
    "## Using new feature Length"
   ]
  },
  {
   "cell_type": "code",
   "execution_count": 143,
   "metadata": {},
   "outputs": [],
   "source": [
    "from scipy.sparse import hstack\n",
    "train_x_hstack = hstack((train_text_feature_norm, train_count)).tocsr()\n",
    "train_y_hstack = np.array(list(Y1_train))"
   ]
  },
  {
   "cell_type": "code",
   "execution_count": 144,
   "metadata": {},
   "outputs": [],
   "source": [
    "cv_x_hstack = hstack((cv_text_feature_norm, cv_count)).tocsr()\n",
    "cv_y_hstack = np.array(list(Y1_cv))"
   ]
  },
  {
   "cell_type": "code",
   "execution_count": 145,
   "metadata": {},
   "outputs": [],
   "source": [
    "test_x_hstack = hstack((test_text_feature_norm,test_count )).tocsr()\n",
    "test_y_hstack = np.array(list(Y1_test))"
   ]
  },
  {
   "cell_type": "code",
   "execution_count": 146,
   "metadata": {},
   "outputs": [
    {
     "name": "stdout",
     "output_type": "stream",
     "text": [
      "(number of data points * number of features) in train data =  (56174, 32778)\n",
      "(number of data points * number of features) in test data =  (17555, 32778)\n",
      "(number of data points * number of features) in cross validation data = (14044, 32778)\n"
     ]
    }
   ],
   "source": [
    "print(\"(number of data points * number of features) in train data = \", train_x_hstack.shape)\n",
    "print(\"(number of data points * number of features) in test data = \", test_x_hstack.shape)\n",
    "print(\"(number of data points * number of features) in cross validation data =\", cv_x_hstack.shape)"
   ]
  },
  {
   "cell_type": "code",
   "execution_count": 147,
   "metadata": {},
   "outputs": [
    {
     "name": "stdout",
     "output_type": "stream",
     "text": [
      "alpha   log10(aplha) -----> CV AUC SCORE\n",
      "----------------------------------------------------\n",
      "1e-05   -5.0 -----> 0.8493768078770079\n",
      "0.0001   -4.0 -----> 0.8627126429719052\n",
      "0.001   -3.0 -----> 0.8803315638184122\n",
      "0.01   -2.0 -----> 0.9022354274462283\n",
      "0.1   -1.0 -----> 0.9237812990185976\n",
      "1   0.0 -----> 0.9219505201468071\n",
      "10   1.0 -----> 0.8966763098793367\n",
      "100   2.0 -----> 0.8706585665555298\n",
      "1000   3.0 -----> 0.8563663251066196\n",
      "10000   4.0 -----> 0.8543214289075483\n",
      "100000   5.0 -----> 0.8541036696385271\n"
     ]
    },
    {
     "data": {
      "image/png": "[encoded data removed]",
      "text/plain": [
       "<Figure size 432x288 with 1 Axes>"
      ]
     },
     "metadata": {},
     "output_type": "display_data"
    }
   ],
   "source": [
    "from sklearn.metrics import roc_auc_score\n",
    "import matplotlib.pyplot as plt\n",
    "\n",
    "train_auc_t = []\n",
    "cv_auc_t = []\n",
    "alpha=[0.00001,0.0001,0.001,0.01,0.1,1,10,100,1000,10000,100000]\n",
    "print(\"alpha\",\" \",\"log10(aplha)\",\"----->\",\"CV AUC SCORE\")\n",
    "print(\"----------------------------------------------------\")\n",
    "for i in alpha:\n",
    "    Mtfidf_n =MultinomialNB(alpha = i,fit_prior = False)\n",
    "    Mtfidf_n.fit(train_x_hstack, Y1_train)\n",
    "    Y_train_pred =  Mtfidf_n.predict_proba(train_x_hstack)[:,1]\n",
    "    Y_cv_pred =  Mtfidf_n.predict_proba(cv_x_hstack)[:,1]\n",
    "    train_auc_score=roc_auc_score(train_y_hstack,Y_train_pred)\n",
    "    train_auc_t.append(train_auc_score)\n",
    "    cv_auc_score=roc_auc_score(cv_y_hstack, Y_cv_pred)\n",
    "    print(i,\" \",np.log10(i),\"----->\",cv_auc_score)\n",
    "    cv_auc_t.append(cv_auc_score)\n",
    "\n",
    "plt.plot(np.log10(alpha), train_auc_t, label='Train AUC')\n",
    "plt.plot(np.log10(alpha), cv_auc_t, label='CV AUC')\n",
    "plt.legend()\n",
    "plt.xlabel(\"Alpha: hyperparameter\")\n",
    "plt.ylabel(\"AUC\")\n",
    "plt.title(\"Alpha vs AUC plot\")\n",
    "plt.show()"
   ]
  },
  {
   "cell_type": "code",
   "execution_count": 148,
   "metadata": {},
   "outputs": [
    {
     "data": {
      "image/png": "[encoded data removed]",
      "text/plain": [
       "<Figure size 432x288 with 1 Axes>"
      ]
     },
     "metadata": {},
     "output_type": "display_data"
    }
   ],
   "source": [
    "# https://scikit-learn.org/stable/modules/generated/sklearn.metrics.roc_curve.html#sklearn.metrics.roc_curve\n",
    "from sklearn.metrics import roc_curve, auc\n",
    "\n",
    "\n",
    "Mtfidf_n1 =MultinomialNB(alpha = 1,fit_prior = False)\n",
    "Mtfidf_n1.fit(train_x_hstack, train_y_hstack)\n",
    "# roc_auc_score(y_true, y_score) the 2nd parameter should be probability estimates of the positive class\n",
    "# not the predicted outputs\n",
    "\n",
    "cv_fpr,cv_tpr,threshold = roc_curve(cv_y_hstack,Mtfidf_n1.predict_proba(cv_x_hstack)[:,1])\n",
    "train_fpr, train_tpr, thresholds = roc_curve(train_y_hstack,Mtfidf_n1.predict_proba(train_x_hstack)[:,1])\n",
    "test_fpr, test_tpr, thresholds = roc_curve(test_y_hstack, Mtfidf_n1.predict_proba(test_x_hstack)[:,1])\n",
    "plt.plot(cv_fpr, cv_tpr, label=\"CV AUC =\"+str(auc(cv_fpr, cv_tpr)))\n",
    "plt.plot(train_fpr, train_tpr, label=\"train AUC =\"+str(auc(train_fpr, train_tpr)))\n",
    "plt.plot(test_fpr, test_tpr, label=\"test AUC =\"+str(auc(test_fpr, test_tpr)))\n",
    "plt.plot([0,1],[0,1],linewidth=3.0)\n",
    "plt.legend()\n",
    "plt.xlabel(\"False positive rate\")\n",
    "plt.ylabel(\"True positive rate\")\n",
    "plt.title(\"ROC curve\")\n",
    "plt.show()"
   ]
  },
  {
   "cell_type": "code",
   "execution_count": 149,
   "metadata": {},
   "outputs": [
    {
     "data": {
      "image/png": "[encoded data removed]",
      "text/plain": [
       "<Figure size 432x288 with 2 Axes>"
      ]
     },
     "metadata": {},
     "output_type": "display_data"
    }
   ],
   "source": [
    "import seaborn as sb\n",
    "C_t1 = confusion_matrix(test_y_hstack,Mtfidf_n1.predict(test_x_hstack))\n",
    "class_label = ['0-negative', '1-positive']\n",
    "df_conf_matrix = pd.DataFrame(\n",
    "    C_t1, index=class_label, columns=class_label)\n",
    "sb.heatmap(df_conf_matrix, annot=True, fmt='d')\n",
    "plt.title(\"Confusion Matrix\")\n",
    "plt.xlabel(\"Actual\")\n",
    "plt.ylabel(\"Predicted\")\n",
    "plt.show()"
   ]
  },
  {
   "cell_type": "code",
   "execution_count": 150,
   "metadata": {},
   "outputs": [
    {
     "data": {
      "image/png": "[encoded data removed]",
      "text/plain": [
       "<Figure size 432x288 with 2 Axes>"
      ]
     },
     "metadata": {},
     "output_type": "display_data"
    }
   ],
   "source": [
    "B =(C_t1/C_t1.sum(axis=0))\n",
    "df_conf_matrix = pd.DataFrame(\n",
    "    B, index=class_label, columns=class_label)\n",
    "sb.heatmap(df_conf_matrix, annot=True, fmt='.3f')\n",
    "plt.title(\"Precision matrix\")\n",
    "plt.xlabel(\"Predicted\")\n",
    "plt.ylabel(\"Actual\")\n",
    "plt.show()"
   ]
  },
  {
   "cell_type": "code",
   "execution_count": 151,
   "metadata": {},
   "outputs": [
    {
     "data": {
      "image/png": "[encoded data removed]",
      "text/plain": [
       "<Figure size 432x288 with 2 Axes>"
      ]
     },
     "metadata": {},
     "output_type": "display_data"
    }
   ],
   "source": [
    "A =(((C_t1.T)/(C_t1.sum(axis=1))).T)\n",
    "df_conf_matrix = pd.DataFrame(\n",
    "    A, index=class_label, columns=class_label)\n",
    "sb.heatmap(df_conf_matrix, annot=True, fmt='.3f')\n",
    "plt.title(\"Recall matrix \")\n",
    "plt.xlabel(\"Predicted\")\n",
    "plt.ylabel(\"Actual\")\n",
    "plt.show()"
   ]
  },
  {
   "cell_type": "code",
   "execution_count": 152,
   "metadata": {},
   "outputs": [],
   "source": [
    "Positive_features_tn = Mtfidf_n1.feature_log_prob_[1,:]\n",
    "Negative_features_tn = Mtfidf_n1.feature_log_prob_[0,:]"
   ]
  },
  {
   "cell_type": "code",
   "execution_count": 153,
   "metadata": {},
   "outputs": [
    {
     "name": "stdout",
     "output_type": "stream",
     "text": [
      "Postive top 10 important features are:\n",
      "('not', -7.606418371649484)\n",
      "('great', -7.752463005889444)\n",
      "('good', -7.785431178243349)\n",
      "('like', -7.842439899236156)\n",
      "('love', -7.915727236879593)\n",
      "('one', -7.94632855713976)\n",
      "('taste', -8.013614229131068)\n",
      "('flavor', -8.023956289462932)\n",
      "('product', -8.069005387169042)\n",
      "('would', -8.081211514427265)\n"
     ]
    }
   ],
   "source": [
    "imp_features = {}\n",
    "feature_names= tf_idf_vect.get_feature_names()\n",
    "for i in range(len(feature_names)):\n",
    "    imp_features[feature_names[i]] = Positive_features_tn[i]\n",
    "names_diff_sorted = sorted(imp_features.items(), key = operator.itemgetter(1), reverse = True)\n",
    "print(\"Postive top 10 important features are:\")\n",
    "for i in range(10):\n",
    "    print(names_diff_sorted[i])"
   ]
  },
  {
   "cell_type": "code",
   "execution_count": 154,
   "metadata": {},
   "outputs": [
    {
     "name": "stdout",
     "output_type": "stream",
     "text": [
      "\n",
      "\n",
      "Negative top 10 important features are:\n",
      "('not', -7.4899131803248125)\n",
      "('would', -8.010250358584935)\n",
      "('like', -8.062045239693893)\n",
      "('taste', -8.105878121555318)\n",
      "('product', -8.143230996879634)\n",
      "('bad', -8.210137364844115)\n",
      "('disappointed', -8.23119746141363)\n",
      "('one', -8.300698674625066)\n",
      "('would not', -8.30635167457568)\n",
      "('no', -8.324083045481803)\n"
     ]
    }
   ],
   "source": [
    "for i in range(len(feature_names)):\n",
    "    imp_features[feature_names[i]] = Negative_features_tn[i]\n",
    "names_diff_sorted = sorted(imp_features.items(), key = operator.itemgetter(1), reverse = True)\n",
    "print(\"\\n\\nNegative top 10 important features are:\")\n",
    "for i in range(10):\n",
    "    print(names_diff_sorted[i])"
   ]
  },
  {
   "cell_type": "markdown",
   "metadata": {},
   "source": [
    "## OBSERVATIONS"
   ]
  },
  {
   "cell_type": "markdown",
   "metadata": {},
   "source": [
    "1] When we apply Multinomial Naive Bayes to Tfidf we get Test AUC as 93.09.<br>\n",
    "2] When we perform feature selection(top 10000 features) among 32777 features we get Test AUC as 92.82.<br>\n",
    "3] On performing featurization we get Test AUC as 92.22.<br>\n",
    "4] Multinomial Naive Bayes performed better than Knn on Tfidf"
   ]
  },
  {
   "cell_type": "markdown",
   "metadata": {},
   "source": [
    "## CONCLUSIONS:"
   ]
  },
  {
   "cell_type": "code",
   "execution_count": 72,
   "metadata": {},
   "outputs": [
    {
     "name": "stdout",
     "output_type": "stream",
     "text": [
      "+--------------------------------------------------------------------------+\n",
      "|                  NAIVE BAYES ON DIFFERENT FEATURIZATION                  |\n",
      "+------------+---------------------+---------------------------+-----------+\n",
      "| Vectorizer |      Algorithm      | Best Hyperparameter:alpha | AUC score |\n",
      "+------------+---------------------+---------------------------+-----------+\n",
      "| BOW        |       Normal        |             1             |   86.20   |\n",
      "|            |  Feature Selection  |            0.1            |   86.23   |\n",
      "|            |    Featurization    |            0.1            |   85.40   |\n",
      "|            |     ------------    |                           |           |\n",
      "| tfidf      |       Normal        |             1             |   93.09   |\n",
      "|            |  Feature Selection  |             1             |   92.82   |\n",
      "|            |    Featurization    |             1             |   92.22   |\n",
      "|            |     ------------    |                           |           |\n",
      "+------------+---------------------+---------------------------+-----------+\n"
     ]
    }
   ],
   "source": [
    "from prettytable import PrettyTable\n",
    "    \n",
    "x = PrettyTable([\"Vectorizer\", \"Algorithm\", \"Best Hyperparameter:alpha\",\"AUC score\"])\n",
    "x.align[\"Vectorizer\"] = \"l\"\n",
    "x.add_row([\"BOW\",\"Normal \\n Feature Selection \\n Featurization \\n ------------\",\"1\\n0.1\\n0.1\",\"86.20\\n86.23\\n85.40\"])\n",
    "x.add_row([\"tfidf\",\"Normal \\n Feature Selection \\n Featurization \\n ------------\",\"1\\n1\\n1\",\"93.09\\n92.82\\n92.22\"])\n",
    "\n",
    "print(x.get_string(title=\"NAIVE BAYES ON DIFFERENT FEATURIZATION\"))"
   ]
  },
  {
   "cell_type": "markdown",
   "metadata": {},
   "source": [
    "1] Multinomial Naive Bayes performed better  than KNN on Anazon Food Review Dataset.<br>\n",
    "2] Naive Bayes with Tfidf model has more accuracy than BOW model here.<br>\n",
    "3] In BOW Test AUC increased slightly when we perform feature selection.\n"
   ]
  },
  {
   "cell_type": "code",
   "execution_count": null,
   "metadata": {},
   "outputs": [],
   "source": []
  }
 ],
 "metadata": {
  "colab": {
   "name": "04 Amazon Fine Food Reviews Analysis_NaiveBayes.ipynb",
   "provenance": [],
   "version": "0.3.2"
  },
  "kernelspec": {
   "display_name": "Python 3",
   "language": "python",
   "name": "python3"
  },
  "language_info": {
   "codemirror_mode": {
    "name": "ipython",
    "version": 3
   },
   "file_extension": ".py",
   "mimetype": "text/x-python",
   "name": "python",
   "nbconvert_exporter": "python",
   "pygments_lexer": "ipython3",
   "version": "3.6.5"
  }
 },
 "nbformat": 4,
 "nbformat_minor": 1
}
